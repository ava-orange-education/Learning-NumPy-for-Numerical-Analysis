{
  "nbformat": 4,
  "nbformat_minor": 0,
  "metadata": {
    "colab": {
      "provenance": []
    },
    "kernelspec": {
      "name": "python3",
      "display_name": "Python 3"
    },
    "language_info": {
      "name": "python"
    }
  },
  "cells": [
    {
      "cell_type": "code",
      "source": [
        "#Printing current Python and NumPy verison which is used\n",
        "import sys\n",
        "print (\"Current Python Version :{}\".format(sys.version))\n",
        "print(\"Current Numpy  verison :{}\".format(np.__version__))\n"
      ],
      "metadata": {
        "colab": {
          "base_uri": "https://localhost:8080/"
        },
        "id": "Qsflc1c8ybUm",
        "outputId": "431dfba6-45d4-40ba-da91-cf610f02ec88"
      },
      "execution_count": null,
      "outputs": [
        {
          "output_type": "stream",
          "name": "stdout",
          "text": [
            "Current Python Version :3.10.12 (main, Jun 11 2023, 05:26:28) [GCC 11.4.0]\n",
            "Current Numpy  verison :1.23.5\n"
          ]
        }
      ]
    },
    {
      "cell_type": "code",
      "source": [
        "import time\n",
        "import numpy as np\n",
        "\n",
        "# Using Python Loop\n",
        "list1 = list(range(1000000))\n",
        "list2 = list(range(1000000))\n",
        "\n",
        "# Start the clock\n",
        "start_time_python = time.time()\n",
        "\n",
        "# Adding elements of two lists using a loop\n",
        "sum_list = [list1[i] + list2[i] for i in range(1000000)]\n",
        "\n",
        "# Stop the clock\n",
        "end_time_python = time.time()\n",
        "\n",
        "# Calculating time taken\n",
        "time_taken_python = end_time_python - start_time_python\n",
        "print(f\"Time taken using Python loop: {time_taken_python:.5f} seconds\")"
      ],
      "metadata": {
        "colab": {
          "base_uri": "https://localhost:8080/"
        },
        "id": "lKy5NnsLavQL",
        "outputId": "d9fcc20a-85e2-445f-aaa9-5489b0a5a6a8"
      },
      "execution_count": null,
      "outputs": [
        {
          "output_type": "stream",
          "name": "stdout",
          "text": [
            "Time taken using Python loop: 0.13975 seconds\n"
          ]
        }
      ]
    },
    {
      "cell_type": "code",
      "source": [
        "# Using NumPy\n",
        "arr1 = np.arange(1000000)\n",
        "arr2 = np.arange(1000000)\n",
        "\n",
        "# Start the clock\n",
        "start_time_numpy = time.time()\n",
        "\n",
        "# Adding elements of two arrays using NumPy\n",
        "sum_array = arr1 + arr2\n",
        "\n",
        "# Stop the clock\n",
        "end_time_numpy = time.time()\n",
        "\n",
        "# Calculating time taken\n",
        "time_taken_numpy = end_time_numpy - start_time_numpy\n",
        "print(f\"Time taken using NumPy: {time_taken_numpy:.5f} seconds\")"
      ],
      "metadata": {
        "colab": {
          "base_uri": "https://localhost:8080/"
        },
        "id": "uLeoIIjy3ZXS",
        "outputId": "16eab716-48fa-47e3-d284-08b031a4b420"
      },
      "execution_count": null,
      "outputs": [
        {
          "output_type": "stream",
          "name": "stdout",
          "text": [
            "Time taken using NumPy: 0.00238 seconds\n"
          ]
        }
      ]
    },
    {
      "cell_type": "code",
      "source": [
        "# Calculating how much faster NumPy is than Python\n",
        "speed_increase = time_taken_python / time_taken_numpy\n",
        "print(f\"NumPy is approximately {speed_increase:.2f} times faster than traditional Python loops!\")"
      ],
      "metadata": {
        "colab": {
          "base_uri": "https://localhost:8080/"
        },
        "id": "OUL8idy-4Riy",
        "outputId": "552c80cd-5610-430c-ff07-c7d155372947"
      },
      "execution_count": null,
      "outputs": [
        {
          "output_type": "stream",
          "name": "stdout",
          "text": [
            "NumPy is approximately 58.70 times faster than traditional Python loops!\n"
          ]
        }
      ]
    },
    {
      "cell_type": "code",
      "source": [],
      "metadata": {
        "id": "dDzbiDw0a7Nu"
      },
      "execution_count": null,
      "outputs": []
    }
  ]
}