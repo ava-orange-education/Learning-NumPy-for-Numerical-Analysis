{
  "cells": [
    {
      "cell_type": "markdown",
      "metadata": {
        "id": "EnPMd2pFiy-T"
      },
      "source": [
        "# NumPy Data Types\n",
        "NumPy provides a range of integer and floating-point data types based on their bit representation.In this notebook, we will explore each type, its use case, and provide a coding example with an explanation."
      ],
      "id": "EnPMd2pFiy-T"
    },
    {
      "cell_type": "markdown",
      "source": [
        "# **Creating a NumPy Array With DataType**"
      ],
      "metadata": {
        "id": "f_1ahy8uBTKN"
      },
      "id": "f_1ahy8uBTKN"
    },
    {
      "cell_type": "code",
      "source": [
        "import numpy as np\n",
        "\n",
        "# Create an array of integers\n",
        "int_array = np.array([1, 2, 2, 2, 2], dtype='int8')\n",
        "print(\"Integer Array:\", int_array)\n",
        "print(\"Data Type:\", int_array.dtype)"
      ],
      "metadata": {
        "colab": {
          "base_uri": "https://localhost:8080/"
        },
        "id": "RS_mwLnWBRgg",
        "outputId": "9ae4c237-f5f7-4e09-9272-ae7beef231b3"
      },
      "id": "RS_mwLnWBRgg",
      "execution_count": 5,
      "outputs": [
        {
          "output_type": "stream",
          "name": "stdout",
          "text": [
            "Integer Array: [1 2 2 2 2]\n",
            "Data Type: int8\n"
          ]
        }
      ]
    },
    {
      "cell_type": "markdown",
      "source": [
        "### **General Type characters**"
      ],
      "metadata": {
        "id": "iuL3H0k7A1pA"
      },
      "id": "iuL3H0k7A1pA"
    },
    {
      "cell_type": "code",
      "source": [
        "# Using general type character i\n",
        "import numpy as np\n",
        "# integer might default to int32 or int64 based on system\n",
        "arr_i = np.array([1, 2, 2, 2, 2], dtype='i')\n",
        "print(\"Array with general type character 'i':\", arr_i)\n",
        "print(\"dtype of created array arr_i :\",arr_i.dtype)\n",
        "\n"
      ],
      "metadata": {
        "colab": {
          "base_uri": "https://localhost:8080/"
        },
        "id": "lwm4Kkb5BLj8",
        "outputId": "ad27d692-a7fc-4794-da81-1408d32748a2"
      },
      "id": "lwm4Kkb5BLj8",
      "execution_count": 6,
      "outputs": [
        {
          "output_type": "stream",
          "name": "stdout",
          "text": [
            "Array with general type character 'i': [1 2 2 2 2]\n",
            "dtype of created array arr_i : int32\n"
          ]
        }
      ]
    },
    {
      "cell_type": "code",
      "source": [
        "# Using general type character b\n",
        "import numpy as np\n",
        "arr_b = np.array([True, False, True], dtype='b')  # boolean\n",
        "print(\"Array with general type character 'b':\", arr_b)\n",
        "print(\"dtype of created array arr_b\",arr_b.dtype)\n",
        "\n"
      ],
      "metadata": {
        "id": "Ce7u4o_CMBiy",
        "colab": {
          "base_uri": "https://localhost:8080/"
        },
        "outputId": "6dbd91a4-d107-450e-9e5c-5e892cfa85f7"
      },
      "id": "Ce7u4o_CMBiy",
      "execution_count": 7,
      "outputs": [
        {
          "output_type": "stream",
          "name": "stdout",
          "text": [
            "Array with general type character 'b': [1 0 1]\n",
            "dtype of created array arr_b int8\n"
          ]
        }
      ]
    },
    {
      "cell_type": "code",
      "source": [
        "# Using specific type strings - int8\n",
        "\n",
        "# signed 8-bit integer\n",
        "arr_int8 = np.array([1, 2, 3], dtype='int8')\n",
        "print(\"Array with specific type string 'int8':\", arr_int8)\n",
        "print(\"dtype of created array arr_int8:\",arr_int8.dtype)\n"
      ],
      "metadata": {
        "colab": {
          "base_uri": "https://localhost:8080/"
        },
        "id": "ieu5TJed2IV9",
        "outputId": "319542c4-4d0c-422d-fc93-bd85fa3464fb"
      },
      "id": "ieu5TJed2IV9",
      "execution_count": 8,
      "outputs": [
        {
          "output_type": "stream",
          "name": "stdout",
          "text": [
            "Array with specific type string 'int8': [1 2 3]\n",
            "dtype of created array arr_int8: int8\n"
          ]
        }
      ]
    },
    {
      "cell_type": "code",
      "source": [
        "# # Using specific type strings\n",
        "# arr_int8 = np.array([1, 2, 3], dtype='int8')  # signed 8-bit integer\n",
        "# print(\"Array with specific type string 'int8':\", arr_int8)\n",
        "\n",
        "# arr_float32 = np.array([1.5, 2.5, 3.5], dtype='float32')  # 32-bit floating point\n",
        "# print(\"Array with specific type string 'float32':\", arr_float32)\n",
        "\n",
        "# arr_str = np.array(['apple', 'banana', 'cherry'], dtype='str')  # string\n",
        "# print(\"Array with specific type string 'str':\", arr_str)\n"
      ],
      "metadata": {
        "id": "lMdHRheQMJNn"
      },
      "id": "lMdHRheQMJNn",
      "execution_count": 9,
      "outputs": []
    },
    {
      "cell_type": "markdown",
      "metadata": {
        "id": "BCd3SsNYiy-V"
      },
      "source": [
        "# NumPy Integer Data Types\n",
        "NumPy provides various integer data types based on their bit representation.In this notebook, we will explore each type, its use case, and provide a coding example with an explanation."
      ],
      "id": "BCd3SsNYiy-V"
    },
    {
      "cell_type": "markdown",
      "metadata": {
        "id": "_C9BLgcmiy-V"
      },
      "source": [
        "### int8\n",
        "**Use Case**: int8 stands for \"8-bit integer.\" It can represent whole numbers ranging from -128 to 127. This data type can be useful when you're trying to save memory and are certain that the numbers won't go outside this range."
      ],
      "id": "_C9BLgcmiy-V"
    },
    {
      "cell_type": "code",
      "metadata": {
        "id": "zDqU59jjiy-V",
        "colab": {
          "base_uri": "https://localhost:8080/"
        },
        "outputId": "b1a9a9e0-1e5a-4ad5-9223-df8a0bb35310"
      },
      "source": [
        "import numpy as np\n",
        "arr_int8 = np.array([-100, 0, 100], dtype='int8')\n",
        "print(arr_int8)\n",
        "print(arr_int8.dtype)"
      ],
      "outputs": [
        {
          "output_type": "stream",
          "name": "stdout",
          "text": [
            "[-100    0  100]\n",
            "int8\n"
          ]
        }
      ],
      "id": "zDqU59jjiy-V",
      "execution_count": 10
    },
    {
      "cell_type": "markdown",
      "metadata": {
        "id": "4pmozc6jiy-W"
      },
      "source": [
        "### int16\n",
        "**Use Case**: int16 stands for \"16-bit integer.\" It can represent whole numbers ranging from -32,768 to 32,767. It's suitable when you need a larger range than int8 but still want to be memory efficient."
      ],
      "id": "4pmozc6jiy-W"
    },
    {
      "cell_type": "code",
      "metadata": {
        "id": "wrLzMkWQiy-W",
        "colab": {
          "base_uri": "https://localhost:8080/"
        },
        "outputId": "7ad3adb9-8ec1-492c-95ee-46fce0e70800"
      },
      "source": [
        "arr_int16 = np.array([-30000, 0, 30000], dtype='int16')\n",
        "print(arr_int16)\n",
        "print(arr_int16.dtype)"
      ],
      "outputs": [
        {
          "output_type": "stream",
          "name": "stdout",
          "text": [
            "[-30000      0  30000]\n",
            "int16\n"
          ]
        }
      ],
      "id": "wrLzMkWQiy-W",
      "execution_count": 11
    },
    {
      "cell_type": "markdown",
      "metadata": {
        "id": "-nMogJg8iy-X"
      },
      "source": [
        "### int32\n",
        "**Use Case**: int32 stands for \"32-bit integer.\" It can represent whole numbers ranging from roughly -2 billion to 2 billion. This is the default integer type in many systems and is suitable for most general purposes."
      ],
      "id": "-nMogJg8iy-X"
    },
    {
      "cell_type": "code",
      "metadata": {
        "id": "J9kjuaK1iy-X",
        "colab": {
          "base_uri": "https://localhost:8080/"
        },
        "outputId": "50b135b6-3e5e-4ef2-c141-37d45c725e23"
      },
      "source": [
        "arr_int32 = np.array([-1000000000, 0, 1000000000], dtype='int32')\n",
        "print(arr_int32)\n",
        "print(arr_int32.dtype)"
      ],
      "outputs": [
        {
          "output_type": "stream",
          "name": "stdout",
          "text": [
            "[-1000000000           0  1000000000]\n",
            "int32\n"
          ]
        }
      ],
      "id": "J9kjuaK1iy-X",
      "execution_count": 12
    },
    {
      "cell_type": "markdown",
      "metadata": {
        "id": "i_JxfkDJiy-X"
      },
      "source": [
        "### int64\n",
        "**Use Case**: int64 stands for \"64-bit integer.\" It can represent extremely large or small whole numbers. It's useful when working with big data or when exact large counts are required."
      ],
      "id": "i_JxfkDJiy-X"
    },
    {
      "cell_type": "code",
      "metadata": {
        "id": "hJrNGPyniy-X",
        "colab": {
          "base_uri": "https://localhost:8080/"
        },
        "outputId": "1f51bd13-a5e6-4b99-84b8-c5b105552fe3"
      },
      "source": [
        "arr_int64 = np.array([-10000000000000, 0, 10000000000000], dtype='int64')\n",
        "print(arr_int64)\n",
        "print(arr_int64.dtype)"
      ],
      "outputs": [
        {
          "output_type": "stream",
          "name": "stdout",
          "text": [
            "[-10000000000000               0  10000000000000]\n",
            "int64\n"
          ]
        }
      ],
      "id": "hJrNGPyniy-X",
      "execution_count": 13
    },
    {
      "cell_type": "markdown",
      "metadata": {
        "id": "m-fP-d2miy-Y"
      },
      "source": [
        "## (3) u - Unsigned Integer\n",
        "\n",
        "NumPy provides various unsigned integer data types based on their bit representation like int8, int16, int32, and int64.\n",
        "\n",
        "Using ``` type='u' ``` directly in this manner might raise an error in some versions of NumPy because the character code 'u' for unsigned integers is somewhat ambiguous. Instead, it's typically better to specify the exact unsigned integer type you want, such as 'uint8', 'uint16', 'uint32', etc.\n",
        "\n",
        "**Use Case**: When you have non-negative whole numbers, like in image data where pixel values range from 0 to 255.\n",
        "\n",
        "**Explanation**:- We're possibly dealing with pixel values of an image.- The `dtype='u'` specifies non-negative integers."
      ],
      "id": "m-fP-d2miy-Y"
    },
    {
      "cell_type": "markdown",
      "metadata": {
        "id": "eZyrWDKUiy-Y"
      },
      "source": [
        "### uint8\n",
        "**Range**: 0 to 255\n",
        "\n",
        "**Use Case**: Used in image processing where pixel values typically range from 0 (black) to 255 (white)."
      ],
      "id": "eZyrWDKUiy-Y"
    },
    {
      "cell_type": "code",
      "metadata": {
        "id": "actRxdcqiy-Y",
        "colab": {
          "base_uri": "https://localhost:8080/"
        },
        "outputId": "09758ec5-24b9-48e4-d4ba-71246b2c4d1c"
      },
      "source": [
        "# Using specific type strings uint8\n",
        "import numpy as np\n",
        "arr_uint8 = np.array([50, 100, 255], dtype='uint8')\n",
        "print(arr_uint8)\n",
        "print(arr_uint8.dtype)"
      ],
      "outputs": [
        {
          "output_type": "stream",
          "name": "stdout",
          "text": [
            "[ 50 100 255]\n",
            "uint8\n"
          ]
        }
      ],
      "id": "actRxdcqiy-Y",
      "execution_count": 14
    },
    {
      "cell_type": "markdown",
      "metadata": {
        "id": "XLHcsWpOiy-Y"
      },
      "source": [
        "### uint16\n",
        "**Range**: 0 to 65,535\n",
        "\n",
        "**Use Case**: Suitable for data that exceeds 255 but stays within the 65,535 limit, such as some medical images or high dynamic range photographs."
      ],
      "id": "XLHcsWpOiy-Y"
    },
    {
      "cell_type": "code",
      "metadata": {
        "id": "ofiIdP5Aiy-Y",
        "colab": {
          "base_uri": "https://localhost:8080/"
        },
        "outputId": "08cbf515-8039-448c-f087-9c29894852b5"
      },
      "source": [
        "arr_uint16 = np.array([30000, 50000, 65535], dtype='uint16')\n",
        "print(arr_uint16)\n",
        "print(arr_uint16.dtype)"
      ],
      "outputs": [
        {
          "output_type": "stream",
          "name": "stdout",
          "text": [
            "[30000 50000 65535]\n",
            "uint16\n"
          ]
        }
      ],
      "id": "ofiIdP5Aiy-Y",
      "execution_count": 15
    },
    {
      "cell_type": "markdown",
      "metadata": {
        "id": "SSHtufAziy-Z"
      },
      "source": [
        "### uint32\n",
        "**Range**: 0 to 4,294,967,295\n",
        "\n",
        "**Use Case**: Used in scenarios where large counts or indexes are needed, like in large databases or simulations."
      ],
      "id": "SSHtufAziy-Z"
    },
    {
      "cell_type": "code",
      "metadata": {
        "id": "9elTQ1jFiy-Z",
        "colab": {
          "base_uri": "https://localhost:8080/"
        },
        "outputId": "f0ad4e9e-7cbb-4d76-e0cf-6e5241907b68"
      },
      "source": [
        "arr_uint32 = np.array([1000000, 2000000, 4294967295], dtype='uint32')\n",
        "print(arr_uint32)\n",
        "print(arr_uint32.dtype)"
      ],
      "outputs": [
        {
          "output_type": "stream",
          "name": "stdout",
          "text": [
            "[   1000000    2000000 4294967295]\n",
            "uint32\n"
          ]
        }
      ],
      "id": "9elTQ1jFiy-Z",
      "execution_count": 16
    },
    {
      "cell_type": "markdown",
      "metadata": {
        "id": "drLlTtpriy-Z"
      },
      "source": [
        "### uint64\n",
        "**Range**: 0 to 18,446,744,073,709,551,615\n",
        "\n",
        "**Use Case**: Useful in very specific scenarios where extremely large counts are required, like in big data analytics or certain scientific simulations."
      ],
      "id": "drLlTtpriy-Z"
    },
    {
      "cell_type": "code",
      "metadata": {
        "id": "Eos5YJVUiy-Z",
        "colab": {
          "base_uri": "https://localhost:8080/"
        },
        "outputId": "e7705cf3-c87a-4725-b822-83efe8a961b8"
      },
      "source": [
        "arr_uint64 = np.array([10000000000, 20000000000, 18446744073709551615], dtype='uint64')\n",
        "print(arr_uint64)\n",
        "print(arr_uint64.dtype)"
      ],
      "outputs": [
        {
          "output_type": "stream",
          "name": "stdout",
          "text": [
            "[         10000000000          20000000000 18446744073709551615]\n",
            "uint64\n"
          ]
        }
      ],
      "id": "Eos5YJVUiy-Z",
      "execution_count": 17
    },
    {
      "cell_type": "markdown",
      "source": [
        "## **(4) f - float**\n",
        "\n",
        "NumPy provides various floating-point data types based on their bit representation like float16, float32, and float64.\n",
        "**Use Case**: For continuous values, like measurements or calculations that result in decimal values.\n",
        "\n",
        "**Explanation**:- We're representing measurements that have decimal values.- The `dtype='f'` indicates floating-point numbers."
      ],
      "metadata": {
        "id": "NokHzBsLi7uw"
      },
      "id": "NokHzBsLi7uw"
    },
    {
      "cell_type": "markdown",
      "metadata": {
        "id": "Dx1vIV1siy-Z"
      },
      "source": [
        "### float16\n",
        "**Use Case**: `float16`, or \"half-precision float,\" is useful for scenarios where you need to save memory, such as deep learning models on GPUs. It's less accurate than other floating-point types."
      ],
      "id": "Dx1vIV1siy-Z"
    },
    {
      "cell_type": "code",
      "metadata": {
        "id": "9fUmtfxziy-Z",
        "colab": {
          "base_uri": "https://localhost:8080/"
        },
        "outputId": "a83246ce-8a85-41fd-d30e-927f968f3966"
      },
      "source": [
        "arr_float16 = np.array([1.5, 2.5, 3.5], dtype='float16')\n",
        "print(arr_float16)\n",
        "print(arr_float16.dtype)"
      ],
      "outputs": [
        {
          "output_type": "stream",
          "name": "stdout",
          "text": [
            "[1.5 2.5 3.5]\n",
            "float16\n"
          ]
        }
      ],
      "id": "9fUmtfxziy-Z",
      "execution_count": 18
    },
    {
      "cell_type": "markdown",
      "metadata": {
        "id": "cq3E47pFiy-a"
      },
      "source": [
        "### float32\n",
        "**Use Case**: `float32`, or \"single-precision float,\" offers a good balance between precision and memory usage. It's commonly used in machine learning and other computations that require floating-point numbers but don't need the precision of `float64`."
      ],
      "id": "cq3E47pFiy-a"
    },
    {
      "cell_type": "code",
      "metadata": {
        "id": "7JAc4CpCiy-a",
        "colab": {
          "base_uri": "https://localhost:8080/"
        },
        "outputId": "d3d91a16-5d34-40ce-af39-ab4c0f8a49f8"
      },
      "source": [
        "# Using specific type strings float32\n",
        "arr_float32 = np.array([1.5, 2.5, 3.5], dtype='float32')\n",
        "print(arr_float32)\n",
        "print(arr_float32.dtype)"
      ],
      "outputs": [
        {
          "output_type": "stream",
          "name": "stdout",
          "text": [
            "[1.5 2.5 3.5]\n",
            "float32\n"
          ]
        }
      ],
      "id": "7JAc4CpCiy-a",
      "execution_count": 19
    },
    {
      "cell_type": "markdown",
      "metadata": {
        "id": "LAQccMmYiy-a"
      },
      "source": [
        "### float64\n",
        "**Use Case**: `float64`, or \"double-precision float,\" is the standard for floating-point computation in Python and provides high precision. It's suitable for most general purposes."
      ],
      "id": "LAQccMmYiy-a"
    },
    {
      "cell_type": "code",
      "metadata": {
        "id": "KPkT-zz5iy-a",
        "colab": {
          "base_uri": "https://localhost:8080/"
        },
        "outputId": "f142af0b-91d4-4ad2-b727-4771cd48bcc4"
      },
      "source": [
        "arr_float64 = np.array([1.5, 2.5, 3.5], dtype='float64')\n",
        "print(arr_float64)\n",
        "print(arr_float64.dtype)"
      ],
      "outputs": [
        {
          "output_type": "stream",
          "name": "stdout",
          "text": [
            "[1.5 2.5 3.5]\n",
            "float64\n"
          ]
        }
      ],
      "id": "KPkT-zz5iy-a",
      "execution_count": 20
    },
    {
      "cell_type": "markdown",
      "metadata": {
        "id": "qSHIShuziy-a"
      },
      "source": [
        "### float128 (if available)\n",
        "**Use Case**: `float128`, or \"quad-precision float,\" provides even higher precision than `float64`. It's used in specialized scenarios where extreme precision is required, such as in simulations or numerical methods that are sensitive to rounding errors."
      ],
      "id": "qSHIShuziy-a"
    },
    {
      "cell_type": "code",
      "metadata": {
        "colab": {
          "base_uri": "https://localhost:8080/"
        },
        "id": "kHJP26V8iy-a",
        "outputId": "266e7660-5179-459b-fb36-31a1e6552be6"
      },
      "source": [
        "# Note: float128 might not be available on all systems\n",
        "arr_float128 = np.array([1.5, 2.5, 3.5], dtype='float128')\n",
        "print(arr_float128)\n",
        "print(arr_float128.dtype)"
      ],
      "outputs": [
        {
          "output_type": "stream",
          "name": "stdout",
          "text": [
            "[1.5 2.5 3.5]\n",
            "float128\n"
          ]
        }
      ],
      "id": "kHJP26V8iy-a",
      "execution_count": 21
    },
    {
      "cell_type": "markdown",
      "source": [
        "### (5) c - complex float\n",
        "**Use Case**: In fields like electrical engineering or quantum physics where complex numbers are common.\n"
      ],
      "metadata": {
        "id": "W4lHn8PSphJ_"
      },
      "id": "W4lHn8PSphJ_"
    },
    {
      "cell_type": "code",
      "source": [
        "## dtype complex (c)\n",
        "import numpy as np\n",
        "arr_complex = np.array([1+2j, 2+2j], dtype='complex128')\n",
        "print(arr_complex)\n",
        "print(arr_complex.dtype)"
      ],
      "metadata": {
        "colab": {
          "base_uri": "https://localhost:8080/"
        },
        "id": "aPui-M71plLA",
        "outputId": "944efc85-baa3-4cf7-d62d-4bea8aa74aba"
      },
      "id": "aPui-M71plLA",
      "execution_count": 22,
      "outputs": [
        {
          "output_type": "stream",
          "name": "stdout",
          "text": [
            "[1.+2.j 2.+2.j]\n",
            "complex128\n"
          ]
        }
      ]
    },
    {
      "cell_type": "markdown",
      "source": [
        "### (2) b - boolean\n",
        "**Use Case**: For binary decisions, like filtering operations or masks.\n",
        "\n",
        "**Explanation**:- We're creating an array that could represent a mask or filter.- The `dtype='b'` denotes boolean values."
      ],
      "metadata": {
        "id": "JaGnj11pn0qB"
      },
      "id": "JaGnj11pn0qB"
    },
    {
      "cell_type": "code",
      "source": [
        "##  dtype boolean (using dtype='bool')\n",
        "import numpy as np\n",
        "arr_bool   = np.array([True, False, True], dtype='bool')\n",
        "print(arr_bool)\n",
        "print(arr_bool.dtype)"
      ],
      "metadata": {
        "colab": {
          "base_uri": "https://localhost:8080/"
        },
        "id": "6DZa4hDcn41e",
        "outputId": "585a186e-fad1-485e-9879-3f0c32e8c027"
      },
      "id": "6DZa4hDcn41e",
      "execution_count": 23,
      "outputs": [
        {
          "output_type": "stream",
          "name": "stdout",
          "text": [
            "[ True False  True]\n",
            "bool\n"
          ]
        }
      ]
    },
    {
      "cell_type": "code",
      "source": [
        "## dtype boolean using dtype='b'\n",
        "import numpy as np\n",
        "arr_bool   = np.array([True, False, True], dtype='b')\n",
        "print(arr_bool)\n",
        "print(arr_bool.dtype)"
      ],
      "metadata": {
        "colab": {
          "base_uri": "https://localhost:8080/"
        },
        "id": "NoXeQiRG2vPl",
        "outputId": "d2031dd7-0d44-4ad1-cc21-47bc1cad4195"
      },
      "id": "NoXeQiRG2vPl",
      "execution_count": 24,
      "outputs": [
        {
          "output_type": "stream",
          "name": "stdout",
          "text": [
            "[1 0 1]\n",
            "int8\n"
          ]
        }
      ]
    },
    {
      "cell_type": "markdown",
      "source": [
        "### (6) m - timedelta\n",
        "**Use Case**: When representing differences between two times or dates, like durations.\n",
        "\n",
        "**Explanation**:- We're representing durations in days.- The `dtype='m'` denotes time delta."
      ],
      "metadata": {
        "id": "SawwVzyRp1QC"
      },
      "id": "SawwVzyRp1QC"
    },
    {
      "cell_type": "markdown",
      "source": [],
      "metadata": {
        "id": "yAy6rGRZpZ_r"
      },
      "id": "yAy6rGRZpZ_r"
    },
    {
      "cell_type": "code",
      "source": [
        "## dtype timedelta (m)\n",
        "import numpy as np\n",
        "arr = np.array([np.timedelta64(12, 'D'), np.timedelta64(6, 'D')], dtype='m')\n",
        "print(arr)"
      ],
      "metadata": {
        "colab": {
          "base_uri": "https://localhost:8080/"
        },
        "id": "o4KSVMYnn1m8",
        "outputId": "65ba877a-b8dd-4a1b-f610-da55d299a959"
      },
      "id": "o4KSVMYnn1m8",
      "execution_count": 25,
      "outputs": [
        {
          "output_type": "stream",
          "name": "stdout",
          "text": [
            "[12  6]\n"
          ]
        }
      ]
    },
    {
      "cell_type": "code",
      "source": [
        "# timedelta using  dtype='timedelta64'\n",
        "import numpy as np\n",
        "arr_timedelta = np.array([1,2,3], dtype='timedelta64[h]')\n",
        "print(arr_timedelta)\n",
        "print(arr_timedelta.dtype)\n"
      ],
      "metadata": {
        "colab": {
          "base_uri": "https://localhost:8080/"
        },
        "id": "V2ZmSGMd7LJL",
        "outputId": "453b1cc8-d0ce-44fe-ff0b-395fd442f145"
      },
      "id": "V2ZmSGMd7LJL",
      "execution_count": 26,
      "outputs": [
        {
          "output_type": "stream",
          "name": "stdout",
          "text": [
            "[1 2 3]\n",
            "timedelta64[h]\n"
          ]
        }
      ]
    },
    {
      "cell_type": "code",
      "source": [
        "# timedelta using dtype='m'\n",
        "import numpy as np\n",
        "arr_timedelta = np.array([5,3,1], dtype='m')\n",
        "print(arr_timedelta)\n",
        "print(arr_timedelta.dtype)\n"
      ],
      "metadata": {
        "colab": {
          "base_uri": "https://localhost:8080/"
        },
        "id": "vkr7792Q84_k",
        "outputId": "cd2e0f46-f9ec-4372-bdbc-73541006e7a6"
      },
      "id": "vkr7792Q84_k",
      "execution_count": 27,
      "outputs": [
        {
          "output_type": "stream",
          "name": "stdout",
          "text": [
            "[5 3 1]\n",
            "timedelta64\n"
          ]
        }
      ]
    },
    {
      "cell_type": "code",
      "source": [
        "import numpy as np\n",
        "date1 = np.datetime64('2022-01-29')\n",
        "date2 = np.datetime64('2022-02-16')\n",
        "\n",
        "delta = date2 - date1\n",
        "print(\"difference between two dates is:\",delta)"
      ],
      "metadata": {
        "colab": {
          "base_uri": "https://localhost:8080/"
        },
        "id": "8v-vSuqHBGsr",
        "outputId": "9c58074b-2d96-4326-eefb-88d5c1766cda"
      },
      "id": "8v-vSuqHBGsr",
      "execution_count": 28,
      "outputs": [
        {
          "output_type": "stream",
          "name": "stdout",
          "text": [
            "difference between two dates is: 18 days\n"
          ]
        }
      ]
    },
    {
      "cell_type": "markdown",
      "source": [],
      "metadata": {
        "id": "ulll5FZN7Jj1"
      },
      "id": "ulll5FZN7Jj1"
    },
    {
      "cell_type": "code",
      "source": [],
      "metadata": {
        "id": "JkNVNpUmp40U"
      },
      "id": "JkNVNpUmp40U",
      "execution_count": 28,
      "outputs": []
    },
    {
      "cell_type": "markdown",
      "source": [
        "### (7) M - datetime\n",
        "**Use Case**: For timestamps or specific dates, like in time series data."
      ],
      "metadata": {
        "id": "Y-i7UF0CqIk2"
      },
      "id": "Y-i7UF0CqIk2"
    },
    {
      "cell_type": "code",
      "source": [
        "# Creating arrays with a specific date\n",
        "import numpy as np\n",
        "arr_date = np.array(['2022-06-28', '2023-09-24'], dtype='datetime64[D]')\n",
        "print(arr_date)\n",
        "print(arr_date.dtype)"
      ],
      "metadata": {
        "id": "EnU35inHqJK5",
        "colab": {
          "base_uri": "https://localhost:8080/"
        },
        "outputId": "e59ca397-3240-4536-9a41-820d1b4c1c66"
      },
      "id": "EnU35inHqJK5",
      "execution_count": 29,
      "outputs": [
        {
          "output_type": "stream",
          "name": "stdout",
          "text": [
            "['2022-06-28' '2023-09-24']\n",
            "datetime64[D]\n"
          ]
        }
      ]
    },
    {
      "cell_type": "code",
      "source": [
        "# Creating arrays with a specific Month\n",
        "import numpy as np\n",
        "arr_date = np.array(['2022-06-28', '2023-09-24'], dtype='datetime64[Y]')\n",
        "print(arr_date)\n",
        "print(arr_date.dtype)"
      ],
      "metadata": {
        "colab": {
          "base_uri": "https://localhost:8080/"
        },
        "id": "uP7FaT5oNP2B",
        "outputId": "286f6f42-92ff-42c2-a6a2-7f009aea182b"
      },
      "id": "uP7FaT5oNP2B",
      "execution_count": 30,
      "outputs": [
        {
          "output_type": "stream",
          "name": "stdout",
          "text": [
            "['2022' '2023']\n",
            "datetime64[Y]\n"
          ]
        }
      ]
    },
    {
      "cell_type": "markdown",
      "source": [
        "### (8) O - object\n",
        "**Use Case**: When you need to store various types of Python objects in an array.\n",
        "\n",
        "**Explanation**:- We're storing diverse Python objects.- The `dtype='O'` denotes object type."
      ],
      "metadata": {
        "id": "BuEz0Me2qNoY"
      },
      "id": "BuEz0Me2qNoY"
    },
    {
      "cell_type": "code",
      "source": [
        "## dtype Object (O)\n",
        "import numpy as np\n",
        "arr_object = np.array(['Mango', (1,2), {'key': 'value'}], dtype='O')\n",
        "print(arr_object)\n",
        "print(arr_object.dtype)\n"
      ],
      "metadata": {
        "id": "1RuANYuWqSn9",
        "colab": {
          "base_uri": "https://localhost:8080/"
        },
        "outputId": "464d9647-3de8-47c5-8ddb-4e7b4d058544"
      },
      "id": "1RuANYuWqSn9",
      "execution_count": 31,
      "outputs": [
        {
          "output_type": "stream",
          "name": "stdout",
          "text": [
            "['Mango' (1, 2) {'key': 'value'}]\n",
            "object\n"
          ]
        }
      ]
    },
    {
      "cell_type": "markdown",
      "source": [
        "###(9) S - string\n",
        "**Use Case**: Storing text data where Unicode is not required.\n",
        "\n",
        "**Explanation**:- We're storing string data.- The `dtype='S'` denotes a byte string."
      ],
      "metadata": {
        "id": "yW-05zthqob9"
      },
      "id": "yW-05zthqob9"
    },
    {
      "cell_type": "code",
      "source": [
        "## dtype String (S)\n",
        "import numpy as np\n",
        "arr_s= np.array(['banana', 'orange', 'apple'], dtype='S')\n",
        "print(arr_s)\n",
        "print(arr_s.dtype)"
      ],
      "metadata": {
        "colab": {
          "base_uri": "https://localhost:8080/"
        },
        "id": "y3fdA5AJqdI5",
        "outputId": "f37a0aca-7685-4412-e715-27152ae7e103"
      },
      "id": "y3fdA5AJqdI5",
      "execution_count": 32,
      "outputs": [
        {
          "output_type": "stream",
          "name": "stdout",
          "text": [
            "[b'banana' b'orange' b'apple']\n",
            "|S6\n"
          ]
        }
      ]
    },
    {
      "cell_type": "code",
      "source": [
        "## dtype String (S)\n",
        "import numpy as np\n",
        "arr_s= np.array(['banana', 'orange', 'apple'], dtype='S5')\n",
        "print(arr_s)\n",
        "print(arr_s.dtype)"
      ],
      "metadata": {
        "colab": {
          "base_uri": "https://localhost:8080/"
        },
        "id": "sXGYZRT7TnAX",
        "outputId": "8cce55ce-e563-491f-9c2a-6ba120a61ff1"
      },
      "id": "sXGYZRT7TnAX",
      "execution_count": 33,
      "outputs": [
        {
          "output_type": "stream",
          "name": "stdout",
          "text": [
            "[b'banan' b'orang' b'apple']\n",
            "|S5\n"
          ]
        }
      ]
    },
    {
      "cell_type": "markdown",
      "source": [
        "### (10) U - unicode string\n",
        "**Use Case**: Whenever you're working with text that might contain non-ASCII characters, like names or descriptions in multiple languages.\n",
        "\n",
        "**Explanation**:- We're storing strings with possible Unicode characters.- The `dtype='U'` denotes Unicode string."
      ],
      "metadata": {
        "id": "5xEUk3tqqwIF"
      },
      "id": "5xEUk3tqqwIF"
    },
    {
      "cell_type": "code",
      "source": [
        "## dtype Unicode (U)\n",
        "import numpy as np\n",
        "arr_unicode = np.array(['@pple', 'banaña','🙂'], dtype='U')\n",
        "print(arr_unicode)\n",
        "print(arr_unicode.dtype)"
      ],
      "metadata": {
        "colab": {
          "base_uri": "https://localhost:8080/"
        },
        "id": "tdJKLI0Oqkz7",
        "outputId": "ca959188-ff6d-4063-e692-5bb7ffb59f79"
      },
      "id": "tdJKLI0Oqkz7",
      "execution_count": 34,
      "outputs": [
        {
          "output_type": "stream",
          "name": "stdout",
          "text": [
            "['@pple' 'banaña' '🙂']\n",
            "<U6\n"
          ]
        }
      ]
    },
    {
      "cell_type": "code",
      "source": [
        "## dtype Unicode (U)\n",
        "import numpy as np\n",
        "unicode_array = np.array(['@pple', 'banaña', '🙂'], dtype='U')\n",
        "print(unicode_array)\n",
        "print(unicode_array.dtype)"
      ],
      "metadata": {
        "colab": {
          "base_uri": "https://localhost:8080/"
        },
        "id": "oxxyzhAIYRIk",
        "outputId": "c11a5d9d-1561-4d26-e1cf-b38aaad12944"
      },
      "id": "oxxyzhAIYRIk",
      "execution_count": 35,
      "outputs": [
        {
          "output_type": "stream",
          "name": "stdout",
          "text": [
            "['@pple' 'banaña' '🙂']\n",
            "<U6\n"
          ]
        }
      ]
    },
    {
      "cell_type": "markdown",
      "source": [
        "### (11) V - void\n",
        "**Use Case**: Less common for general users, but useful for low-level operations, interfacing with C libraries, or when memory layout is critical.\n",
        "\n",
        "**Explanation**:- We're creating an array with a void datatype, often used as a placeholder.- The `dtype='V'` denotes void."
      ],
      "metadata": {
        "id": "nY6GQJ_VrCFd"
      },
      "id": "nY6GQJ_VrCFd"
    },
    {
      "cell_type": "code",
      "source": [
        "## dtype void\n",
        "import numpy as np\n",
        "arr_void = np.array([], dtype='V')\n",
        "print(arr_void)\n",
        "print(arr_void.dtype)"
      ],
      "metadata": {
        "colab": {
          "base_uri": "https://localhost:8080/"
        },
        "id": "_dQ1_CTwq3a-",
        "outputId": "e0a8e6bb-695d-4e7e-96be-cfe9dc415f66"
      },
      "id": "_dQ1_CTwq3a-",
      "execution_count": 36,
      "outputs": [
        {
          "output_type": "stream",
          "name": "stdout",
          "text": [
            "[]\n",
            "|V8\n"
          ]
        }
      ]
    },
    {
      "cell_type": "code",
      "source": [
        "# Create an array of void type with each element being 8 bytes\n",
        "import numpy as np\n",
        "arr_void = np.array([], dtype='V8')\n",
        "print(arr_void)\n",
        "print(arr_void.dtype)\n"
      ],
      "metadata": {
        "id": "NCxWsuSCKijS",
        "colab": {
          "base_uri": "https://localhost:8080/"
        },
        "outputId": "d12a166e-9ab8-45b0-bd18-441831340387"
      },
      "id": "NCxWsuSCKijS",
      "execution_count": 37,
      "outputs": [
        {
          "output_type": "stream",
          "name": "stdout",
          "text": [
            "[]\n",
            "|V8\n"
          ]
        }
      ]
    },
    {
      "cell_type": "code",
      "source": [
        "# Create an array of void type with each element being 8 bytes\n",
        "import numpy as np\n",
        "arr_void = np.array([b'\\x01\\x02\\x03\\x04\\x05\\x06\\x07\\x08', b'\\x11\\x12\\x13\\x14\\x15\\x16\\x17\\x18'], dtype='V8')\n",
        "print(arr_void)\n",
        "print(\"datatype:\",arr_void.dtype)\n"
      ],
      "metadata": {
        "id": "og-862FurGcd",
        "colab": {
          "base_uri": "https://localhost:8080/"
        },
        "outputId": "45d73983-fdb8-4f92-8943-f30d3c0f2982"
      },
      "id": "og-862FurGcd",
      "execution_count": 38,
      "outputs": [
        {
          "output_type": "stream",
          "name": "stdout",
          "text": [
            "[b'\\x01\\x02\\x03\\x04\\x05\\x06\\x07\\x08' b'\\x11\\x12\\x13\\x14\\x15\\x16\\x17\\x18']\n",
            "datatype: |V8\n"
          ]
        }
      ]
    },
    {
      "cell_type": "markdown",
      "source": [
        "# Struct type"
      ],
      "metadata": {
        "id": "eSkKo2XgwJrI"
      },
      "id": "eSkKo2XgwJrI"
    },
    {
      "cell_type": "code",
      "source": [
        "# creting struct array in numpy\n",
        "import numpy as np\n",
        "# Dfine the structured data type\n",
        "employee_type = np.dtype([('name', 'S10'), ('age', 'int8'), ('salary', 'float32'), ('department', 'S10')])\n",
        "# Create an array of employees\n",
        "employees = np.array([('Mona', 25, 60000.98, 'HR'), ('Rohit', 30, 50000.00, 'IT')], dtype=employee_type)\n",
        "\n",
        "# prining structured array\n",
        "print(\"Employees array:\",employees)\n"
      ],
      "metadata": {
        "colab": {
          "base_uri": "https://localhost:8080/"
        },
        "id": "zyyrqunMwNoB",
        "outputId": "69fce961-b32a-4049-da0c-4941ba51963d"
      },
      "id": "zyyrqunMwNoB",
      "execution_count": 39,
      "outputs": [
        {
          "output_type": "stream",
          "name": "stdout",
          "text": [
            "Employees array: [(b'Mona', 25, 60000.98, b'HR') (b'Rohit', 30, 50000.  , b'IT')]\n"
          ]
        }
      ]
    },
    {
      "cell_type": "code",
      "source": [
        "#printing all employees name\n",
        "print(\"Employees name:\",employees['name'])"
      ],
      "metadata": {
        "id": "i6pYxMejKvbu",
        "colab": {
          "base_uri": "https://localhost:8080/"
        },
        "outputId": "e70f8860-bee8-43aa-fe14-8ef41c37e38f"
      },
      "id": "i6pYxMejKvbu",
      "execution_count": 40,
      "outputs": [
        {
          "output_type": "stream",
          "name": "stdout",
          "text": [
            "Employees name: [b'Mona' b'Rohit']\n"
          ]
        }
      ]
    },
    {
      "cell_type": "markdown",
      "source": [
        "# Understanding Data Type Conversion in NumPy"
      ],
      "metadata": {
        "id": "6qbfWjvgNDE3"
      },
      "id": "6qbfWjvgNDE3"
    },
    {
      "cell_type": "markdown",
      "source": [
        "\n",
        "Common data types in NumPy:\n",
        "- **int**: Integer values (e.g., `int32`, `int64`)\n",
        "- **float**: Floating point numbers (e.g., `float32`, `float64`)\n",
        "- **complex**: Complex numbers\n",
        "- **bool**: Boolean values (`True` or `False`)\n",
        "- **str**: String values\n",
        "- **object**: Python objects"
      ],
      "metadata": {
        "id": "qdDpIWqaNTTN"
      },
      "id": "qdDpIWqaNTTN"
    },
    {
      "cell_type": "markdown",
      "source": [],
      "metadata": {
        "id": "Ej0XNg36NTQF"
      },
      "id": "Ej0XNg36NTQF"
    },
    {
      "cell_type": "code",
      "source": [
        "# Convert String array to integer array\n",
        "import numpy as np\n",
        "string_array = np.array(['1', '2', '3'], dtype='S')\n",
        "print(\"String array before conversion: \", string_array)\n",
        "print(\"Data type of string array: \", string_array.dtype)\n",
        "\n",
        "int_array = string_array.astype('int32')\n",
        "print(\"Integer array after conversion: \", int_array)\n",
        "print(\"Data type of integer array: \", int_array.dtype)\n"
      ],
      "metadata": {
        "id": "uc78bhCuSRc8",
        "colab": {
          "base_uri": "https://localhost:8080/"
        },
        "outputId": "00bfcee9-3617-4ca4-9d72-aebe9daae5e6"
      },
      "id": "uc78bhCuSRc8",
      "execution_count": 41,
      "outputs": [
        {
          "output_type": "stream",
          "name": "stdout",
          "text": [
            "String array before conversion:  [b'1' b'2' b'3']\n",
            "Data type of string array:  |S1\n",
            "Integer array after conversion:  [1 2 3]\n",
            "Data type of integer array:  int32\n"
          ]
        }
      ]
    },
    {
      "cell_type": "code",
      "source": [
        "# Convert String array to float array\n",
        "import numpy as np\n",
        "string_array = np.array(['1', '2', '3'], dtype='S')\n",
        "print(\"String array before conversion: \", string_array)\n",
        "print(\"Data type of string array: \", string_array.dtype)\n",
        "\n",
        "float_array = string_array.astype('float64')\n",
        "print(\"Float array after conversion: \", float_array)\n",
        "print(\"Data type of Float array: \", float_array.dtype)\n"
      ],
      "metadata": {
        "colab": {
          "base_uri": "https://localhost:8080/"
        },
        "id": "Ldj3Aty-NjYt",
        "outputId": "702f9e93-0558-4edf-a16b-ffdcb4f486f2"
      },
      "id": "Ldj3Aty-NjYt",
      "execution_count": 42,
      "outputs": [
        {
          "output_type": "stream",
          "name": "stdout",
          "text": [
            "String array before conversion:  [b'1' b'2' b'3']\n",
            "Data type of string array:  |S1\n",
            "Float array after conversion:  [1. 2. 3.]\n",
            "Data type of Float array:  float64\n"
          ]
        }
      ]
    },
    {
      "cell_type": "code",
      "source": [
        "# Convert integer array to float array\n",
        "import numpy as np\n",
        "original_arr_ints = np.array([1, 2, 3], dtype='int32')\n",
        "print(\"Original array before conversion: \", original_arr_ints)\n",
        "print(\"Data type of original array: \", original_arr_ints.dtype)\n",
        "\n",
        "converted_arr_floats = original_arr_ints.astype(np.float64)\n",
        "print(\"Converted array after conversion: \", converted_arr_floats)\n",
        "print(\"Data type of converted array: \", converted_arr_floats.dtype)\n"
      ],
      "metadata": {
        "colab": {
          "base_uri": "https://localhost:8080/"
        },
        "id": "huY5jebENjVc",
        "outputId": "a32696cf-68a9-41f3-c9d4-989b907dda5f"
      },
      "id": "huY5jebENjVc",
      "execution_count": 43,
      "outputs": [
        {
          "output_type": "stream",
          "name": "stdout",
          "text": [
            "Original array before conversion:  [1 2 3]\n",
            "Data type of original array:  int32\n",
            "Converted array after conversion:  [1. 2. 3.]\n",
            "Data type of converted array:  float64\n"
          ]
        }
      ]
    },
    {
      "cell_type": "markdown",
      "source": [
        "## Implications of Conversions\n",
        "It's important to understand that not all conversions are safe. Some can result in a loss of data."
      ],
      "metadata": {
        "id": "_-ndLwGGNpkN"
      },
      "id": "_-ndLwGGNpkN"
    },
    {
      "cell_type": "code",
      "source": [
        "# Convert float array to integer array\n",
        "original_floats = np.array([1.7, 2.8, 3.2])\n",
        "converted_ints = original_floats.astype('int32')\n",
        "print(\"Original array before conversion: \", original_floats)\n",
        "print(\"Converted array after conversion: \", converted_ints)"
      ],
      "metadata": {
        "colab": {
          "base_uri": "https://localhost:8080/"
        },
        "id": "AtryozgUNjR0",
        "outputId": "5ba1da88-10a8-4841-a8b4-ebb67816819f"
      },
      "id": "AtryozgUNjR0",
      "execution_count": 44,
      "outputs": [
        {
          "output_type": "stream",
          "name": "stdout",
          "text": [
            "Original array before conversion:  [1.7 2.8 3.2]\n",
            "Converted array after conversion:  [1 2 3]\n"
          ]
        }
      ]
    },
    {
      "cell_type": "markdown",
      "source": [
        "## Memory Implications of Data Types\n",
        "The choice of data type can impact the memory usage of your arrays, especially with large datasets."
      ],
      "metadata": {
        "id": "MC0k84QyNuvt"
      },
      "id": "MC0k84QyNuvt"
    },
    {
      "cell_type": "code",
      "source": [
        "int64_array = np.arange(1000, dtype=np.int64)\n",
        "int32_array = int64_array.astype(np.int32)\n",
        "\n",
        "int64_array.nbytes, int32_array.nbytes"
      ],
      "metadata": {
        "colab": {
          "base_uri": "https://localhost:8080/"
        },
        "id": "VDQCoZSNNjOc",
        "outputId": "7f42233e-fe47-4131-bca7-1dbe70567e5c"
      },
      "id": "VDQCoZSNNjOc",
      "execution_count": 45,
      "outputs": [
        {
          "output_type": "execute_result",
          "data": {
            "text/plain": [
              "(8000, 4000)"
            ]
          },
          "metadata": {},
          "execution_count": 45
        }
      ]
    },
    {
      "cell_type": "markdown",
      "source": [
        "## Safe Type Conversion\n",
        "NumPy provides a utility to check if a conversion is safe. This can prevent potential data loss."
      ],
      "metadata": {
        "id": "T4uPBHjIN25r"
      },
      "id": "T4uPBHjIN25r"
    },
    {
      "cell_type": "code",
      "source": [],
      "metadata": {
        "id": "mRHntbVYN3f_"
      },
      "id": "mRHntbVYN3f_",
      "execution_count": 45,
      "outputs": []
    },
    {
      "cell_type": "code",
      "source": [
        "#Checking if conversion from float64 to int32 is safe\n",
        "import numpy as np\n",
        "is_safe_float_to_int = np.can_cast(np.float64, np.int32, casting='safe')\n",
        "print(is_safe_float_to_int)"
      ],
      "metadata": {
        "colab": {
          "base_uri": "https://localhost:8080/"
        },
        "id": "9eLlzZ-kNjLa",
        "outputId": "37e7d072-f245-4d29-8958-89ed93d3273b"
      },
      "id": "9eLlzZ-kNjLa",
      "execution_count": 46,
      "outputs": [
        {
          "output_type": "stream",
          "name": "stdout",
          "text": [
            "False\n"
          ]
        }
      ]
    },
    {
      "cell_type": "markdown",
      "source": [
        "In the above example, converting from `float64` to `int32` isn't considered safe due to potential loss of decimal information, but the reverse is safe."
      ],
      "metadata": {
        "id": "1ffxns6IN7ws"
      },
      "id": "1ffxns6IN7ws"
    },
    {
      "cell_type": "code",
      "source": [
        "# Trying to convert float to int using casting='safe'\n",
        "import numpy as np\n",
        "arr = np.array([1.5, 2.5, 3.5])\n",
        "# Converting to int32 with safe casting\n",
        "result = arr.astype(np.int32, casting='safe')\n",
        "print(result)\n"
      ],
      "metadata": {
        "colab": {
          "base_uri": "https://localhost:8080/",
          "height": 198
        },
        "id": "X_dDCnyYNjIa",
        "outputId": "e0179494-75c7-46fa-9f42-950a4afd44c7"
      },
      "id": "X_dDCnyYNjIa",
      "execution_count": 47,
      "outputs": [
        {
          "output_type": "error",
          "ename": "TypeError",
          "evalue": "Cannot cast array data from dtype('float64') to dtype('int32') according to the rule 'safe'",
          "traceback": [
            "\u001b[0;31m---------------------------------------------------------------------------\u001b[0m",
            "\u001b[0;31mTypeError\u001b[0m                                 Traceback (most recent call last)",
            "\u001b[0;32m<ipython-input-47-8e93d1a59d36>\u001b[0m in \u001b[0;36m<cell line: 5>\u001b[0;34m()\u001b[0m\n\u001b[1;32m      3\u001b[0m \u001b[0marr\u001b[0m \u001b[0;34m=\u001b[0m \u001b[0mnp\u001b[0m\u001b[0;34m.\u001b[0m\u001b[0marray\u001b[0m\u001b[0;34m(\u001b[0m\u001b[0;34m[\u001b[0m\u001b[0;36m1.5\u001b[0m\u001b[0;34m,\u001b[0m \u001b[0;36m2.5\u001b[0m\u001b[0;34m,\u001b[0m \u001b[0;36m3.5\u001b[0m\u001b[0;34m]\u001b[0m\u001b[0;34m)\u001b[0m\u001b[0;34m\u001b[0m\u001b[0;34m\u001b[0m\u001b[0m\n\u001b[1;32m      4\u001b[0m \u001b[0;31m# Converting to int32 with safe casting\u001b[0m\u001b[0;34m\u001b[0m\u001b[0;34m\u001b[0m\u001b[0m\n\u001b[0;32m----> 5\u001b[0;31m \u001b[0mresult\u001b[0m \u001b[0;34m=\u001b[0m \u001b[0marr\u001b[0m\u001b[0;34m.\u001b[0m\u001b[0mastype\u001b[0m\u001b[0;34m(\u001b[0m\u001b[0mnp\u001b[0m\u001b[0;34m.\u001b[0m\u001b[0mint32\u001b[0m\u001b[0;34m,\u001b[0m \u001b[0mcasting\u001b[0m\u001b[0;34m=\u001b[0m\u001b[0;34m'safe'\u001b[0m\u001b[0;34m)\u001b[0m\u001b[0;34m\u001b[0m\u001b[0;34m\u001b[0m\u001b[0m\n\u001b[0m\u001b[1;32m      6\u001b[0m \u001b[0mprint\u001b[0m\u001b[0;34m(\u001b[0m\u001b[0mresult\u001b[0m\u001b[0;34m)\u001b[0m\u001b[0;34m\u001b[0m\u001b[0;34m\u001b[0m\u001b[0m\n",
            "\u001b[0;31mTypeError\u001b[0m: Cannot cast array data from dtype('float64') to dtype('int32') according to the rule 'safe'"
          ]
        }
      ]
    },
    {
      "cell_type": "code",
      "source": [
        "# Trying to convert float to int with unsafe casting\n",
        "import numpy as np\n",
        "arr_float = np.array([1.5, 2.5, 3.5])\n",
        "print(\"arr_float: \", arr_float)\n",
        "print(\"Data type of arr_float: \", arr_float.dtype)\n",
        "\n",
        "# Converting to int32 with unsafe casting\n",
        "arr_result = arr.astype(np.int32, casting='unsafe')\n",
        "print(\"arr_result: \", arr_result)\n",
        "print(\"Data type of arr_result: \", arr_result.dtype)"
      ],
      "metadata": {
        "colab": {
          "base_uri": "https://localhost:8080/"
        },
        "id": "f1WK7ofkNjFS",
        "outputId": "b7e2a3f4-47b5-44b7-80dd-c3da49d4e5d1"
      },
      "id": "f1WK7ofkNjFS",
      "execution_count": 50,
      "outputs": [
        {
          "output_type": "stream",
          "name": "stdout",
          "text": [
            "arr_float:  [1.5 2.5 3.5]\n",
            "Data type of arr_float:  float64\n",
            "arr_result:  [1 2 3]\n",
            "Data type of arr_result:  int32\n"
          ]
        }
      ]
    },
    {
      "cell_type": "code",
      "source": [
        "# Converting to with same_kind casting\n",
        "import numpy as np\n",
        "arr_float = np.array([12,2,22], dtype='int64')\n",
        "print(\"arr_float: \", arr_float)\n",
        "print(\"Data type of arr: \", arr_float.dtype)\n",
        "\n",
        "arr_result = arr_float.astype(dtype='int32', casting='same_kind')\n",
        "print(\"arr_result: \", arr_result)\n",
        "print(\"Data type of arr_result: \", arr_result.dtype)"
      ],
      "metadata": {
        "colab": {
          "base_uri": "https://localhost:8080/"
        },
        "id": "0lGkMH6kN_BF",
        "outputId": "48470bd7-1a67-4063-a124-5c7bdedfcbb9"
      },
      "id": "0lGkMH6kN_BF",
      "execution_count": 48,
      "outputs": [
        {
          "output_type": "stream",
          "name": "stdout",
          "text": [
            "arr_float:  [12  2 22]\n",
            "Data type of arr:  int64\n",
            "arr_result:  [12  2 22]\n",
            "Data type of arr_result:  int32\n"
          ]
        }
      ]
    },
    {
      "cell_type": "markdown",
      "source": [
        "## Handling Errors during Conversion\n",
        "Converting a string that doesn't represent a number will result in an error. Let's see an example:"
      ],
      "metadata": {
        "id": "3XF-c5xuOEMj"
      },
      "id": "3XF-c5xuOEMj"
    },
    {
      "cell_type": "code",
      "source": [
        "# Handling errors when converting incompatible data types\n",
        "try:\n",
        "    arr_string = np.array(['a', 'b', 'c']).astype(float)\n",
        "except ValueError as e:\n",
        "    print(f\"Error: {e}\")"
      ],
      "metadata": {
        "colab": {
          "base_uri": "https://localhost:8080/"
        },
        "id": "Q_A1HNgBNjB6",
        "outputId": "acadbdfe-aecd-48ae-fa76-c066b81c3001"
      },
      "id": "Q_A1HNgBNjB6",
      "execution_count": 49,
      "outputs": [
        {
          "output_type": "stream",
          "name": "stdout",
          "text": [
            "Error: could not convert string to float: 'a'\n"
          ]
        }
      ]
    },
    {
      "cell_type": "code",
      "source": [],
      "metadata": {
        "id": "f8M8uQ1FNi80"
      },
      "id": "f8M8uQ1FNi80",
      "execution_count": 49,
      "outputs": []
    }
  ],
  "metadata": {
    "kernelspec": {
      "display_name": "Python 3",
      "language": "python",
      "name": "python3"
    },
    "language_info": {
      "name": "python",
      "version": "3.8.8"
    },
    "colab": {
      "provenance": []
    }
  },
  "nbformat": 4,
  "nbformat_minor": 5
}