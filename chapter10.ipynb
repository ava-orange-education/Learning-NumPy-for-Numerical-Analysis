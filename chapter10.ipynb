{
  "nbformat": 4,
  "nbformat_minor": 0,
  "metadata": {
    "colab": {
      "provenance": [],
      "machine_shape": "hm"
    },
    "kernelspec": {
      "name": "python3",
      "display_name": "Python 3"
    },
    "language_info": {
      "name": "python"
    }
  },
  "cells": [
    {
      "cell_type": "code",
      "execution_count": null,
      "metadata": {
        "id": "Qij5FV1dZ5vk"
      },
      "outputs": [],
      "source": []
    },
    {
      "cell_type": "markdown",
      "source": [
        "##  **%timeit (Jupyter Notebooks)**\n",
        "\n",
        "Please note that each time you run %timeit, the exact timing may vary."
      ],
      "metadata": {
        "id": "AkaTjMrcb1hk"
      }
    },
    {
      "cell_type": "code",
      "source": [
        "import numpy as np\n",
        "\n",
        "# Example#1  : measure the time to create an array\n",
        "print(\"Time to create array\",end = ':')\n",
        "%timeit np.arange(1_000_000)\n",
        "\n",
        "# Example#2 : Comparing two approaches for summing an array\n",
        "array = np.random.rand(1_000_000)\n",
        "\n",
        "# Using Python's built-in sum()\n",
        "print(\"Time for built-in sum()\",end = ':')\n",
        "%timeit sum(array)\n",
        "\n",
        "# Using NumPy's vectorized sum\n",
        "print(\"Time for np.sum()\",end = ':')\n",
        "%timeit np.sum(array)"
      ],
      "metadata": {
        "colab": {
          "base_uri": "https://localhost:8080/"
        },
        "id": "H0F_dA9lb5P9",
        "outputId": "2cd074d0-d101-4e7c-bea8-986a6f4d7179"
      },
      "execution_count": 2,
      "outputs": [
        {
          "output_type": "stream",
          "name": "stdout",
          "text": [
            "Time to create array:363 µs ± 12.2 µs per loop (mean ± std. dev. of 7 runs, 1000 loops each)\n",
            "Time for built-in sum():69 ms ± 1.05 ms per loop (mean ± std. dev. of 7 runs, 10 loops each)\n",
            "Time for np.sum():216 µs ± 2.37 µs per loop (mean ± std. dev. of 7 runs, 1000 loops each)\n"
          ]
        }
      ]
    },
    {
      "cell_type": "markdown",
      "source": [
        "## **Python’s time Module**\n",
        "\n",
        "Please note that each time you run the exact timing may vary."
      ],
      "metadata": {
        "id": "gY0OxXA1cRBA"
      }
    },
    {
      "cell_type": "code",
      "source": [
        "import time\n",
        "import numpy as np\n",
        "\n",
        "# Example #1:  measure the time to create an array\n",
        "start_time = time.time()\n",
        "np.arange(1_000_000)\n",
        "end_time = time.time()\n",
        "print(\"Time to create array:\", end_time - start_time, \"seconds\")\n",
        "\n",
        "# Example #2: Comparing two approaches for summing an array\n",
        "array = np.random.rand(1_000_000)\n",
        "\n",
        "# Using Python's built-in sum()\n",
        "start_time = time.time()\n",
        "sum(array)\n",
        "end_time = time.time()\n",
        "print(\"Time for built-in sum():\", end_time - start_time, \"seconds\")\n",
        "\n",
        "# Using NumPy's np.sum()\n",
        "start_time = time.time()\n",
        "np.sum(array)\n",
        "end_time = time.time()\n",
        "print(\"Time for np.sum():\", end_time - start_time, \"seconds\")\n"
      ],
      "metadata": {
        "colab": {
          "base_uri": "https://localhost:8080/"
        },
        "id": "_7KQxH3vcQeV",
        "outputId": "43479109-23e2-464c-b4fe-8e9178e50221"
      },
      "execution_count": 3,
      "outputs": [
        {
          "output_type": "stream",
          "name": "stdout",
          "text": [
            "Time to create array: 0.0008337497711181641 seconds\n",
            "Time for built-in sum(): 0.06859707832336426 seconds\n",
            "Time for np.sum(): 0.001180887222290039 seconds\n"
          ]
        }
      ]
    },
    {
      "cell_type": "code",
      "source": [],
      "metadata": {
        "id": "laJeqEuXndDe"
      },
      "execution_count": null,
      "outputs": []
    },
    {
      "cell_type": "markdown",
      "source": [
        "## **cProfile**\n",
        "\n",
        "\n",
        "Please note that each time you run the exact timing may vary."
      ],
      "metadata": {
        "id": "1qoXr5NKfLgp"
      }
    },
    {
      "cell_type": "code",
      "source": [
        "import cProfile\n",
        "import numpy as np\n",
        "\n",
        "def create_array():\n",
        "    return np.arange(2_000_000)\n",
        "\n",
        "def sum_array(array):\n",
        "    return np.sum(array)\n",
        "\n",
        "# Main function to profile\n",
        "def main():\n",
        "    array = create_array()\n",
        "    total = sum_array(array)\n",
        "    print(\"Total sum:\", total)\n",
        "\n",
        "# Run the profiler\n",
        "cProfile.run('main()')\n"
      ],
      "metadata": {
        "colab": {
          "base_uri": "https://localhost:8080/"
        },
        "id": "1BbWz0KZfZSw",
        "outputId": "de0a6b7a-6c5f-4391-d73b-1b1653bf2794"
      },
      "execution_count": 4,
      "outputs": [
        {
          "output_type": "stream",
          "name": "stdout",
          "text": [
            "Total sum: 1999999000000\n",
            "         75 function calls in 0.008 seconds\n",
            "\n",
            "   Ordered by: standard name\n",
            "\n",
            "   ncalls  tottime  percall  cumtime  percall filename:lineno(function)\n",
            "        1    0.000    0.000    0.008    0.008 <ipython-input-4-b23e58330b4b>:11(main)\n",
            "        1    0.000    0.000    0.004    0.004 <ipython-input-4-b23e58330b4b>:4(create_array)\n",
            "        1    0.000    0.000    0.004    0.004 <ipython-input-4-b23e58330b4b>:7(sum_array)\n",
            "        1    0.000    0.000    0.008    0.008 <string>:1(<module>)\n",
            "        1    0.000    0.000    0.000    0.000 fromnumeric.py:2172(_sum_dispatcher)\n",
            "        1    0.000    0.000    0.004    0.004 fromnumeric.py:2177(sum)\n",
            "        1    0.000    0.000    0.004    0.004 fromnumeric.py:71(_wrapreduction)\n",
            "        1    0.000    0.000    0.000    0.000 fromnumeric.py:72(<dictcomp>)\n",
            "        5    0.000    0.000    0.000    0.000 iostream.py:195(schedule)\n",
            "        4    0.000    0.000    0.000    0.000 iostream.py:308(_is_master_process)\n",
            "        4    0.000    0.000    0.000    0.000 iostream.py:321(_schedule_flush)\n",
            "        4    0.000    0.000    0.000    0.000 iostream.py:384(write)\n",
            "        5    0.000    0.000    0.000    0.000 iostream.py:91(_event_pipe)\n",
            "        5    0.000    0.000    0.000    0.000 socket.py:545(send)\n",
            "        5    0.000    0.000    0.000    0.000 threading.py:1102(_wait_for_tstate_lock)\n",
            "        5    0.000    0.000    0.000    0.000 threading.py:1169(is_alive)\n",
            "        5    0.000    0.000    0.000    0.000 threading.py:553(is_set)\n",
            "        1    0.000    0.000    0.008    0.008 {built-in method builtins.exec}\n",
            "        5    0.000    0.000    0.000    0.000 {built-in method builtins.isinstance}\n",
            "        1    0.000    0.000    0.000    0.000 {built-in method builtins.print}\n",
            "        1    0.004    0.004    0.004    0.004 {built-in method numpy.arange}\n",
            "        4    0.000    0.000    0.000    0.000 {built-in method posix.getpid}\n",
            "        5    0.000    0.000    0.000    0.000 {method 'acquire' of '_thread.lock' objects}\n",
            "        5    0.000    0.000    0.000    0.000 {method 'append' of 'collections.deque' objects}\n",
            "        1    0.000    0.000    0.000    0.000 {method 'disable' of '_lsprof.Profiler' objects}\n",
            "        1    0.000    0.000    0.000    0.000 {method 'items' of 'dict' objects}\n",
            "        1    0.004    0.004    0.004    0.004 {method 'reduce' of 'numpy.ufunc' objects}\n",
            "\n",
            "\n"
          ]
        }
      ]
    },
    {
      "cell_type": "markdown",
      "source": [
        "##\t**line_profiler**\n",
        "\n",
        "\n",
        "Please note that each time you run the exact timing may vary."
      ],
      "metadata": {
        "id": "4H-311e2fVEC"
      }
    },
    {
      "cell_type": "code",
      "source": [
        "# install line_profiler if not already installed\n",
        "! pip install line_profiler\n",
        "print(\"Line profiler installed\")"
      ],
      "metadata": {
        "colab": {
          "base_uri": "https://localhost:8080/"
        },
        "id": "OXUxbKUk-grw",
        "outputId": "25c814e6-d9c6-4259-83e7-8e4856d0e093"
      },
      "execution_count": 5,
      "outputs": [
        {
          "output_type": "stream",
          "name": "stdout",
          "text": [
            "Collecting line_profiler\n",
            "  Downloading line_profiler-4.2.0-cp310-cp310-manylinux_2_17_x86_64.manylinux2014_x86_64.whl.metadata (34 kB)\n",
            "Downloading line_profiler-4.2.0-cp310-cp310-manylinux_2_17_x86_64.manylinux2014_x86_64.whl (718 kB)\n",
            "\u001b[2K   \u001b[90m━━━━━━━━━━━━━━━━━━━━━━━━━━━━━━━━━━━━━━━━\u001b[0m \u001b[32m718.3/718.3 kB\u001b[0m \u001b[31m10.4 MB/s\u001b[0m eta \u001b[36m0:00:00\u001b[0m\n",
            "\u001b[?25hInstalling collected packages: line_profiler\n",
            "Successfully installed line_profiler-4.2.0\n",
            "Line profiler installed\n"
          ]
        }
      ]
    },
    {
      "cell_type": "code",
      "source": [
        "#load line_profiler extension\n",
        "%load_ext line_profiler\n",
        "print(\"Line profiler extension loaded\")"
      ],
      "metadata": {
        "colab": {
          "base_uri": "https://localhost:8080/"
        },
        "id": "2QMRDz74O0FN",
        "outputId": "052280de-d266-4fb4-cbb9-23ae6adc0ad9"
      },
      "execution_count": 6,
      "outputs": [
        {
          "output_type": "stream",
          "name": "stdout",
          "text": [
            "Line profiler extension loaded\n"
          ]
        }
      ]
    },
    {
      "cell_type": "code",
      "source": [
        "import numpy as np\n",
        "\n",
        "# Create an array\n",
        "def create_arr():\n",
        "    return np.arange(1_00_000)\n",
        "\n",
        "# Sum an array\n",
        "def sum_arr(arr):\n",
        "    sorted_arr = np.sort(arr)\n",
        "    return np.sum(sorted_arr)\n",
        "\n",
        "# sum process\n",
        "def sum_process():\n",
        "    arr = create_arr()\n",
        "    total = sum_arr(arr)\n",
        "    print(\"Total sum:\", total)\n",
        "\n",
        "#runing line_profiler using magic command\n",
        "%lprun -f create_arr -f sum_arr -f sum_process sum_process()"
      ],
      "metadata": {
        "colab": {
          "base_uri": "https://localhost:8080/"
        },
        "id": "sG3T_nJBG2IB",
        "outputId": "f82c46ad-c6e2-4557-8901-70573eed02a5"
      },
      "execution_count": 8,
      "outputs": [
        {
          "output_type": "stream",
          "name": "stdout",
          "text": [
            "Total sum: 4999950000\n"
          ]
        }
      ]
    },
    {
      "cell_type": "code",
      "source": [
        "import numpy as np\n",
        "from line_profiler import LineProfiler\n",
        "\n",
        "# Create an array\n",
        "def create_arr():\n",
        "    return np.arange(1_00_000)\n",
        "\n",
        "# Sum an array\n",
        "def sum_arr(arr):\n",
        "    sorted_arr = np.sort(arr)\n",
        "    return np.sum(sorted_arr)\n",
        "\n",
        "# sum process\n",
        "def sum_process():\n",
        "    arr = create_arr()\n",
        "    total = sum_arr(arr)\n",
        "    print(\"Total sum:\", total)\n",
        "\n",
        "\n",
        "#using line_profiler\n",
        "profiler = LineProfiler()\n",
        "profiler.add_function(create_arr)\n",
        "profiler.add_function(sum_arr)\n",
        "profiler.add_function(sum_process)\n",
        "profiler.run('sum_process()')\n",
        "profiler.print_stats()"
      ],
      "metadata": {
        "colab": {
          "base_uri": "https://localhost:8080/"
        },
        "id": "5IxwTO-tfZqr",
        "outputId": "217ee174-a2df-4f06-85ce-4b2bde2812f9"
      },
      "execution_count": 9,
      "outputs": [
        {
          "output_type": "stream",
          "name": "stdout",
          "text": [
            "Total sum: 4999950000\n",
            "Timer unit: 1e-09 s\n",
            "\n",
            "Total time: 0.00057356 s\n",
            "File: <ipython-input-9-caced5388a27>\n",
            "Function: create_arr at line 5\n",
            "\n",
            "Line #      Hits         Time  Per Hit   % Time  Line Contents\n",
            "==============================================================\n",
            "     5                                           def create_arr():\n",
            "     6         1     573560.0 573560.0    100.0      return np.arange(1_00_000)\n",
            "\n",
            "Total time: 0.00125668 s\n",
            "File: <ipython-input-9-caced5388a27>\n",
            "Function: sum_arr at line 9\n",
            "\n",
            "Line #      Hits         Time  Per Hit   % Time  Line Contents\n",
            "==============================================================\n",
            "     9                                           def sum_arr(arr):\n",
            "    10         1    1159310.0    1e+06     92.3      sorted_arr = np.sort(arr)\n",
            "    11         1      97370.0  97370.0      7.7      return np.sum(sorted_arr)\n",
            "\n",
            "Total time: 0.00198233 s\n",
            "File: <ipython-input-9-caced5388a27>\n",
            "Function: sum_process at line 14\n",
            "\n",
            "Line #      Hits         Time  Per Hit   % Time  Line Contents\n",
            "==============================================================\n",
            "    14                                           def sum_process():\n",
            "    15         1     589360.0 589360.0     29.7      arr = create_arr()\n",
            "    16         1    1269540.0    1e+06     64.0      total = sum_arr(arr)\n",
            "    17         1     123430.0 123430.0      6.2      print(\"Total sum:\", total)\n",
            "\n"
          ]
        }
      ]
    },
    {
      "cell_type": "markdown",
      "source": [
        "## **Parallel Computing with NumPy**"
      ],
      "metadata": {
        "id": "ohObnecLrlsP"
      }
    },
    {
      "cell_type": "markdown",
      "source": [
        "### **Implicit Parallelism in NumPy**"
      ],
      "metadata": {
        "id": "rxEckL91l7L9"
      }
    },
    {
      "cell_type": "code",
      "source": [
        "import numpy as np\n",
        "np.show_config()"
      ],
      "metadata": {
        "id": "zc4rSG0sCMWy",
        "colab": {
          "base_uri": "https://localhost:8080/"
        },
        "outputId": "19bf37bd-fabe-47c3-a42a-d5ecba83d032"
      },
      "execution_count": 12,
      "outputs": [
        {
          "output_type": "stream",
          "name": "stdout",
          "text": [
            "Build Dependencies:\n",
            "  blas:\n",
            "    detection method: pkgconfig\n",
            "    found: true\n",
            "    include directory: /usr/local/include\n",
            "    lib directory: /usr/local/lib\n",
            "    name: openblas64\n",
            "    openblas configuration: USE_64BITINT=1 DYNAMIC_ARCH=1 DYNAMIC_OLDER= NO_CBLAS=\n",
            "      NO_LAPACK= NO_LAPACKE= NO_AFFINITY=1 USE_OPENMP= HASWELL MAX_THREADS=2\n",
            "    pc file directory: /usr/local/lib/pkgconfig\n",
            "    version: 0.3.23.dev\n",
            "  lapack:\n",
            "    detection method: internal\n",
            "    found: true\n",
            "    include directory: unknown\n",
            "    lib directory: unknown\n",
            "    name: dep139863411681952\n",
            "    openblas configuration: unknown\n",
            "    pc file directory: unknown\n",
            "    version: 1.26.4\n",
            "Compilers:\n",
            "  c:\n",
            "    args: -fno-strict-aliasing\n",
            "    commands: cc\n",
            "    linker: ld.bfd\n",
            "    linker args: -Wl,--strip-debug, -fno-strict-aliasing\n",
            "    name: gcc\n",
            "    version: 10.2.1\n",
            "  c++:\n",
            "    commands: c++\n",
            "    linker: ld.bfd\n",
            "    linker args: -Wl,--strip-debug\n",
            "    name: gcc\n",
            "    version: 10.2.1\n",
            "  cython:\n",
            "    commands: cython\n",
            "    linker: cython\n",
            "    name: cython\n",
            "    version: 3.0.8\n",
            "Machine Information:\n",
            "  build:\n",
            "    cpu: x86_64\n",
            "    endian: little\n",
            "    family: x86_64\n",
            "    system: linux\n",
            "  host:\n",
            "    cpu: x86_64\n",
            "    endian: little\n",
            "    family: x86_64\n",
            "    system: linux\n",
            "Python Information:\n",
            "  path: /opt/python/cp310-cp310/bin/python\n",
            "  version: '3.10'\n",
            "SIMD Extensions:\n",
            "  baseline:\n",
            "  - SSE\n",
            "  - SSE2\n",
            "  - SSE3\n",
            "  found:\n",
            "  - SSSE3\n",
            "  - SSE41\n",
            "  - POPCNT\n",
            "  - SSE42\n",
            "  - AVX\n",
            "  - F16C\n",
            "  - FMA3\n",
            "  - AVX2\n",
            "  not found:\n",
            "  - AVX512F\n",
            "  - AVX512CD\n",
            "  - AVX512_KNL\n",
            "  - AVX512_KNM\n",
            "  - AVX512_SKX\n",
            "  - AVX512_CLX\n",
            "  - AVX512_CNL\n",
            "  - AVX512_ICL\n",
            "\n"
          ]
        }
      ]
    },
    {
      "cell_type": "markdown",
      "source": [
        "### \t**Using the multiprocessing Module**"
      ],
      "metadata": {
        "id": "2-wHY2vNr-yB"
      }
    },
    {
      "cell_type": "code",
      "source": [
        "from multiprocessing import Pool\n",
        "import numpy as np\n",
        "import time\n",
        "\n",
        "# Define the function to simulate points in a quarter circle\n",
        "def monte_carlo_pi_part(n):\n",
        "    np.random.seed()  # Each process should have its own random seed\n",
        "    x = np.random.rand(n)\n",
        "    y = np.random.rand(n)\n",
        "    inside_circle = np.sum(x**2 + y**2 <= 1)\n",
        "    return inside_circle\n",
        "\n",
        "# Total number of points\n",
        "n_points = 1000_000_000\n",
        "\n",
        "# Single-threaded version\n",
        "start_time = time.time()\n",
        "inside_circle = monte_carlo_pi_part(n_points)\n",
        "pi_single = (inside_circle / n_points) * 4\n",
        "end_time = time.time()\n",
        "print(f\"Single-threaded π approximation: {pi_single}\")\n",
        "print(f\"Single-threaded computation time: {end_time - start_time:.4f} seconds\")\n",
        "\n",
        "# Multiprocessing version\n",
        "n_processes = 4  # Number of processes to use\n",
        "points_per_process = n_points // n_processes\n",
        "\n",
        "start_time = time.time()\n",
        "with Pool(n_processes) as pool:\n",
        "    results = pool.map(monte_carlo_pi_part, [points_per_process] * n_processes)\n",
        "inside_circle_multi = sum(results)\n",
        "pi_multi = (inside_circle_multi / n_points) * 4\n",
        "end_time = time.time()\n",
        "print(f\"Multiprocessing π approximation: {pi_multi}\")\n",
        "print(f\"Multiprocessing computation time: {end_time - start_time:.4f} seconds\")\n"
      ],
      "metadata": {
        "colab": {
          "base_uri": "https://localhost:8080/"
        },
        "id": "thGlZSNPLAOW",
        "outputId": "1986368a-3311-4ce4-eb87-737d4968fbdb"
      },
      "execution_count": null,
      "outputs": [
        {
          "output_type": "stream",
          "name": "stdout",
          "text": [
            "Single-threaded π approximation: 3.141570072\n",
            "Single-threaded computation time: 29.6268 seconds\n",
            "Multiprocessing π approximation: 3.141560632\n",
            "Multiprocessing computation time: 6.3463 seconds\n"
          ]
        }
      ]
    },
    {
      "cell_type": "markdown",
      "source": [
        "### **Using Dask for Large Datasets**"
      ],
      "metadata": {
        "id": "FfKuIhestwj8"
      }
    },
    {
      "cell_type": "code",
      "source": [
        "import dask.array as da\n",
        "import numpy as np\n",
        "import time\n",
        "\n",
        "# Dask version\n",
        "start_time = time.time()\n",
        "x = da.random.random((10000, 10000), chunks=(1000, 1000))\n",
        "\n",
        "y = x + x.T\n",
        "result= y[::2, 5000:].mean(axis=1)\n",
        "final_result_dask = result.compute()\n",
        "end_time = time.time()\n",
        "print(f\"Dask mean calculation: Time taken (Dask): {end_time - start_time:.4f} seconds\")\n",
        "\n",
        "# NumPy version\n",
        "start_time = time.time()\n",
        "\n",
        "x_np = np.random.random((10000, 10000))\n",
        "y = x_np + x_np.T\n",
        "result= y[::2, 5000:].mean(axis=1)\n",
        "end_time = time.time()\n",
        "print(f\"NumPy mean calculation: Time taken (NumPy): {end_time - start_time:.4f} seconds\")\n"
      ],
      "metadata": {
        "colab": {
          "base_uri": "https://localhost:8080/"
        },
        "id": "qWYq3sLir8Ey",
        "outputId": "d93d1cb2-d58c-47cb-ac15-299466e3c1cc"
      },
      "execution_count": 13,
      "outputs": [
        {
          "output_type": "stream",
          "name": "stdout",
          "text": [
            "Dask mean calculation: Time taken (Dask): 0.1752 seconds\n",
            "NumPy mean calculation: Time taken (NumPy): 0.9444 seconds\n"
          ]
        }
      ]
    },
    {
      "cell_type": "markdown",
      "source": [
        "### **Using numexpr for Efficient Calculations**"
      ],
      "metadata": {
        "id": "tIRdXqwB9XnX"
      }
    },
    {
      "cell_type": "code",
      "source": [
        "import numexpr as ne\n",
        "import numpy as np\n",
        "import time\n",
        "\n",
        "# Create two large arrays\n",
        "a = np.random.rand(1_000_000_000)\n",
        "b = np.random.rand(1_000_000_000)\n",
        "\n",
        "# NumExpr version\n",
        "start_time = time.time()\n",
        "result_numexpr = ne.evaluate(\"a * b + a**2\")\n",
        "end_time = time.time()\n",
        "print(f\"NumExpr result (first 5 elements): {result_numexpr[:5]}\")\n",
        "print(f\"Time taken with NumExpr: {end_time - start_time:.4f} seconds\")\n",
        "\n",
        "# NumPy version\n",
        "start_time = time.time()\n",
        "result_numpy = a * b + a**2\n",
        "end_time = time.time()\n",
        "print(f\"NumPy result (first 5 elements): {result_numpy[:5]}\")\n",
        "print(f\"Time taken with NumPy: {end_time - start_time:.4f} seconds\")\n"
      ],
      "metadata": {
        "colab": {
          "base_uri": "https://localhost:8080/"
        },
        "id": "PKd2Tn2LFhaA",
        "outputId": "1fe5a257-b3e8-4eb4-e05a-c4c74b9f9d03"
      },
      "execution_count": null,
      "outputs": [
        {
          "output_type": "stream",
          "name": "stdout",
          "text": [
            "NumExpr result (first 5 elements): [0.49522517 0.69049445 0.02798162 0.57816388 0.2218517 ]\n",
            "Time taken with NumExpr: 0.6453 seconds\n",
            "NumPy result (first 5 elements): [0.49522517 0.69049445 0.02798162 0.57816388 0.2218517 ]\n",
            "Time taken with NumPy: 4.0546 seconds\n"
          ]
        }
      ]
    },
    {
      "cell_type": "markdown",
      "source": [
        "### **Using the Numba Compiler**"
      ],
      "metadata": {
        "id": "bL6vvHCA-US-"
      }
    },
    {
      "cell_type": "code",
      "source": [
        "import numpy as np\n",
        "from numba import njit\n",
        "import time\n",
        "\n",
        "# Create two large arrays\n",
        "a = np.random.rand(1_000_000_000)\n",
        "b = np.random.rand(1_000_000_000)\n",
        "\n",
        "# Define a function with Numba JIT compilation\n",
        "@njit\n",
        "def numba_expression(a, b):\n",
        "    return a * b + a**2\n",
        "\n",
        "# Numba Version\n",
        "start_time = time.time()\n",
        "result_numba = numba_expression(a, b)\n",
        "end_time = time.time()\n",
        "print(f\"Numba result (first 5 elements): {result_numba[:5]}\")\n",
        "print(f\"Time taken with Numba: {end_time - start_time:.4f} seconds\")\n",
        "\n",
        "# NumPy Version\n",
        "start_time = time.time()\n",
        "result_numpy = a * b + a**2\n",
        "end_time = time.time()\n",
        "print(f\"NumPy result (first 5 elements): {result_numpy[:5]}\")\n",
        "print(f\"Time taken with NumPy: {end_time - start_time:.4f} seconds\")\n"
      ],
      "metadata": {
        "colab": {
          "base_uri": "https://localhost:8080/"
        },
        "id": "setrE5rkwGiR",
        "outputId": "b905f35f-6849-478d-ea72-2541c93ab7bc"
      },
      "execution_count": null,
      "outputs": [
        {
          "output_type": "stream",
          "name": "stdout",
          "text": [
            "Numba result (first 5 elements): [0.48115001 0.10296687 0.99067045 0.02163336 1.25756439]\n",
            "Time taken with Numba: 3.6608 seconds\n",
            "NumPy result (first 5 elements): [0.48115001 0.10296687 0.99067045 0.02163336 1.25756439]\n",
            "Time taken with NumPy: 5.4296 seconds\n"
          ]
        }
      ]
    },
    {
      "cell_type": "markdown",
      "source": [
        "### **Using Joblib**"
      ],
      "metadata": {
        "id": "N3_2SWW7JWhQ"
      }
    },
    {
      "cell_type": "code",
      "source": [
        "from joblib import Parallel, delayed\n",
        "import numpy as np\n",
        "import math\n",
        "import time\n",
        "\n",
        "# Define a computationally intensive function\n",
        "def compute_factorial(x):\n",
        "    return math.factorial(x)\n",
        "\n",
        "# Create a large array of numbers\n",
        "data = np.arange(1, 10_000)  # Large range for factorial calculations\n",
        "\n",
        "# NumPy version (single-threaded loop)\n",
        "start_time = time.time()\n",
        "results_numpy = [compute_factorial(x) for x in data]\n",
        "end_time = time.time()\n",
        "print(f\"Single-threaded (NumPy-like) computation time: {end_time - start_time:.4f} seconds\")\n",
        "\n",
        "# Joblib version (parallelized)\n",
        "start_time = time.time()\n",
        "results_joblib = Parallel(n_jobs=-1)(delayed(compute_factorial)(x) for x in data)\n",
        "end_time = time.time()\n",
        "print(f\"Parallel computation time with Joblib: {end_time - start_time:.4f} seconds\")\n"
      ],
      "metadata": {
        "colab": {
          "base_uri": "https://localhost:8080/"
        },
        "id": "gib0Q5fXzg1M",
        "outputId": "807ff476-2e56-4dc8-c80f-692b1109c188"
      },
      "execution_count": null,
      "outputs": [
        {
          "output_type": "stream",
          "name": "stdout",
          "text": [
            "Single-threaded (NumPy-like) computation time: 7.0207 seconds\n",
            "Parallel computation time with Joblib: 1.5537 seconds\n"
          ]
        }
      ]
    },
    {
      "cell_type": "code",
      "source": [],
      "metadata": {
        "id": "45NyFJWTz6XP"
      },
      "execution_count": null,
      "outputs": []
    }
  ]
}