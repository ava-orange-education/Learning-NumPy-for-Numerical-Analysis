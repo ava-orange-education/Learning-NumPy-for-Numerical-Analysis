{
  "nbformat": 4,
  "nbformat_minor": 0,
  "metadata": {
    "colab": {
      "provenance": []
    },
    "kernelspec": {
      "name": "python3",
      "display_name": "Python 3"
    },
    "language_info": {
      "name": "python"
    }
  },
  "cells": [
    {
      "cell_type": "code",
      "execution_count": null,
      "metadata": {
        "id": "_upkZ-LVy3uU"
      },
      "outputs": [],
      "source": [
        "import numpy as np"
      ]
    },
    {
      "cell_type": "code",
      "source": [
        "import numpy as np\n",
        "\n",
        "# Python List Indexing\n",
        "list_2d = [[1, 2, 3], [4, 5, 6], [7, 8, 9]]\n",
        "# Accessing the third element in the second list\n",
        "print(\"List Indexing: \", list_2d[1][2])\n",
        "\n",
        "# NumPy Array Indexing\n",
        "array_2d = np.array([[1, 2, 3], [4, 5, 6], [7, 8, 9]])\n",
        "# Directly accessing the element in the second row, third column\n",
        "print(\"NumPy Array Indexing: \", array_2d[1, 2])"
      ],
      "metadata": {
        "colab": {
          "base_uri": "https://localhost:8080/"
        },
        "id": "zwShuyNGy9WY",
        "outputId": "a633a934-cfdb-4264-8a86-1b7c7c0b493d"
      },
      "execution_count": null,
      "outputs": [
        {
          "output_type": "stream",
          "name": "stdout",
          "text": [
            "List Indexing:  6\n",
            "NumPy Array Indexing:  6\n"
          ]
        }
      ]
    },
    {
      "cell_type": "markdown",
      "source": [
        "### **Negative Indexing**"
      ],
      "metadata": {
        "id": "Ia_-Q9Ne3_eJ"
      }
    },
    {
      "cell_type": "code",
      "source": [
        "import numpy as np\n",
        "\n",
        "arr = np.array([10, 20, 30, 40, 50])\n",
        "print(\"input original array:\", arr)\n",
        "# Accessing elements using negative indexing\n",
        "last_element = arr[-1]  # Access the last element (50)\n",
        "second_to_last = arr[-2]  # Access the second-to-last element (40)\n",
        "third_to_last = arr[-3]  # Access the third-to-last element (30)\n",
        "\n",
        "print(\"last element:\", last_element)\n",
        "print(\"second to last element:\", second_to_last)\n",
        "print(\"third to last element:\", third_to_last)"
      ],
      "metadata": {
        "colab": {
          "base_uri": "https://localhost:8080/"
        },
        "id": "DK0tWCYV4CxA",
        "outputId": "6cec4787-388f-4601-e13c-984ec90d91bb"
      },
      "execution_count": null,
      "outputs": [
        {
          "output_type": "stream",
          "name": "stdout",
          "text": [
            "input original array: [10 20 30 40 50]\n",
            "last element: 50\n",
            "second to last element: 40\n",
            "third to last element: 30\n"
          ]
        }
      ]
    },
    {
      "cell_type": "code",
      "source": [
        "import numpy as np\n",
        "arr = np.array([1, 6, 3, 4, 5])\n",
        "\n",
        "print(\"input array:\", arr)\n",
        "print(\"elements where value is greater than 4:\",arr[arr > 4])\n"
      ],
      "metadata": {
        "colab": {
          "base_uri": "https://localhost:8080/"
        },
        "id": "p-6EPjH53hH0",
        "outputId": "b4f72365-a9d4-48b8-edb4-d9f95827ab08"
      },
      "execution_count": null,
      "outputs": [
        {
          "output_type": "stream",
          "name": "stdout",
          "text": [
            "input array: [1 6 3 4 5]\n",
            "elements where value is greater than 4: [6 5]\n"
          ]
        }
      ]
    },
    {
      "cell_type": "code",
      "source": [
        "print (\"input array:\", arr)\n",
        "index = np.array([True, False, True, False, True])\n",
        "print(\"elements where index is True:\", arr[index])\n"
      ],
      "metadata": {
        "colab": {
          "base_uri": "https://localhost:8080/"
        },
        "id": "RoLAyLmI3yZd",
        "outputId": "6487a2db-a645-4eb9-dce9-ca248eb329b2"
      },
      "execution_count": null,
      "outputs": [
        {
          "output_type": "stream",
          "name": "stdout",
          "text": [
            "input array: [1 6 3 4 5]\n",
            "elements where index is True: [1 3 5]\n"
          ]
        }
      ]
    },
    {
      "cell_type": "code",
      "source": [
        "print(\"input array:\", arr)\n",
        "print(\"even elements:\",arr[arr % 2 == 0])\n"
      ],
      "metadata": {
        "colab": {
          "base_uri": "https://localhost:8080/"
        },
        "id": "h3kE_Zj9I2ll",
        "outputId": "649914d9-7106-465a-9aed-b10d44043f34"
      },
      "execution_count": null,
      "outputs": [
        {
          "output_type": "stream",
          "name": "stdout",
          "text": [
            "input array: [1 6 3 4 5]\n",
            "even elements: [6 4]\n"
          ]
        }
      ]
    },
    {
      "cell_type": "markdown",
      "source": [
        "### **Fancy Indexing with NumPy**"
      ],
      "metadata": {
        "id": "P6OfsKzd7IOA"
      }
    },
    {
      "cell_type": "code",
      "source": [
        "import numpy as np\n",
        "\n",
        "arr = np.array([100, 200, 300, 400, 500])\n",
        "print(\"input original array:\", arr)\n",
        "indices = np.array([1, 3, 4])\n",
        "\n",
        "selected_elements = arr[indices]\n",
        "print(\"selected elements:\",selected_elements)\n"
      ],
      "metadata": {
        "colab": {
          "base_uri": "https://localhost:8080/"
        },
        "id": "HD1xlSOa7Ltv",
        "outputId": "b7d91548-414d-4c84-c2f0-6171cc599fbc"
      },
      "execution_count": null,
      "outputs": [
        {
          "output_type": "stream",
          "name": "stdout",
          "text": [
            "input original array: [100 200 300 400 500]\n",
            "selected elements: [200 400 500]\n"
          ]
        }
      ]
    },
    {
      "cell_type": "markdown",
      "source": [
        "## **Slicing un NUmpY array**"
      ],
      "metadata": {
        "id": "iA1sJmLPJhE8"
      }
    },
    {
      "cell_type": "code",
      "source": [
        "import numpy as np\n",
        "\n",
        "arr = np.array([1, 2, 3, 4, 5])\n",
        "sliced_elements = arr[0:2]  # Start index is 0, stop index is 2 (exclusive)\n",
        "print(sliced_elements)\n"
      ],
      "metadata": {
        "colab": {
          "base_uri": "https://localhost:8080/"
        },
        "id": "7jRVVrO3JmB7",
        "outputId": "0ba10292-12fe-4c4f-f84f-8e7ea5622a3a"
      },
      "execution_count": null,
      "outputs": [
        {
          "output_type": "stream",
          "name": "stdout",
          "text": [
            "[1 2]\n"
          ]
        }
      ]
    },
    {
      "cell_type": "code",
      "source": [
        "# select the 2nd element from last in array\n",
        "import numpy as np\n",
        "arr = np.array([1, 6, 3, 4, 5])\n",
        "print(\"select the 2nd elemnt from last in array:\", arr[-2])"
      ],
      "metadata": {
        "id": "EHZz0DsEJAN6"
      },
      "execution_count": null,
      "outputs": []
    },
    {
      "cell_type": "markdown",
      "source": [
        "## **Extracting the first 'n' elements from NumPy array**"
      ],
      "metadata": {
        "id": "Y8xQ36o5MvDe"
      }
    },
    {
      "cell_type": "code",
      "source": [
        "import numpy as np\n",
        "\n",
        "# Create a NumPy array\n",
        "arr = np.array([1, 2, 3, 4, 5, 6, 7, 8, 9, 10])\n",
        "\n",
        "# Use slicing to get the first 4  elements\n",
        "first_four_elements_1 = arr[:4]\n",
        "first_four_elements_2 = arr[0:4]\n",
        "\n",
        "print(\"first four element using slicing arr[:4]  ->\", first_four_elements_1)\n",
        "print(\"first four element using slicing arr[0:4] ->\",first_four_elements_2)\n"
      ],
      "metadata": {
        "colab": {
          "base_uri": "https://localhost:8080/"
        },
        "id": "3dPnKT58F2ur",
        "outputId": "6a287416-3735-48b5-b149-52b15d2d0eaa"
      },
      "execution_count": null,
      "outputs": [
        {
          "output_type": "stream",
          "name": "stdout",
          "text": [
            "first four element using slicing arr[:4]  -> [1 2 3 4]\n",
            "first four element using slicing arr[0:4] -> [1 2 3 4]\n"
          ]
        }
      ]
    },
    {
      "cell_type": "markdown",
      "source": [
        "### **Extracting the elements from index m to index n NumPy array**"
      ],
      "metadata": {
        "id": "piXNSkHjPFAC"
      }
    },
    {
      "cell_type": "code",
      "source": [
        "import numpy as np\n",
        "\n",
        "# Create a NumPy array\n",
        "arr = np.array([1, 2, 3, 4, 5, 6, 7, 8, 9, 10])\n",
        "\n",
        "# Use slicing to get elements from index 2 to index 5 (inclusive)\n",
        "extracted_elements = arr[2:6] #arr[m:n+1]\n",
        "\n",
        "print(extracted_elements)\n"
      ],
      "metadata": {
        "colab": {
          "base_uri": "https://localhost:8080/"
        },
        "id": "qEPHbt9sNLa8",
        "outputId": "9b0a9b31-b4db-4768-cf88-da8bf642f82a"
      },
      "execution_count": null,
      "outputs": [
        {
          "output_type": "stream",
          "name": "stdout",
          "text": [
            "[3 4 5 6]\n"
          ]
        }
      ]
    },
    {
      "cell_type": "code",
      "source": [],
      "metadata": {
        "id": "we_XQP4Zbe1S"
      },
      "execution_count": null,
      "outputs": []
    },
    {
      "cell_type": "markdown",
      "source": [
        "### **Extracting all elements from the NumPy array**"
      ],
      "metadata": {
        "id": "pxIiFSDAjskW"
      }
    },
    {
      "cell_type": "code",
      "source": [
        "import numpy as np\n",
        "\n",
        "# Create a NumPy array\n",
        "arr = np.array([10, 20, 30, 40, 50])\n",
        "print(\" Original array:\", arr)\n",
        "\n",
        "# Extract all elements using slicing notation [:]\n",
        "all_elements_1 = arr[:]\n",
        "\n",
        "# Extract all elements using slicing notation [::]\n",
        "all_elements_2 = arr[::]\n",
        "\n",
        "\n",
        "# Extract all elements using slicing notation [0:]\n",
        "all_elements_3 = arr[0:]\n",
        "\n",
        "\n",
        "print(\" Extratced all elements from original array arr using slicing notation [:]  ->\", all_elements_1)\n",
        "print(\" Extratced all elements from original array arr using slicing notation [::] ->\", all_elements_2)\n",
        "print(\" Extratced all elements from original array arr using slicing notation [0:] ->\", all_elements_3)"
      ],
      "metadata": {
        "colab": {
          "base_uri": "https://localhost:8080/"
        },
        "id": "v9C6N3BxjzRC",
        "outputId": "a2a570f9-7c02-4c75-ae3f-64ddb1633108"
      },
      "execution_count": null,
      "outputs": [
        {
          "output_type": "stream",
          "name": "stdout",
          "text": [
            " Original array: [10 20 30 40 50]\n",
            " Extratced all elements from original array arr using slicing notation [:]  -> [10 20 30 40 50]\n",
            " Extratced all elements from original array arr using slicing notation [::] -> [10 20 30 40 50]\n",
            " Extratced all elements from original array arr using slicing notation [0:] -> [10 20 30 40 50]\n"
          ]
        }
      ]
    },
    {
      "cell_type": "code",
      "source": [
        "all_elements_3 = arr[0:-1]\n",
        "print(\" Extratced all elements from original array arr using slicing notation [0:-1] ->\", all_elements_3)"
      ],
      "metadata": {
        "colab": {
          "base_uri": "https://localhost:8080/"
        },
        "id": "VTxqIDiElOvs",
        "outputId": "acc57559-9daf-4e72-c228-0886cc914a73"
      },
      "execution_count": null,
      "outputs": [
        {
          "output_type": "stream",
          "name": "stdout",
          "text": [
            " Extratced all elements from original array arr using slicing notation [0:-1] -> [10 20 30 40]\n"
          ]
        }
      ]
    },
    {
      "cell_type": "markdown",
      "source": [
        "### **Select elements with index m through n (exclusive), with step size s**"
      ],
      "metadata": {
        "id": "0rCzBshcqLz1"
      }
    },
    {
      "cell_type": "code",
      "source": [
        "import numpy as np\n",
        "\n",
        "# Create a NumPy array\n",
        "arr = np.array([10, 20, 30, 40, 50, 60, 70, 80, 90, 100])\n",
        "print(\"Original array:\", arr)\n",
        "# Select elements from index 2 through 7 (exclusive) with a step size of 2\n",
        "selected_elements = arr[2:7:2]\n",
        "\n",
        "print(\"Elememtns from index 2 through 7 (exclusive) with a step size of 2:\",selected_elements)\n"
      ],
      "metadata": {
        "colab": {
          "base_uri": "https://localhost:8080/"
        },
        "id": "vwnxTT_6rBF6",
        "outputId": "533acc09-6990-4b70-ecbe-7888bcf764ba"
      },
      "execution_count": null,
      "outputs": [
        {
          "output_type": "stream",
          "name": "stdout",
          "text": [
            "Original array: [ 10  20  30  40  50  60  70  80  90 100]\n",
            "Elememtns from index 2 through 7 (exclusive) with a step size of 2: [30 50 70]\n"
          ]
        }
      ]
    },
    {
      "cell_type": "markdown",
      "source": [
        "### **Select all elements from array in reverse order**"
      ],
      "metadata": {
        "id": "YufO4ruVyvuf"
      }
    },
    {
      "cell_type": "code",
      "source": [
        "import numpy as np\n",
        "\n",
        "# Create a NumPy array\n",
        "arr = np.array([10, 20, 30, 40, 50])\n",
        "print(\"Original array:\", arr)\n",
        "\n",
        "# Select all elements in reverse order\n",
        "reversed_elements = arr[::-1]\n",
        "\n",
        "print(\"All elements in reverse order:\",reversed_elements)\n"
      ],
      "metadata": {
        "colab": {
          "base_uri": "https://localhost:8080/"
        },
        "id": "IOij7P5yptaQ",
        "outputId": "7139a5fe-8991-4fc9-a963-8ee7c16f7d11"
      },
      "execution_count": null,
      "outputs": [
        {
          "output_type": "stream",
          "name": "stdout",
          "text": [
            "Original array: [10 20 30 40 50]\n",
            "All elements in reverse order: [50 40 30 20 10]\n"
          ]
        }
      ]
    },
    {
      "cell_type": "markdown",
      "source": [
        "### **Slicing in Multidimentional arrays**"
      ],
      "metadata": {
        "id": "KwKnMWvwSvBi"
      }
    },
    {
      "cell_type": "markdown",
      "source": [
        "### **Slicing in Multidimentional arrays -2d array**"
      ],
      "metadata": {
        "id": "M-A5I3eRS3_U"
      }
    },
    {
      "cell_type": "code",
      "source": [
        "# Creating 2d ARRAY\n",
        "import numpy as np\n",
        "arr_2d = np.array([[10, 20, 30],\n",
        "                [40, 50, 60],\n",
        "                [70, 80, 90]\n",
        "                ])\n",
        "print(\"input orginal 2-D array\\n\",arr_2d)"
      ],
      "metadata": {
        "id": "tRp9tYL7y76g",
        "colab": {
          "base_uri": "https://localhost:8080/"
        },
        "outputId": "478adb11-e6b7-417d-8bb3-c89eb70b242e"
      },
      "execution_count": null,
      "outputs": [
        {
          "output_type": "stream",
          "name": "stdout",
          "text": [
            "input orginal 2-D array\n",
            " [[10 20 30]\n",
            " [40 50 60]\n",
            " [70 80 90]]\n"
          ]
        }
      ]
    },
    {
      "cell_type": "code",
      "source": [
        "subarray = arr_2d[0:2, 1:3]\n",
        "print(\" innput original 2-D array\\n\",arr_2d)\n",
        "print(\"Sliced array from 2-D array arr_2d \\n\",subarray)\n"
      ],
      "metadata": {
        "colab": {
          "base_uri": "https://localhost:8080/"
        },
        "id": "ngBgfHPBTG-e",
        "outputId": "05298552-cd7a-4508-8018-ba8ad508fb26"
      },
      "execution_count": null,
      "outputs": [
        {
          "output_type": "stream",
          "name": "stdout",
          "text": [
            " innput original 2-D array\n",
            " [[10 20 30]\n",
            " [40 50 60]\n",
            " [70 80 90]]\n",
            "Sliced array from 2-D array arr_2d \n",
            " [[20 30]\n",
            " [50 60]]\n"
          ]
        }
      ]
    },
    {
      "cell_type": "code",
      "source": [
        "import numpy as np\n",
        "# Create a 3D array (3x3x3)\n",
        "arr_3d = np.array([[[10, 20, 30],\n",
        "                    [40, 50, 60],\n",
        "                    [70, 80, 90]],\n",
        "\n",
        "                   [[100, 110, 120],\n",
        "                    [130, 140, 150],\n",
        "                    [160, 170, 180]],\n",
        "\n",
        "                   [[109, 200, 201],\n",
        "                    [202, 230, 204],\n",
        "                    [205, 206, 270]]])\n",
        "\n",
        "# Select a subarray from dimensions 0 to 1 along each dimension\n",
        "subarray = arr_3d[0:2, 1:3, 0:2]\n",
        "print(\" Input original 3-D array\\n\",arr_3d)\n",
        "print(\"Sliced array from 3-D array arr_3d \\n\",subarray)"
      ],
      "metadata": {
        "colab": {
          "base_uri": "https://localhost:8080/"
        },
        "id": "vDAap1ByWROt",
        "outputId": "7eb90531-5c3b-4120-f118-17c2b8b489b4"
      },
      "execution_count": null,
      "outputs": [
        {
          "output_type": "stream",
          "name": "stdout",
          "text": [
            " Input original 3-D array\n",
            " [[[ 10  20  30]\n",
            "  [ 40  50  60]\n",
            "  [ 70  80  90]]\n",
            "\n",
            " [[100 110 120]\n",
            "  [130 140 150]\n",
            "  [160 170 180]]\n",
            "\n",
            " [[109 200 201]\n",
            "  [202 230 204]\n",
            "  [205 206 270]]]\n",
            "Sliced array from 3-D array arr_3d \n",
            " [[[ 40  50]\n",
            "  [ 70  80]]\n",
            "\n",
            " [[130 140]\n",
            "  [160 170]]]\n"
          ]
        }
      ]
    },
    {
      "cell_type": "markdown",
      "source": [
        "### **Slicing Rows or Columns: Selecting Specific Rows or Columns**"
      ],
      "metadata": {
        "id": "YlhGiBPjjb_t"
      }
    },
    {
      "cell_type": "code",
      "source": [
        "# Creating 2d array\n",
        "import numpy as np\n",
        "arr_2d = np.array([[10, 20, 30],\n",
        "                [40, 50, 60],\n",
        "                [70, 80, 90]\n",
        "                ])\n",
        "print(\"input orginal 2-D array\\n\",arr_2d)\n",
        "\n",
        "# slicing the column\n",
        "column_slice = arr_2d[:, 0]\n",
        "print(\"All rows but only the first column (column index 0):\\n\",column_slice)\n",
        "\n",
        "# slicing the row\n",
        "row_slice = arr_2d[2, :]\n",
        "print(\"All columns but only the 3rd row (row index 2):\\n\",row_slice)\n"
      ],
      "metadata": {
        "colab": {
          "base_uri": "https://localhost:8080/"
        },
        "id": "qpbQ3oXielwH",
        "outputId": "cfdb670f-9cce-498d-8f36-5fe8d32531f6"
      },
      "execution_count": null,
      "outputs": [
        {
          "output_type": "stream",
          "name": "stdout",
          "text": [
            "input orginal 2-D array\n",
            " [[10 20 30]\n",
            " [40 50 60]\n",
            " [70 80 90]]\n",
            "All rows but only the first column (column index 0):\n",
            " [10 40 70]\n",
            "All columns but only the 3rd row (row index 2):\n",
            " [70 80 90]\n"
          ]
        }
      ]
    },
    {
      "cell_type": "code",
      "source": [
        "# Creating 2d array\n",
        "import numpy as np\n",
        "arr_2d = np.array([[10, 20, 30],\n",
        "                [40, 50, 60],\n",
        "                [70, 80, 90],\n",
        "                    [100, 110, 120]\n",
        "                ])\n",
        "print(\"input orginal 2-D array\\n\",arr_2d)\n",
        "\n",
        " # Select every 3rd row and every other column\n",
        "subarray = arr_2d[::3, ::2]\n",
        "print(\" Sliced subarray from 2-D array arr_2d\\n\",subarray)\n"
      ],
      "metadata": {
        "colab": {
          "base_uri": "https://localhost:8080/"
        },
        "id": "eEVs08Zve4ay",
        "outputId": "14687567-3c85-4bbe-8c04-9fd13ade0372"
      },
      "execution_count": null,
      "outputs": [
        {
          "output_type": "stream",
          "name": "stdout",
          "text": [
            "input orginal 2-D array\n",
            " [[ 10  20  30]\n",
            " [ 40  50  60]\n",
            " [ 70  80  90]\n",
            " [100 110 120]]\n",
            " Sliced subarray from 2-D array arr_2d\n",
            " [[ 10  30]\n",
            " [100 120]]\n"
          ]
        }
      ]
    },
    {
      "cell_type": "code",
      "source": [
        "# Creating 2d array\n",
        "import numpy as np\n",
        "arr_2d = np.array([[10, 20, 30],\n",
        "                [40, 50, 60],\n",
        "                [70, 80, 90],\n",
        "                    [100, 110, 120]\n",
        "                ])\n",
        "print(\"input orginal 2-D array\\n\",arr_2d)\n",
        "\n",
        "# Select the last row and last two columns\n",
        "subarray = arr_2d[-1, -2:]\n",
        "print(\" Sliced subarray from 2-D array arr_2d\\n\",subarray)\n"
      ],
      "metadata": {
        "colab": {
          "base_uri": "https://localhost:8080/"
        },
        "id": "3HDZX8K_xo8v",
        "outputId": "8349aaf2-b514-47c6-85eb-aa12b1b47070"
      },
      "execution_count": null,
      "outputs": [
        {
          "output_type": "stream",
          "name": "stdout",
          "text": [
            "input orginal 2-D array\n",
            " [[ 10  20  30]\n",
            " [ 40  50  60]\n",
            " [ 70  80  90]\n",
            " [100 110 120]]\n",
            " Sliced subarray from 2-D array arr_2d\n",
            " [110 120]\n"
          ]
        }
      ]
    },
    {
      "cell_type": "code",
      "source": [
        "# Creating 2d array\n",
        "import numpy as np\n",
        "arr_2d = np.array([[10, 20, 30],\n",
        "                [40, 50, 60],\n",
        "                [70, 80, 90],\n",
        "                    [100, 110, 120]\n",
        "                ])\n",
        "print(\"input orginal 2-D array\\n\",arr_2d)\n",
        "\n",
        "# Select the last row and last two columns\n",
        "subarray = arr_2d[:,1]\n",
        "print(\" Sliced subarray from 2-D array arr_2d\\n\",subarray)\n"
      ],
      "metadata": {
        "colab": {
          "base_uri": "https://localhost:8080/"
        },
        "id": "-OeMTk6J26DD",
        "outputId": "054254ff-404f-416e-8217-8a609b5b982d"
      },
      "execution_count": null,
      "outputs": [
        {
          "output_type": "stream",
          "name": "stdout",
          "text": [
            "input orginal 2-D array\n",
            " [[ 10  20  30]\n",
            " [ 40  50  60]\n",
            " [ 70  80  90]\n",
            " [100 110 120]]\n",
            " Sliced subarray from 2-D array arr_2d\n",
            " [ 20  50  80 110]\n"
          ]
        }
      ]
    },
    {
      "cell_type": "markdown",
      "source": [
        "## **Using Ellipsis (...) for Higher Dimensions**"
      ],
      "metadata": {
        "id": "QLeUIBVmiPGG"
      }
    },
    {
      "cell_type": "code",
      "source": [
        "import numpy as np\n",
        "\n",
        "# Create a 3D array (3x3x3)\n",
        "arr_3d = np.array([\n",
        "    [[10, 20, 3],\n",
        "     [40, 50, 60],\n",
        "     [70, 80, 90]],\n",
        "\n",
        "    [[100, 101, 120],\n",
        "     [130, 104, 150],\n",
        "     [160, 170, 108]],\n",
        "\n",
        "    [[190, 200, 210],\n",
        "     [20, 203, 240],\n",
        "     [205, 206, 207]]\n",
        "])\n",
        "\n",
        "# Using ellipsis (...) to select a subarray\n",
        "# Selects the second column along the last dimension\n",
        "subarray = arr_3d[..., 1]\n",
        "\n",
        "print(\"Original 3D array:\\n\", arr_3d)\n",
        "print(\"\\nSliced subarray using ellipsis (...):\\n\", subarray)"
      ],
      "metadata": {
        "colab": {
          "base_uri": "https://localhost:8080/"
        },
        "id": "pe9eCKKL2GGa",
        "outputId": "fc3bfcc9-3c1d-4a71-877c-1bb08290af6a"
      },
      "execution_count": null,
      "outputs": [
        {
          "output_type": "stream",
          "name": "stdout",
          "text": [
            "Original 3D array:\n",
            " [[[ 10  20   3]\n",
            "  [ 40  50  60]\n",
            "  [ 70  80  90]]\n",
            "\n",
            " [[100 101 120]\n",
            "  [130 104 150]\n",
            "  [160 170 108]]\n",
            "\n",
            " [[190 200 210]\n",
            "  [ 20 203 240]\n",
            "  [205 206 207]]]\n",
            "\n",
            "Sliced subarray using ellipsis (...):\n",
            " [[ 20  50  80]\n",
            " [101 104 170]\n",
            " [200 203 206]]\n"
          ]
        }
      ]
    },
    {
      "cell_type": "code",
      "source": [
        "import numpy as np\n",
        "\n",
        "# Create a 3D array (3x3x3)\n",
        "arr_3d = np.array([\n",
        "    [[10, 20, 3],\n",
        "     [40, 50, 60],\n",
        "     [70, 80, 90]],\n",
        "\n",
        "    [[100, 101, 120],\n",
        "     [130, 104, 150],\n",
        "     [160, 170, 108]],\n",
        "\n",
        "    [[190, 200, 210],\n",
        "     [20, 203, 240],\n",
        "     [205, 206, 207]]\n",
        "])\n",
        "\n",
        "# Using (:) to select a subarray\n",
        "# Selects the second column along the last dimension\n",
        "subarray = arr_3d[:,:, 1]\n",
        "\n",
        "print(\"Original 3D array:\\n\", arr_3d)\n",
        "print(\"\\nSliced subarray using (:) :\\n\", subarray)"
      ],
      "metadata": {
        "colab": {
          "base_uri": "https://localhost:8080/"
        },
        "id": "rjGMjEBZTuoQ",
        "outputId": "a4a0bb0e-bf58-49b2-aeae-b20981bca753"
      },
      "execution_count": null,
      "outputs": [
        {
          "output_type": "stream",
          "name": "stdout",
          "text": [
            "Original 3D array:\n",
            " [[[ 10  20   3]\n",
            "  [ 40  50  60]\n",
            "  [ 70  80  90]]\n",
            "\n",
            " [[100 101 120]\n",
            "  [130 104 150]\n",
            "  [160 170 108]]\n",
            "\n",
            " [[190 200 210]\n",
            "  [ 20 203 240]\n",
            "  [205 206 207]]]\n",
            "\n",
            "Sliced subarray using (:) :\n",
            " [[ 20  50  80]\n",
            " [101 104 170]\n",
            " [200 203 206]]\n"
          ]
        }
      ]
    },
    {
      "cell_type": "code",
      "source": [],
      "metadata": {
        "id": "fnSFyOnsVq7J"
      },
      "execution_count": null,
      "outputs": []
    }
  ]
}