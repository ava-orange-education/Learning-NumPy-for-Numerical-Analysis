{
  "nbformat": 4,
  "nbformat_minor": 0,
  "metadata": {
    "colab": {
      "provenance": [],
      "collapsed_sections": [
        "Atun2QaHyB_p"
      ]
    },
    "kernelspec": {
      "name": "python3",
      "display_name": "Python 3"
    },
    "language_info": {
      "name": "python"
    }
  },
  "cells": [
    {
      "cell_type": "code",
      "execution_count": null,
      "metadata": {
        "id": "-4HAXbcEH6JY"
      },
      "outputs": [],
      "source": []
    },
    {
      "cell_type": "markdown",
      "source": [
        "## **Martix and vector Products**"
      ],
      "metadata": {
        "id": "i7MvUyc574uP"
      }
    },
    {
      "cell_type": "markdown",
      "source": [
        "### **Dot Product (np.dot())**"
      ],
      "metadata": {
        "id": "zlIdnCkkCGV_"
      }
    },
    {
      "cell_type": "code",
      "source": [
        "#Example#1 np.dot() with 2D arrays (dot product of two matrices)\n",
        "import numpy as np\n",
        "\n",
        "a = np.array([[10, 20], [30, 40]])\n",
        "b = np.array([[50, 60], [70, 80]])\n",
        "\n",
        "print(\"Matrix product of a and b:\\n\",np.dot(a, b))\n",
        "\n",
        "#Example#2 np.dot() with 1D arrays (dot product of two vectors)\n",
        "import numpy as np\n",
        "\n",
        "q = np.array([10, 60, 30])\n",
        "p = np.array([520, 741, 808])\n",
        "\n",
        "print(\"Vector product of q and p:\\n\",np.dot(q, p))\n"
      ],
      "metadata": {
        "colab": {
          "base_uri": "https://localhost:8080/"
        },
        "id": "lTUAJp2wCLZs",
        "outputId": "af57d548-264f-4209-8b79-d27c249287c9"
      },
      "execution_count": null,
      "outputs": [
        {
          "output_type": "stream",
          "name": "stdout",
          "text": [
            "Matrix product of a and b:\n",
            " [[1900 2200]\n",
            " [4300 5000]]\n",
            "Vector product of q and p:\n",
            " 73900\n"
          ]
        }
      ]
    },
    {
      "cell_type": "markdown",
      "source": [
        "### **Matrix Multiplication (np.matmul() or @)**"
      ],
      "metadata": {
        "id": "DRsjeomOos3_"
      }
    },
    {
      "cell_type": "code",
      "source": [
        "# matrix multiplication usig np.matmul()\n",
        "import numpy as np\n",
        "\n",
        "a = np.array([[10, 20], [30, 40]])\n",
        "b = np.array([[50, 60], [70, 80]])\n",
        "\n",
        "print(\"Matrix product of a and b using np.matmul() function:\\n\",np.matmul(a, b))\n",
        "print(\"Matrix product of a and b using @ operator:\\n\",a @ b)\n"
      ],
      "metadata": {
        "colab": {
          "base_uri": "https://localhost:8080/"
        },
        "id": "CK2gOtfgozEI",
        "outputId": "4e31e696-36d7-41fa-cf31-fccfd95e3eee"
      },
      "execution_count": null,
      "outputs": [
        {
          "output_type": "stream",
          "name": "stdout",
          "text": [
            "Matrix product of a and b using np.matmul() function:\n",
            " [[1900 2200]\n",
            " [4300 5000]]\n",
            "Matrix product of a and b using @ operator:\n",
            " [[1900 2200]\n",
            " [4300 5000]]\n"
          ]
        }
      ]
    },
    {
      "cell_type": "markdown",
      "source": [
        "### **Dot Product of Vectors (np.vdot())**"
      ],
      "metadata": {
        "id": "E6PBszm9rKSO"
      }
    },
    {
      "cell_type": "code",
      "source": [
        "#Example#1: dot product of two vectors using np.vdot()\n",
        "import numpy as np\n",
        "r = np.array([10, 60, 30])\n",
        "s = np.array([520, 741, 808])\n",
        "print(\"Vector product of r and s vectors:\\n\",np.vdot(r, s))\n",
        "\n",
        "#Example#2: dot product of two matrices using np.vdot()\n",
        "import numpy as np\n",
        "r = np.array([[10, 20], [30, 40]])\n",
        "s = np.array([[50, 60], [70, 80]])\n",
        "print(\"Vector product of r and s matrix:\\n\",np.vdot(r, s))\n",
        "\n",
        "#Example#3: dot product of two matrices with complex numbers using np.vdot()\n",
        "import numpy as np\n",
        "r = np.array([10+20j,30+40j])\n",
        "s = np.array([50+60j,70+80j])\n",
        "print(\"Vector product of r and s matrix with complex numbers:\\n\",np.vdot(r, s))\n",
        "print(\"Vector product of r and s matrix with complex numbers:\\n\",np.vdot(s, r))\n",
        "\n"
      ],
      "metadata": {
        "colab": {
          "base_uri": "https://localhost:8080/"
        },
        "id": "9oYwvPy9CP00",
        "outputId": "19baf36c-1d7a-4478-8b85-0714735afdfb"
      },
      "execution_count": null,
      "outputs": [
        {
          "output_type": "stream",
          "name": "stdout",
          "text": [
            "Vector product of r and s vectors:\n",
            " 73900\n",
            "Vector product of r and s matrix:\n",
            " 7000\n",
            "Vector product of r and s matrix with complex numbers:\n",
            " (7000-800j)\n",
            "Vector product of r and s matrix with complex numbers:\n",
            " (7000+800j)\n"
          ]
        }
      ]
    },
    {
      "cell_type": "markdown",
      "source": [
        "### **Inner Product (np.inner())**"
      ],
      "metadata": {
        "id": "bpvyLtSp7Zwt"
      }
    },
    {
      "cell_type": "code",
      "source": [
        "# Inner product of two vectors using np.inner()\n",
        "import numpy as np\n",
        "r = np.array([10, 60, 30])\n",
        "s = np.array([50, 30, 10])\n",
        "print(\"1-D array r:\\n\",r)\n",
        "print(\"1-D array s:\\n\",s)\n",
        "print(\"Inner product of 1-D arrays r and s :\\n\",np.inner(r, s))\n",
        "\n",
        "# Inner product of two matrices using np.inner()\n",
        "import numpy as np\n",
        "r = np.array([[10, 20], [30, 40]])\n",
        "s = np.array([[50, 60], [70, 80]])\n",
        "print(\"\\n2-D arrays r:\\n\",r)\n",
        "print(\"2-D arrays s:\\n\",s)\n",
        "print(\"Inner product of 2-D arrays r and s :\\n\",np.inner(r, s))\n"
      ],
      "metadata": {
        "colab": {
          "base_uri": "https://localhost:8080/"
        },
        "id": "6OL4XMDH7czr",
        "outputId": "277f1aac-17d3-4e15-b7dc-83c51b60e12d"
      },
      "execution_count": null,
      "outputs": [
        {
          "output_type": "stream",
          "name": "stdout",
          "text": [
            "1-D array r:\n",
            " [10 60 30]\n",
            "1-D array s:\n",
            " [50 30 10]\n",
            "Inner product of 1-D arrays r and s :\n",
            " 2600\n",
            "\n",
            "2-D arrays r:\n",
            " [[10 20]\n",
            " [30 40]]\n",
            "2-D arrays s:\n",
            " [[50 60]\n",
            " [70 80]]\n",
            "Inner product of 2-D arrays r and s :\n",
            " [[1700 2300]\n",
            " [3900 5300]]\n"
          ]
        }
      ]
    },
    {
      "cell_type": "markdown",
      "source": [
        "### **Outer Product (np.outer())**"
      ],
      "metadata": {
        "id": "ptHHnVxf1-2m"
      }
    },
    {
      "cell_type": "code",
      "source": [
        "# np.outer() function\n",
        "import numpy as np\n",
        "r = np.array([10, 60]) # 1-D array with 2 elements\n",
        "s = np.array([50, 30, 10]) # 1-D array with 3 elements\n",
        "print(\"Array r:\\n\",r)\n",
        "print(\"Array s:\\n\",s)\n",
        "# outer product of r and s will give a 2-D array of shape (2, 3)\n",
        "print(\"Outer product of 1-D arrays r and s :\\n\",np.outer(r, s))"
      ],
      "metadata": {
        "colab": {
          "base_uri": "https://localhost:8080/"
        },
        "id": "HoWZpK9J2DuI",
        "outputId": "cf17cdcd-6888-49eb-9ab5-467ef32ae870"
      },
      "execution_count": null,
      "outputs": [
        {
          "output_type": "stream",
          "name": "stdout",
          "text": [
            "Array r:\n",
            " [10 60]\n",
            "Array s:\n",
            " [50 30 10]\n",
            "Outer product of 1-D arrays r and s :\n",
            " [[ 500  300  100]\n",
            " [3000 1800  600]]\n"
          ]
        }
      ]
    },
    {
      "cell_type": "markdown",
      "source": [
        "### **Cross product (np.cross())**"
      ],
      "metadata": {
        "id": "n4ARMmSe7TQW"
      }
    },
    {
      "cell_type": "code",
      "source": [
        "# np.cross() function\n",
        "import numpy as np\n",
        "r = np.array([10, 60, 80])\n",
        "s = np.array([10, 20, 30])\n",
        "print(\"Array r:\\n\",r)\n",
        "print(\"Array s:\\n\",s)\n",
        "# cross product of r and s\n",
        "print(\"Cross product of 1-D arrays r and s :\\n\",np.cross(r, s))"
      ],
      "metadata": {
        "colab": {
          "base_uri": "https://localhost:8080/"
        },
        "id": "INJtjMpL7a_q",
        "outputId": "9621033f-698d-4fa1-e514-2acbf6678dcc"
      },
      "execution_count": null,
      "outputs": [
        {
          "output_type": "stream",
          "name": "stdout",
          "text": [
            "Array r:\n",
            " [10 60 80]\n",
            "Array s:\n",
            " [10 20 30]\n",
            "Cross product of 1-D arrays r and s :\n",
            " [ 200  500 -400]\n"
          ]
        }
      ]
    },
    {
      "cell_type": "markdown",
      "source": [
        "### **Kronecker product (np.kron())**"
      ],
      "metadata": {
        "id": "j5gTZlZt9E5x"
      }
    },
    {
      "cell_type": "code",
      "source": [
        "# kronecker product np.kron() function\n",
        "import numpy as np\n",
        "A = np.array([[1], [4]])\n",
        "B = np.array([[5, 6], [7, 8]])\n",
        "print(\"Array A:\\n\",A)\n",
        "print(\"Array B:\\n\",B)\n",
        "print(\"Kronecker product of A and B:\\n\",np.kron(A, B))"
      ],
      "metadata": {
        "colab": {
          "base_uri": "https://localhost:8080/"
        },
        "id": "UR_Y6kXb9LCP",
        "outputId": "a371fcb4-8c58-4050-ce5e-a08664b00571"
      },
      "execution_count": null,
      "outputs": [
        {
          "output_type": "stream",
          "name": "stdout",
          "text": [
            "Array A:\n",
            " [[1]\n",
            " [4]]\n",
            "Array B:\n",
            " [[5 6]\n",
            " [7 8]]\n",
            "Kronecker product of A and B:\n",
            " [[ 5  6]\n",
            " [ 7  8]\n",
            " [20 24]\n",
            " [28 32]]\n"
          ]
        }
      ]
    },
    {
      "cell_type": "markdown",
      "source": [
        "### **Tensor dot product (np.tensordot())**"
      ],
      "metadata": {
        "id": "XpVbKpHc7bVi"
      }
    },
    {
      "cell_type": "markdown",
      "source": [],
      "metadata": {
        "id": "ofA_vv7A9Llw"
      }
    },
    {
      "cell_type": "code",
      "source": [
        "#np.tensordot() function\n",
        "import numpy as np\n",
        "# Define tensors A and B\n",
        "A = np.array([[[10, 20], [30, 40]], [[50, 60], [10, 80]]])\n",
        "B = np.array([[[90, 80], [50, 60]], [[60, 40], [30, 20]]])\n",
        "\n",
        "# Compute tensor dot product specifying the axes\n",
        "# Summing over the last axis of A and the second-to-last axis of B\n",
        "result = np.tensordot(A, B, axes=[2, 1])\n",
        "\n",
        "print(\"Tensor A:\\n\", A)\n",
        "print(\"Tensor B:\\n\", B)\n",
        "print(\"Tensor dot product of A and B over specified axes:\\n\", result)\n"
      ],
      "metadata": {
        "colab": {
          "base_uri": "https://localhost:8080/"
        },
        "id": "8xZuad8Q7iJ8",
        "outputId": "699bb6ee-2f90-4d03-ef6a-22006f9a34a8"
      },
      "execution_count": null,
      "outputs": [
        {
          "output_type": "stream",
          "name": "stdout",
          "text": [
            "Tensor A:\n",
            " [[[10 20]\n",
            "  [30 40]]\n",
            "\n",
            " [[50 60]\n",
            "  [10 80]]]\n",
            "Tensor B:\n",
            " [[[90 80]\n",
            "  [50 60]]\n",
            "\n",
            " [[60 40]\n",
            "  [30 20]]]\n",
            "Tensor dot product of A and B over specified axes:\n",
            " [[[[1900 2000]\n",
            "   [1200  800]]\n",
            "\n",
            "  [[4700 4800]\n",
            "   [3000 2000]]]\n",
            "\n",
            "\n",
            " [[[7500 7600]\n",
            "   [4800 3200]]\n",
            "\n",
            "  [[4900 5600]\n",
            "   [3000 2000]]]]\n"
          ]
        }
      ]
    },
    {
      "cell_type": "markdown",
      "source": [
        "### **Einstein Summation (np.einsum())**"
      ],
      "metadata": {
        "id": "fnp-9oO67xxD"
      }
    },
    {
      "cell_type": "code",
      "source": [
        "import numpy as np\n",
        "# Example 1: Summing all elements in an array 'a'\n",
        "a = np.array([10, 20, 30])\n",
        "sum_a = np.einsum('i->', a)\n",
        "\n",
        "# Example 2: Dot product of two vectors 'a' and 'b'\n",
        "b = np.array([40, 50, 60])\n",
        "dot_product = np.einsum('i,i->', a, b)\n",
        "\n",
        "# Example 3: Element-wise multiplication of 'a' and 'b'\n",
        "elementwise_mul = np.einsum('i,i->i', a, b)\n",
        "\n",
        "# Example 4: Matrix multiplication of 'c' and 'd'\n",
        "c = np.array([[10, 20], [30, 40]])\n",
        "d = np.array([[50, 60], [70, 80]])\n",
        "matrix_mul = np.einsum('ij,jk->ik', c, d)\n",
        "\n",
        "# Example 5: Transposing matrix 'c'\n",
        "transpose_c = np.einsum('ij->ji', c)\n",
        "\n",
        "# Example 6: Trace of matrix 'c' (sum of diagonal elements)\n",
        "trace_c = np.einsum('ii->', c)\n",
        "\n",
        "# Example 7: Batch matrix multiplication\n",
        "\n",
        "e = np.array([[[10, 20], [30, 40]], [[50, 60], [70, 80]]])\n",
        "f = np.array([[[90, 80], [70, 60]], [[50, 40], [30, 20]]])\n",
        "batch_matrix_mul = np.einsum('bij,bjk->bik', e, f)\n",
        "\n",
        "# Printing results\n",
        "\n",
        "print(\"Sum of 'a'\", sum_a)\n",
        "print(\"Dot product of 'a' and 'b'\", dot_product)\n",
        "print(\"Element-wise multiplication of 'a' and 'b'\", elementwise_mul)\n",
        "print(\"Matrix multiplication of 'c' and 'd'\", matrix_mul)\n",
        "print(\"Transpose of 'c'\", transpose_c)\n",
        "print(\"Trace of 'c'\", trace_c)\n",
        "print(\"Batch matrix multiplication of 'e' and 'f'\", batch_matrix_mul )\n"
      ],
      "metadata": {
        "id": "aBv8lhfG9bzj",
        "colab": {
          "base_uri": "https://localhost:8080/"
        },
        "outputId": "1edd470b-8cd1-48fd-b0b2-97d81502c96f"
      },
      "execution_count": null,
      "outputs": [
        {
          "output_type": "stream",
          "name": "stdout",
          "text": [
            "Sum of 'a' 60\n",
            "Dot product of 'a' and 'b' 3200\n",
            "Element-wise multiplication of 'a' and 'b' [ 400 1000 1800]\n",
            "Matrix multiplication of 'c' and 'd' [[1900 2200]\n",
            " [4300 5000]]\n",
            "Transpose of 'c' [[10 30]\n",
            " [20 40]]\n",
            "Trace of 'c' 50\n",
            "Batch matrix multiplication of 'e' and 'f' [[[2300 2000]\n",
            "  [5500 4800]]\n",
            "\n",
            " [[4300 3200]\n",
            "  [5900 4400]]]\n"
          ]
        }
      ]
    },
    {
      "cell_type": "markdown",
      "source": [
        "### **Efficient matrix chain multiplication (np.linalg.multi_dot())**"
      ],
      "metadata": {
        "id": "7-s3YCYU7i7L"
      }
    },
    {
      "cell_type": "code",
      "source": [
        "#np.linal.multi_dot()\n",
        "import numpy as np\n",
        "\n",
        "# Define the matrices\n",
        "A = np.random.rand(3, 5)\n",
        "B = np.random.rand(5, 3)\n",
        "C = np.random.rand(3, 10)\n",
        "\n",
        "print(\"Matrix A:{} and shape is :{}\\n\".format(A, A.shape))\n",
        "print(\"Matrix B:{} and shape is :{}\\n\".format(B, B.shape))\n",
        "print(\"Matrix C:{} and shape is :{}\\n\".format(C, C.shape))\n",
        "\n",
        "# Perform the multiplication\n",
        "result = np.linalg.multi_dot([A, B, C])\n",
        "\n",
        "print(\"dot product of A, B, C:{} and shape is :{}\".format(result, result.shape))"
      ],
      "metadata": {
        "colab": {
          "base_uri": "https://localhost:8080/"
        },
        "id": "LngwsUtTUuV1",
        "outputId": "3a9673f0-46b5-480f-b567-32ebaba89182"
      },
      "execution_count": null,
      "outputs": [
        {
          "output_type": "stream",
          "name": "stdout",
          "text": [
            "Matrix A:[[0.88770358 0.95519742 0.75304508 0.58514805 0.7360644 ]\n",
            " [0.74045427 0.57779809 0.40859838 0.49359663 0.36335209]\n",
            " [0.3647216  0.19411415 0.98001893 0.62358153 0.58619818]] and shape is :(3, 5)\n",
            "\n",
            "Matrix B:[[0.49375723 0.62359307 0.20390042]\n",
            " [0.7148769  0.24458808 0.14720917]\n",
            " [0.65689843 0.73678857 0.98623032]\n",
            " [0.3771475  0.97068498 0.60239296]\n",
            " [0.87396308 0.26851114 0.07730983]] and shape is :(5, 3)\n",
            "\n",
            "Matrix C:[[0.1045326  0.00142511 0.24930762 0.38162991 0.24636146 0.51369375\n",
            "  0.08161895 0.10876439 0.66698868 0.18031128]\n",
            " [0.35144485 0.48510638 0.95383444 0.0430357  0.50174132 0.38462256\n",
            "  0.20661465 0.9678998  0.81429804 0.0198486 ]\n",
            " [0.0342677  0.94122024 0.07646266 0.51959198 0.43618527 0.67914725\n",
            "  0.51125174 0.82639583 0.43698247 0.58741783]] and shape is :(3, 10)\n",
            "\n",
            "dot product of A, B, C:[[1.05044976 2.41304051 2.74128331 1.80279163 2.31123433 3.08537101\n",
            "  1.39129953 3.5275742  4.01425135 1.35464246]\n",
            " [0.71557806 1.62830721 1.8728092  1.15666655 1.54570823 2.02117389\n",
            "  0.92560008 2.39894949 2.66161406 0.8755435 ]\n",
            " [0.84826912 2.25889108 2.21875627 1.50277683 1.95431687 2.56751272\n",
            "  1.26513822 3.12088115 3.22483026 1.21878481]] and shape is :(3, 10)\n"
          ]
        }
      ]
    },
    {
      "cell_type": "markdown",
      "source": [
        "### **np.linalg.matrix_power()**"
      ],
      "metadata": {
        "id": "XQZSqAuL7tj_"
      }
    },
    {
      "cell_type": "code",
      "source": [
        "# np.linalg.matrix_power()\n",
        "import numpy as np\n",
        "# Define the matrix\n",
        "A = np.array([[1, 2], [3, 4]])\n",
        "# Compute the matrix power\n",
        "result = np.linalg.matrix_power(A, 3)\n",
        "\n",
        "print(\"Matrix A:\\n\", A)\n",
        "print(\"Matrix power of A to the 3:\\n\", result)"
      ],
      "metadata": {
        "colab": {
          "base_uri": "https://localhost:8080/"
        },
        "id": "J8XMpo1XcNyA",
        "outputId": "c0179714-edad-4834-b97b-56d0f251a6c8"
      },
      "execution_count": null,
      "outputs": [
        {
          "output_type": "stream",
          "name": "stdout",
          "text": [
            "Matrix A:\n",
            " [[1 2]\n",
            " [3 4]]\n",
            "Matrix power of A to the 3:\n",
            " [[ 37  54]\n",
            " [ 81 118]]\n"
          ]
        }
      ]
    },
    {
      "cell_type": "markdown",
      "source": [
        "## **Matrix Eigenvalues & Eigenvectors**"
      ],
      "metadata": {
        "id": "o3BhEQex_Hnd"
      }
    },
    {
      "cell_type": "code",
      "source": [
        "# np.linalg.eig()\n",
        "import numpy as np\n",
        "\n",
        "A = np.array([[0, 20],\n",
        "              [12, 50]])\n",
        "\n",
        "print('Matrix A:\\n', A)\n",
        "\n",
        "eig_value,eig_vector=np.linalg.eig(a)\n",
        "print('E-value of matrix A:\\n', eig_value)\n",
        "print('E-vector of matrix A:\\n', eig_vector)"
      ],
      "metadata": {
        "colab": {
          "base_uri": "https://localhost:8080/"
        },
        "id": "z4dUTbTO_UqH",
        "outputId": "62a3bca7-c5e4-48d8-a2bc-0a16f6d91d6a"
      },
      "execution_count": null,
      "outputs": [
        {
          "output_type": "stream",
          "name": "stdout",
          "text": [
            "Matrix A:\n",
            " [[ 0 20]\n",
            " [12 50]]\n",
            "E-value of matrix A:\n",
            " [-4.41088234 54.41088234]\n",
            "E-vector of matrix A:\n",
            " [[-0.97653284 -0.34500485]\n",
            " [ 0.21536857 -0.9386009 ]]\n"
          ]
        }
      ]
    },
    {
      "cell_type": "markdown",
      "source": [
        "## **Decompositions**"
      ],
      "metadata": {
        "id": "UlOVA9mM97g1"
      }
    },
    {
      "cell_type": "markdown",
      "source": [
        "### **QR decomposition**"
      ],
      "metadata": {
        "id": "FrvbReDZyGTg"
      }
    },
    {
      "cell_type": "code",
      "source": [
        "# QR decomposition\n",
        "import numpy as np\n",
        "\n",
        "# define the matrix\n",
        "A = np.array([[1, 2], [3, 4], [5, 6]])\n",
        "print(\"Matrix A:\\n\", A)\n",
        "\n",
        "Q, R = np.linalg.qr(A)\n",
        "\n",
        "print(\"Orthogonal matrix Q:\\n\", Q)\n",
        "print(\"Upper triangular matrix R:\\n\", R)\n"
      ],
      "metadata": {
        "colab": {
          "base_uri": "https://localhost:8080/"
        },
        "id": "bURbikS19_9f",
        "outputId": "6bfa89fe-3965-48d9-b36f-4eee68c9b1b6"
      },
      "execution_count": null,
      "outputs": [
        {
          "output_type": "stream",
          "name": "stdout",
          "text": [
            "Matrix A:\n",
            " [[1 2]\n",
            " [3 4]\n",
            " [5 6]]\n",
            "Orthogonal matrix Q:\n",
            " [[-0.16903085  0.89708523]\n",
            " [-0.50709255  0.27602622]\n",
            " [-0.84515425 -0.34503278]]\n",
            "Upper triangular matrix R:\n",
            " [[-5.91607978 -7.43735744]\n",
            " [ 0.          0.82807867]]\n"
          ]
        }
      ]
    },
    {
      "cell_type": "markdown",
      "source": [
        "### **Cholesky Decomposition**"
      ],
      "metadata": {
        "id": "Atun2QaHyB_p"
      }
    },
    {
      "cell_type": "code",
      "source": [
        "# Cholesky Decomposition np.linalg.cholesky(A)\n",
        "import numpy as np\n",
        "A = np.array([[10,-20j],[20j,50]])\n",
        "print(\"Matrix A:\\n\", A)\n",
        "\n",
        "L = np.linalg.cholesky(A)\n",
        "print(\"Lower triangular matrix L:\\n\", L)\n",
        "\n",
        "\n",
        "# verify that L * L.H = A\n",
        "A= np.dot(L, L.T.conj())\n",
        "print(\"Matrix A:\\n\", A)"
      ],
      "metadata": {
        "id": "qTQ4RjGl_fnQ",
        "colab": {
          "base_uri": "https://localhost:8080/"
        },
        "outputId": "ca5a6255-edce-4dc9-95d7-d5cbdce8e36f"
      },
      "execution_count": null,
      "outputs": [
        {
          "output_type": "stream",
          "name": "stdout",
          "text": [
            "Matrix A:\n",
            " [[10. +0.j -0.-20.j]\n",
            " [ 0.+20.j 50. +0.j]]\n",
            "Lower triangular matrix L:\n",
            " [[3.16227766+0.j         0.        +0.j        ]\n",
            " [0.        +6.32455532j 3.16227766+0.j        ]]\n",
            "Matrix A:\n",
            " [[10. +0.j  0.-20.j]\n",
            " [ 0.+20.j 50. +0.j]]\n"
          ]
        }
      ]
    },
    {
      "cell_type": "markdown",
      "source": [
        "### **Singular Value Decomposition (np.linalg.svd())**"
      ],
      "metadata": {
        "id": "F3CKhwfY1KJE"
      }
    },
    {
      "cell_type": "code",
      "source": [
        "#SVD\n",
        "import numpy as np\n",
        "# Define a matrix\n",
        "A = np.array([[10, 20], [30, 40], [50, 60]])\n",
        "print(\"Matrix A:\\n\", A)\n",
        "\n",
        "# Compute the SVD\n",
        "U, Sigma, VH = np.linalg.svd(A)\n",
        "print(\"U :\\n\", U)\n",
        "print(\"Sigma:\\n\", Sigma)\n",
        "print(\"VH:\\n\", VH)\n",
        "\n",
        "# Reconstruct the orginal matrix\n",
        "Sigma_digmat = np.zeros((A.shape[0],A.shape[1]))\n",
        "np.fill_diagonal(Sigma_digmat, Sigma)\n",
        "A_recon  = np.dot(U,np.dot(Sigma_digmat,VH))\n",
        "print(\"Reconstructed matrix:\\n\", A_recon)"
      ],
      "metadata": {
        "colab": {
          "base_uri": "https://localhost:8080/"
        },
        "id": "sLM7my4n1Wkq",
        "outputId": "b6533791-f101-49a1-8a10-ce5457161340"
      },
      "execution_count": null,
      "outputs": [
        {
          "output_type": "stream",
          "name": "stdout",
          "text": [
            "Matrix A:\n",
            " [[10 20]\n",
            " [30 40]\n",
            " [50 60]]\n",
            "U :\n",
            " [[-0.2298477   0.88346102  0.40824829]\n",
            " [-0.52474482  0.24078249 -0.81649658]\n",
            " [-0.81964194 -0.40189603  0.40824829]]\n",
            "Sigma:\n",
            " [95.25518092  5.14300581]\n",
            "VH:\n",
            " [[-0.61962948 -0.78489445]\n",
            " [-0.78489445  0.61962948]]\n",
            "Reconstructed matrix:\n",
            " [[10. 20.]\n",
            " [30. 40.]\n",
            " [50. 60.]]\n"
          ]
        }
      ]
    },
    {
      "cell_type": "markdown",
      "source": [
        "## **Solving Linear systems using NumPy**"
      ],
      "metadata": {
        "id": "9nVn5oPprXTg"
      }
    },
    {
      "cell_type": "markdown",
      "source": [
        "### **np.linalg.solve()**"
      ],
      "metadata": {
        "id": "AakR97ugXA6j"
      }
    },
    {
      "cell_type": "code",
      "source": [
        "# np.linalg.solve()\n",
        "#10x + 20y = 50\n",
        "#30x + 40y = 60\n",
        "import numpy as np\n",
        "\n",
        "A = np.array([[10, 20], [30, 40]])\n",
        "b = np.array([50, 60])\n",
        "\n",
        "x = np.linalg.solve(A, b)\n",
        "\n",
        "print(\"Matrix A:\\n\", A)\n",
        "print(\"Vector b:\\n\", b)\n",
        "print(\"Solution of the linear system:\\n\", x)\n"
      ],
      "metadata": {
        "id": "wjv6L8q0DPH5",
        "colab": {
          "base_uri": "https://localhost:8080/"
        },
        "outputId": "fb805e77-d9a3-434f-d877-05c347f0f88a"
      },
      "execution_count": null,
      "outputs": [
        {
          "output_type": "stream",
          "name": "stdout",
          "text": [
            "Matrix A:\n",
            " [[10 20]\n",
            " [30 40]]\n",
            "Vector b:\n",
            " [50 60]\n",
            "Solution of the linear system:\n",
            " [-4.   4.5]\n"
          ]
        }
      ]
    },
    {
      "cell_type": "markdown",
      "source": [
        "### **np.linalg.lstsq()**"
      ],
      "metadata": {
        "id": "aQNEmzeFW9je"
      }
    },
    {
      "cell_type": "code",
      "source": [
        "import numpy as np\n",
        "\n",
        "# np.linalg.lstsq()\n",
        "\n",
        "# Defining a non-square matrix A (overdetermined system)\n",
        "A = np.array([[10, 20], [30, 40], [70, 80]])\n",
        "# Defining vector b\n",
        "b = np.array([50, 60, 90])\n",
        "\n",
        "# Using np.linalg.lstsq() to find the least squares solution\n",
        "x, residuals, rank, s = np.linalg.lstsq(A, b, rcond=None)\n",
        "\n",
        "print(\"Matrix A:\\n\", A)\n",
        "print(\"Vector b:\\n\", b)\n",
        "print(\"Solution of the linear system:\\n\", x)\n",
        "print(\"Residuals:\\n\", residuals)\n",
        "print(\"Rank of the matrix:\\n\", rank)\n",
        "print(\"Singular values:\\n\", s)\n"
      ],
      "metadata": {
        "id": "TJ_jsDa0jUFa",
        "colab": {
          "base_uri": "https://localhost:8080/"
        },
        "outputId": "3d41c653-bebe-4f17-a2ac-e935bcaa3cff"
      },
      "execution_count": null,
      "outputs": [
        {
          "output_type": "stream",
          "name": "stdout",
          "text": [
            "Matrix A:\n",
            " [[10 20]\n",
            " [30 40]\n",
            " [70 80]]\n",
            "Vector b:\n",
            " [50 60 90]\n",
            "Solution of the linear system:\n",
            " [-3.5         4.17857143]\n",
            "Residuals:\n",
            " [7.14285714]\n",
            "Rank of the matrix:\n",
            " 2\n",
            "Singular values:\n",
            " [119.41830399   6.26647216]\n"
          ]
        }
      ]
    },
    {
      "cell_type": "code",
      "source": [],
      "metadata": {
        "id": "8tsx-ivxGv64"
      },
      "execution_count": null,
      "outputs": []
    }
  ]
}