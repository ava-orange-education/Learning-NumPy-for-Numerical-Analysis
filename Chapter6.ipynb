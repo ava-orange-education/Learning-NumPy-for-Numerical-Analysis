{
  "nbformat": 4,
  "nbformat_minor": 0,
  "metadata": {
    "colab": {
      "provenance": []
    },
    "kernelspec": {
      "name": "python3",
      "display_name": "Python 3"
    },
    "language_info": {
      "name": "python"
    }
  },
  "cells": [
    {
      "cell_type": "markdown",
      "source": [
        "# **Chapter #6 NumPy Data Processing & Array I/O**"
      ],
      "metadata": {
        "id": "QsI0LGsTkNt2"
      }
    },
    {
      "cell_type": "markdown",
      "source": [
        "#### Reading file from Goole drive"
      ],
      "metadata": {
        "id": "NtvHs2fokd2r"
      }
    },
    {
      "cell_type": "markdown",
      "source": [
        "### **Mount Google Drive:**"
      ],
      "metadata": {
        "id": "KkrxNqWYXwHZ"
      }
    },
    {
      "cell_type": "code",
      "source": [
        "from google.colab import drive\n",
        "drive.mount(\"/content/drive\", force_remount=True)"
      ],
      "metadata": {
        "id": "5nMXiG9skeOU",
        "colab": {
          "base_uri": "https://localhost:8080/"
        },
        "outputId": "0e82501b-9825-46a9-f697-30e463d3d3e2"
      },
      "execution_count": null,
      "outputs": [
        {
          "output_type": "stream",
          "name": "stdout",
          "text": [
            "Mounted at /content/drive\n"
          ]
        }
      ]
    },
    {
      "cell_type": "code",
      "source": [
        "!ls -ltr  \"/content/drive/My Drive/Numpy_for_Numerical_Computing_&_Data_Analysis/data\""
      ],
      "metadata": {
        "colab": {
          "base_uri": "https://localhost:8080/"
        },
        "id": "fBmK0XbxxKQg",
        "outputId": "4e650225-3d79-446e-ffa6-474d639050c6"
      },
      "execution_count": null,
      "outputs": [
        {
          "output_type": "stream",
          "name": "stdout",
          "text": [
            "total 8\n",
            "drwx------ 2 root root 4096 Jan 22 15:14 input\n",
            "drwx------ 2 root root 4096 Jan 22 15:14 output\n"
          ]
        }
      ]
    },
    {
      "cell_type": "markdown",
      "source": [
        "### **Reading the file from Google drive**"
      ],
      "metadata": {
        "id": "D0NqbvDLsBmd"
      }
    },
    {
      "cell_type": "code",
      "source": [
        "# mounting the drive\n",
        "\n",
        "from google.colab import drive\n",
        "drive.mount(\"/content/drive\", force_remount=True)\n",
        "\n",
        "# reading the file\n",
        "\n",
        "file_path = '/content/drive/My Drive/Numpy_for_Numerical_Computing_&_Data_Analysis/data/input/sample.txt'\n",
        "with open(file_path, 'r') as file:\n",
        "  file_content = file.read()\n",
        "\n",
        "print(file_content)"
      ],
      "metadata": {
        "id": "Rw-0y9TDbX3A",
        "colab": {
          "base_uri": "https://localhost:8080/"
        },
        "outputId": "aa15dc03-6c5c-4708-d76c-9565db1bdfd8"
      },
      "execution_count": null,
      "outputs": [
        {
          "output_type": "stream",
          "name": "stdout",
          "text": [
            "Mounted at /content/drive\n",
            "Python is a high-level, general-purpose programming language. Its design philosophy emphasizes code readability with the use of significant indentation.[31]\n",
            "\n",
            "Python is dynamically typed and garbage-collected. It supports multiple programming paradigms, including structured (particularly procedural), object-oriented and functional programming. It is often described as a \"batteries included\" language due to its comprehensive standard library.[32][33]\n",
            "\n",
            "Guido van Rossum began working on Python in the late 1980s as a successor to the ABC programming language and first released it in 1991 as Python 0.9.0.[34] Python 2.0 was released in 2000. Python 3.0, released in 2008, was a major revision not completely backward-compatible with earlier versions. Python 2.7.18, released in 2020, was the last release of Python 2.[35]\n"
          ]
        }
      ]
    },
    {
      "cell_type": "markdown",
      "source": [
        "### **Unmount the drive**"
      ],
      "metadata": {
        "id": "R37_A3g2l3Q9"
      }
    },
    {
      "cell_type": "code",
      "source": [],
      "metadata": {
        "id": "Q08xD9fw4XED"
      },
      "execution_count": null,
      "outputs": []
    },
    {
      "cell_type": "code",
      "source": [
        "# unmount the drive\n",
        "# drive.flush_and_unmount()"
      ],
      "metadata": {
        "id": "p6KBZ6FKs0Qa"
      },
      "execution_count": null,
      "outputs": []
    },
    {
      "cell_type": "code",
      "source": [
        "# mounting the drive\n",
        "from google.colab import drive\n",
        "drive.mount(\"/content/drive\", force_remount=True)"
      ],
      "metadata": {
        "colab": {
          "base_uri": "https://localhost:8080/"
        },
        "id": "KtoTg7RiCdPi",
        "outputId": "0adc904b-f46f-406b-fc79-70cfefc11ac0"
      },
      "execution_count": null,
      "outputs": [
        {
          "output_type": "stream",
          "name": "stdout",
          "text": [
            "Mounted at /content/drive\n"
          ]
        }
      ]
    },
    {
      "cell_type": "code",
      "source": [
        "# Case 1: Basic usage of np.loadtxt\n",
        "import numpy as np\n",
        "input_file_path = '/content/drive/My Drive/Numpy_for_Numerical_Computing_&_Data_Analysis/data/input/sample1.txt'\n",
        "\n",
        "# Reading the data and data type will be inferred automatically\n",
        "data = np.loadtxt(input_file_path, delimiter=',')\n",
        "print(\"Loaded Data:\", data)\n",
        "print(\"Shape:\", data.shape)\n",
        "print(\"Data Type:\", data.dtype)"
      ],
      "metadata": {
        "colab": {
          "base_uri": "https://localhost:8080/"
        },
        "id": "wFJLHn_1CShq",
        "outputId": "acd928fb-4ff6-4e23-cd1a-ba9c0e9527d2"
      },
      "execution_count": null,
      "outputs": [
        {
          "output_type": "stream",
          "name": "stdout",
          "text": [
            "Loaded Data: [[10. 20. 30.]\n",
            " [40. 50. 60.]\n",
            " [70. 80. 90.]]\n",
            "Shape: (3, 3)\n",
            "Data Type: float64\n"
          ]
        }
      ]
    },
    {
      "cell_type": "code",
      "source": [
        "# Case 2: Basic usage of np.loadtxt\n",
        "import numpy as np\n",
        "input_file_path = '/content/drive/My Drive/Numpy_for_Numerical_Computing_&_Data_Analysis/data/input/sample1.txt'\n",
        "\n",
        "# Reading the data with specified data type\n",
        "data = np.loadtxt(input_file_path, delimiter=',',dtype=int)\n",
        "print(\"Loaded Data:\", data)\n",
        "print(\"Shape:\", data.shape)\n",
        "print(\"Data Type:\", data.dtype)"
      ],
      "metadata": {
        "colab": {
          "base_uri": "https://localhost:8080/"
        },
        "id": "CvPoJUFuCSeS",
        "outputId": "d05fbe59-defe-429c-afe1-726b9680e880"
      },
      "execution_count": null,
      "outputs": [
        {
          "output_type": "stream",
          "name": "stdout",
          "text": [
            "Loaded Data: [[10 20 30]\n",
            " [40 50 60]\n",
            " [70 80 90]]\n",
            "Shape: (3, 3)\n",
            "Data Type: int64\n"
          ]
        }
      ]
    },
    {
      "cell_type": "code",
      "source": [
        "# Case 2: Basic usage of np.loadtxt\n",
        "import numpy as np\n",
        "input_file_path = '/content/drive/My Drive/Numpy_for_Numerical_Computing_&_Data_Analysis/data/input/sample1.txt'\n",
        "\n",
        "# Reading the data with specified data type\n",
        "data = np.loadtxt(input_file_path, delimiter=',',dtype=int)\n",
        "print(\"Loaded Data:\", data)\n",
        "print(\"Shape:\", data.shape)\n",
        "print(\"Data Type:\", data.dtype)"
      ],
      "metadata": {
        "id": "-3VNErynCSbV"
      },
      "execution_count": null,
      "outputs": []
    },
    {
      "cell_type": "code",
      "source": [],
      "metadata": {
        "id": "hzNcF9ZjBsAj"
      },
      "execution_count": null,
      "outputs": []
    },
    {
      "cell_type": "code",
      "source": [
        "# Case 3: Handling missing values with a custom converter\n",
        "import numpy as np\n",
        "import re\n",
        "\n",
        "input_file_path = '/content/drive/My Drive/Numpy_for_Numerical_Computing_&_Data_Analysis/data/input/sample2.txt'\n",
        "\n",
        "# Define a custom converter function\n",
        "def custom_converter(value):\n",
        "    cleaned_value = re.sub(r'[^\\d.Ee+-]', '', value.decode())  # Remove non-numeric characters\n",
        "    if (cleaned_value == 'NA' or cleaned_value == ''):\n",
        "        return np.nan\n",
        "    else:\n",
        "        return float(cleaned_value)\n",
        "\n",
        "# Read data from the file, applying the updated custom converter\n",
        "data = np.loadtxt(input_file_path, delimiter=',',converters={2: custom_converter})\n",
        "\n",
        "print(\"Loaded Data with Handling of 'NA' Values:\")\n",
        "print(data)\n",
        "print(\"Shape:\", data.shape)\n",
        "print(\"Data Type:\", data.dtype)"
      ],
      "metadata": {
        "colab": {
          "base_uri": "https://localhost:8080/"
        },
        "id": "yxWY0DogCSX9",
        "outputId": "2b87309d-fa55-47db-a9f8-94baa06ac376"
      },
      "execution_count": null,
      "outputs": [
        {
          "output_type": "stream",
          "name": "stdout",
          "text": [
            "Loaded Data with Handling of 'NA' Values:\n",
            "[[10. 20. 30.]\n",
            " [40. 50. nan]\n",
            " [70. 80. 90.]]\n",
            "Shape: (3, 3)\n",
            "Data Type: float64\n"
          ]
        }
      ]
    },
    {
      "cell_type": "code",
      "source": [],
      "metadata": {
        "id": "4_WTQy7CCSU5"
      },
      "execution_count": null,
      "outputs": []
    },
    {
      "cell_type": "code",
      "source": [],
      "metadata": {
        "id": "VQCyYazvCSGY"
      },
      "execution_count": null,
      "outputs": []
    },
    {
      "cell_type": "code",
      "source": [
        "# case 4: Skip header and reading specified columns with converters\n",
        "\n",
        "# Define the input file path\n",
        "input_file_path = '/content/drive/My Drive/Numpy_for_Numerical_Computing_&_Data_Analysis/data/input/emp_sample.txt'\n",
        "\n",
        "# Use np.loadtxt with skiprows and usecols parameters\n",
        "data = np.loadtxt(input_file_path, delimiter='|',skiprows=1, usecols=(0, 4),converters={0: int, 4: float})\n",
        "print(\"Loaded Data:\",data)\n",
        "print(\"Shape:\", data.shape)\n",
        "print(\"Data Type:\", data.dtype)\n"
      ],
      "metadata": {
        "colab": {
          "base_uri": "https://localhost:8080/"
        },
        "id": "IsADlU9yvEPp",
        "outputId": "a75c5fbf-002d-445e-f6f7-2af45b171b4e"
      },
      "execution_count": null,
      "outputs": [
        {
          "output_type": "stream",
          "name": "stdout",
          "text": [
            "Loaded Data: [[ 1001. 60000.]\n",
            " [ 1002. 68000.]\n",
            " [ 1003. 75000.]\n",
            " [ 1004. 62000.]\n",
            " [ 1005. 70000.]]\n",
            "Shape: (5, 2)\n",
            "Data Type: float64\n"
          ]
        }
      ]
    },
    {
      "cell_type": "markdown",
      "source": [
        "### **Use of genfromtxt() f**"
      ],
      "metadata": {
        "id": "mcsL4twDq-4c"
      }
    },
    {
      "cell_type": "code",
      "source": [
        "# Example #1 - Loading data from a text file and handling missing values\n",
        "import numpy as np\n",
        "input_file_path = '/content/drive/My Drive/Numpy_for_Numerical_Computing_&_Data_Analysis/data/input/sample3.txt'\n",
        "\n",
        "# Read data from the file with handling missing values\n",
        "filled_with_constant_single_value = np.genfromtxt(input_file_path,delimiter=',',missing_values=['N/A','???',''],filling_values=np.nan)\n",
        "filled_with_dictionary_values = np.genfromtxt(input_file_path,delimiter=',',missing_values=['N/A','???',''],filling_values={0:-1,1:np.nan,2:0})\n",
        "\n",
        "\n",
        "print(\"Filled with Constant Single Value:\", filled_with_constant_single_value)\n",
        "print(\"Filled with Dictionary Values:\", filled_with_dictionary_values)\n"
      ],
      "metadata": {
        "colab": {
          "base_uri": "https://localhost:8080/"
        },
        "id": "8PHWxDEyrHyc",
        "outputId": "a6d564ee-e29b-406e-e1ea-5bb3cd74f6d4"
      },
      "execution_count": null,
      "outputs": [
        {
          "output_type": "stream",
          "name": "stdout",
          "text": [
            "Filled with Constant Single Value: [[10. 20. 30.]\n",
            " [40. nan nan]\n",
            " [nan 80. 90.]]\n",
            "Filled with Dictionary Values: [[10. 20. 30.]\n",
            " [40. nan  0.]\n",
            " [-1. 80. 90.]]\n"
          ]
        }
      ]
    },
    {
      "cell_type": "code",
      "source": [
        "# Example #2 - Loading data with specified column (using column name and column index)\n",
        "import numpy as np\n",
        "input_file_path = '/content/drive/My Drive/Numpy_for_Numerical_Computing_&_Data_Analysis/data/input/emp_sample.txt'\n",
        "\n",
        "# Loading data with names=True and usecols with column names\n",
        "data = np.genfromtxt(input_file_path,delimiter='|',names=True,usecols=('emp_id', 'salary'),dtype=(int, float))\n",
        "\n",
        "print(\"Loaded Data:\",data)\n",
        "print(\"Shape:\", data.shape)\n",
        "print(\"Data Type:\", data.dtype)\n"
      ],
      "metadata": {
        "colab": {
          "base_uri": "https://localhost:8080/"
        },
        "id": "DoZ1oXv2rHmC",
        "outputId": "ac80167a-0f4e-4916-ab0a-40aa5196c0c6"
      },
      "execution_count": null,
      "outputs": [
        {
          "output_type": "stream",
          "name": "stdout",
          "text": [
            "Loaded Data: [(1001, 60000) (1002, 68000) (1003, 75000) (1004, 62000) (1005, 70000)]\n",
            "Shape: (5,)\n",
            "Data Type: [('emp_id', '<i8'), ('salary', '<i8')]\n"
          ]
        }
      ]
    },
    {
      "cell_type": "markdown",
      "source": [
        "## **Exporting Data into files**"
      ],
      "metadata": {
        "id": "P1vknxIHz9Dm"
      }
    },
    {
      "cell_type": "code",
      "source": [
        "# Using function np.save(file, array, allow_pickle=False, fix_imports=True) to save data\n",
        "import numpy as np\n",
        "output_file_path = '/content/drive/My Drive/Numpy_for_Numerical_Computing_&_Data_Analysis/data/output/fn_save.npy'\n",
        "\n",
        "#create an array\n",
        "array = np.array([[10, 20, 30], [40, 50, 60], [70, 80, 90]])\n",
        "print(\"Array:\",array)\n",
        "\n",
        "#save the array\n",
        "np.save(output_file_path, array)\n",
        "\n",
        "#Read the array\n",
        "data = np.load(output_file_path)\n",
        "print(\"\\nLoaded Data from File:\",data)\n"
      ],
      "metadata": {
        "colab": {
          "base_uri": "https://localhost:8080/"
        },
        "id": "BLRmnK6U0Igb",
        "outputId": "9b205f48-050e-4fa6-de3a-6316c663bd24"
      },
      "execution_count": null,
      "outputs": [
        {
          "output_type": "stream",
          "name": "stdout",
          "text": [
            "Array: [[10 20 30]\n",
            " [40 50 60]\n",
            " [70 80 90]]\n",
            "\n",
            "Loaded Data from File: [[10 20 30]\n",
            " [40 50 60]\n",
            " [70 80 90]]\n"
          ]
        }
      ]
    },
    {
      "cell_type": "code",
      "source": [
        "# Seeing the content of the file using cat command\n",
        "!cat '/content/drive/My Drive/Numpy_for_Numerical_Computing_&_Data_Analysis/data/output/fn_save.npy'"
      ],
      "metadata": {
        "colab": {
          "base_uri": "https://localhost:8080/"
        },
        "id": "g2OLOSer0IdX",
        "outputId": "68f580e3-f6a3-43e2-b7c0-6897d8e8ecbe"
      },
      "execution_count": null,
      "outputs": [
        {
          "output_type": "stream",
          "name": "stdout",
          "text": [
            "�NUMPY\u0001\u0000v\u0000{'descr': '<i8', 'fortran_order': False, 'shape': (3, 3), }                                                          \n",
            "\n",
            "\u0000\u0000\u0000\u0000\u0000\u0000\u0000\u0014\u0000\u0000\u0000\u0000\u0000\u0000\u0000\u001e\u0000\u0000\u0000\u0000\u0000\u0000\u0000(\u0000\u0000\u0000\u0000\u0000\u0000\u00002\u0000\u0000\u0000\u0000\u0000\u0000\u0000<\u0000\u0000\u0000\u0000\u0000\u0000\u0000F\u0000\u0000\u0000\u0000\u0000\u0000\u0000P\u0000\u0000\u0000\u0000\u0000\u0000\u0000Z\u0000\u0000\u0000\u0000\u0000\u0000\u0000"
          ]
        }
      ]
    },
    {
      "cell_type": "code",
      "source": [
        "# using np.savez(file, *args, **kwds) to save data\n",
        "import numpy as np\n",
        "output_file_path = '/content/drive/My Drive/Numpy_for_Numerical_Computing_&_Data_Analysis/data/output/student_marks.npz'\n",
        "\n",
        "math_marks = np.array([90, 80, 92, 75, 85])\n",
        "english_marks = np.array([96, 90, 85, 88, 95])\n",
        "art_marks = np.array([98, 93, 82, 88, 90])\n",
        "\n",
        "# Saving the arrays in a single file\n",
        "np.savez(output_file_path, math = math_marks, english = english_marks, art = art_marks)\n",
        "print(\"Saved Data to File:\",output_file_path)"
      ],
      "metadata": {
        "id": "KGoXGWsQ0IaF",
        "colab": {
          "base_uri": "https://localhost:8080/"
        },
        "outputId": "de0e24b7-4086-4a83-fe97-b0bd02220db8"
      },
      "execution_count": null,
      "outputs": [
        {
          "output_type": "stream",
          "name": "stdout",
          "text": [
            "Saved Data to File: /content/drive/My Drive/Numpy_for_Numerical_Computing_&_Data_Analysis/data/output/student_marks.npz\n"
          ]
        }
      ]
    },
    {
      "cell_type": "code",
      "source": [],
      "metadata": {
        "id": "uSLsrqUNXWdw"
      },
      "execution_count": null,
      "outputs": []
    },
    {
      "cell_type": "code",
      "source": [
        "!ls -ltr  '/content/drive/My Drive/Numpy_for_Numerical_Computing_&_Data_Analysis/data/output/'"
      ],
      "metadata": {
        "id": "pl4vGhUM0IWg",
        "colab": {
          "base_uri": "https://localhost:8080/"
        },
        "outputId": "1be128fb-b212-4857-ab1a-14d346ad20ca"
      },
      "execution_count": null,
      "outputs": [
        {
          "output_type": "stream",
          "name": "stdout",
          "text": [
            "total 2\n",
            "-rw------- 1 root root 200 Jan 29 07:20 fn_save.npy\n",
            "-rw------- 1 root root 866 Jan 29 08:19 student_marks.npz\n"
          ]
        }
      ]
    },
    {
      "cell_type": "code",
      "source": [
        "import numpy as np\n",
        "\n",
        "# Input file path\n",
        "student_marks_file = '/content/drive/My Drive/Numpy_for_Numerical_Computing_&_Data_Analysis/data/output/student_marks.npz'\n",
        "\n",
        "# Load the .npz file containing student marks\n",
        "data = np.load(student_marks_file)\n",
        "\n",
        "# Accessing individual arrays (marks in each subject) using their keywords\n",
        "math_marks = data['math']\n",
        "science_marks = data['english']\n",
        "literature_marks = data['art']\n",
        "\n",
        "# Printing the arrays (marks)\n",
        "print(\"Math Marks:\", math_marks)\n",
        "print(\"English Marks:\", science_marks)\n",
        "print(\"Art Marks:\", literature_marks)\n"
      ],
      "metadata": {
        "id": "PPyvI6t10IR1",
        "colab": {
          "base_uri": "https://localhost:8080/"
        },
        "outputId": "3119f4b4-d083-46d9-ec9a-8d36d5a2eb33"
      },
      "execution_count": null,
      "outputs": [
        {
          "output_type": "stream",
          "name": "stdout",
          "text": [
            "Math Marks: [90 80 92 75 85]\n",
            "English Marks: [96 90 85 88 95]\n",
            "Art Marks: [98 93 82 88 90]\n"
          ]
        }
      ]
    },
    {
      "cell_type": "code",
      "source": [
        "# Using np.savez_compressed(file, *args, **kwds) to save data\n",
        "import numpy as np\n",
        "output_file_path = '/content/drive/My Drive/Numpy_for_Numerical_Computing_&_Data_Analysis/data/output/student_marks_compressed.npz'\n",
        "\n",
        "# Creating arrays for math, English, and art marks\n",
        "math_marks = np.array([90, 80, 92, 75, 85])\n",
        "english_marks = np.array([96, 90, 85, 88, 95])\n",
        "art_marks = np.array([98, 93, 82, 88, 90])\n",
        "\n",
        "# Saving the arrays in a single compressed file\n",
        "np.savez_compressed(output_file_path, math=math_marks, english=english_marks, art=art_marks)\n",
        "print(\"Saved Data to File:\", output_file_path)\n"
      ],
      "metadata": {
        "id": "9AFWGurJ0IBC",
        "colab": {
          "base_uri": "https://localhost:8080/"
        },
        "outputId": "d1b5b3b2-80ce-4a20-95d5-72b484cd6a0e"
      },
      "execution_count": null,
      "outputs": [
        {
          "output_type": "stream",
          "name": "stdout",
          "text": [
            "Saved Data to File: /content/drive/My Drive/Numpy_for_Numerical_Computing_&_Data_Analysis/data/output/student_marks_compressed.npz\n"
          ]
        }
      ]
    },
    {
      "cell_type": "code",
      "source": [
        "import numpy as np\n",
        "\n",
        "# Input file path\n",
        "student_marks_file_compressed =  '/content/drive/My Drive/Numpy_for_Numerical_Computing_&_Data_Analysis/data/output/student_marks_compressed.npz'\n",
        "\n",
        "# Load the .npz file containing student marks\n",
        "data = np.load(student_marks_file_compressed)\n",
        "\n",
        "# Accessing individual arrays (marks in each subject) using their keywords\n",
        "math_marks = data['math']\n",
        "science_marks = data['english']\n",
        "literature_marks = data['art']\n",
        "\n",
        "# Printing the arrays (marks)\n",
        "print(\"Math Marks:\", math_marks)\n",
        "print(\"English Marks:\", science_marks)\n",
        "print(\"Art Marks:\", literature_marks)\n"
      ],
      "metadata": {
        "id": "YRnHhFHOrHaH",
        "colab": {
          "base_uri": "https://localhost:8080/"
        },
        "outputId": "2805cf03-36b6-4507-970c-ebd8f8ac8c77"
      },
      "execution_count": null,
      "outputs": [
        {
          "output_type": "stream",
          "name": "stdout",
          "text": [
            "Math Marks: [90 80 92 75 85]\n",
            "English Marks: [96 90 85 88 95]\n",
            "Art Marks: [98 93 82 88 90]\n"
          ]
        }
      ]
    },
    {
      "cell_type": "code",
      "source": [
        "#save_txt()\n",
        "import numpy as np\n",
        "\n",
        "# Create a NumPy array\n",
        "data = np.array([[1001, 50000.40],\n",
        "                 [1002, 55000.00],\n",
        "                 [1003, 60000.00],\n",
        "                 [1004, 52000.00],\n",
        "                 [1005, 58000.77],\n",
        "                 [1006, 62000.00],\n",
        "                 [1007, 54000.00],\n",
        "                 [1008, 57000.98],\n",
        "                 [1009, 61000.00],\n",
        "                 [1011, 53000.00]])\n",
        "\n",
        "# Define the file path and name\n",
        "output_file = '/content/drive/My Drive/Numpy_for_Numerical_Computing_&_Data_Analysis/data/output/emp_data_export.csv'\n",
        "\n",
        "# Customize formatting and headers\n",
        "header = 'emp_id, salary'\n",
        "footer = '######End of Data#######'\n",
        "delimiter = ','  # Comma-separated values\n",
        "newline = '\\r\\n'  # Carriage return and line feed as line terminator\n",
        "fmt = '%.2f'  # Format numbers with two decimal places\n",
        "\n",
        "# Save the array to a text file\n",
        "np.savetxt(output_file, data, delimiter=delimiter, newline=newline, fmt=fmt, header=header, footer=footer)\n",
        "print(\" Data ahs been saved at :\",output_file)"
      ],
      "metadata": {
        "colab": {
          "base_uri": "https://localhost:8080/"
        },
        "id": "3d3WOlXUrVC1",
        "outputId": "8137359b-8817-4997-8a2c-b97976bc9804"
      },
      "execution_count": null,
      "outputs": [
        {
          "output_type": "stream",
          "name": "stdout",
          "text": [
            " Data ahs been saved at : /content/drive/My Drive/Numpy_for_Numerical_Computing_&_Data_Analysis/data/output/emp_data_export.csv\n"
          ]
        }
      ]
    },
    {
      "cell_type": "code",
      "source": [],
      "metadata": {
        "id": "h-P2yzVvmtsV"
      },
      "execution_count": null,
      "outputs": []
    },
    {
      "cell_type": "code",
      "source": [
        "# from io import StringIO   # StringIO behaves like a file object\n",
        "# c = StringIO(\"0 1\\n2 3\")\n",
        "# np.loadtxt(c)\n",
        "\n"
      ],
      "metadata": {
        "id": "hyEOOiPxwZn_"
      },
      "execution_count": null,
      "outputs": []
    },
    {
      "cell_type": "code",
      "source": [],
      "metadata": {
        "id": "GV0NcIpgIFE9"
      },
      "execution_count": null,
      "outputs": []
    }
  ]
}