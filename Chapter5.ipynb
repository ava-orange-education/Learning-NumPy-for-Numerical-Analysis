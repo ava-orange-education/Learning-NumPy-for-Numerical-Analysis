{
  "nbformat": 4,
  "nbformat_minor": 0,
  "metadata": {
    "colab": {
      "provenance": []
    },
    "kernelspec": {
      "name": "python3",
      "display_name": "Python 3"
    },
    "language_info": {
      "name": "python"
    }
  },
  "cells": [
    {
      "cell_type": "markdown",
      "source": [
        "### **Copies and Views**"
      ],
      "metadata": {
        "id": "ehWZBTM8sN8Y"
      }
    },
    {
      "cell_type": "code",
      "source": [
        "#Copying an array\n",
        "original_array = [10, 20, 30, 40, 50]\n",
        "print(\"Original Array:\", original_array)\n",
        "\n",
        "# Creating a copy of the original array\n",
        "array_copy = original_array.copy()\n",
        "print(\"Array Copy:\", array_copy)\n",
        "\n",
        "# Modifying the copy\n",
        "array_copy[0] = 11\n",
        "print(\"Modified Array Copy:\", array_copy)\n",
        "\n",
        "# Original array remains unchanged\n",
        "print(\"Original Array After Modifying Copy:\", original_array)\n"
      ],
      "metadata": {
        "colab": {
          "base_uri": "https://localhost:8080/"
        },
        "id": "VE6AAsNDsZHJ",
        "outputId": "383eb235-7cfd-4bcc-9793-a0c208759254"
      },
      "execution_count": null,
      "outputs": [
        {
          "output_type": "stream",
          "name": "stdout",
          "text": [
            "Original Array: [10, 20, 30, 40, 50]\n",
            "Array Copy: [10, 20, 30, 40, 50]\n",
            "Modified Array Copy: [11, 20, 30, 40, 50]\n",
            "Original Array After Modifying Copy: [10, 20, 30, 40, 50]\n"
          ]
        }
      ]
    },
    {
      "cell_type": "code",
      "source": [
        "import numpy as np\n",
        "\n",
        "# Original array\n",
        "original_array = np.array([10, 20, 30, 40, 50])\n",
        "print(\"Original Array:\", original_array)\n",
        "\n",
        "# Creating a view of the original array\n",
        "array_view = original_array.view()\n",
        "print(\"Array View:\", array_view)\n",
        "\n",
        "# Modifying the view\n",
        "array_view[0] = 99\n",
        "print(\"Modified Array View:\", array_view)\n",
        "\n",
        "# Original array is also modified\n",
        "print(\"Original Array After Modification:\", original_array)\n"
      ],
      "metadata": {
        "colab": {
          "base_uri": "https://localhost:8080/"
        },
        "id": "djGn39izsdMk",
        "outputId": "fa813073-68e7-425d-e4ee-394cc3439f24"
      },
      "execution_count": null,
      "outputs": [
        {
          "output_type": "stream",
          "name": "stdout",
          "text": [
            "Original Array: [10 20 30 40 50]\n",
            "Array View: [10 20 30 40 50]\n",
            "Modified Array View: [99 20 30 40 50]\n",
            "Original Array After Modification: [99 20 30 40 50]\n"
          ]
        }
      ]
    },
    {
      "cell_type": "code",
      "source": [],
      "metadata": {
        "id": "g_iU926Ou2pQ"
      },
      "execution_count": null,
      "outputs": []
    },
    {
      "cell_type": "markdown",
      "source": [
        "### **Reshaping and Resizing the NumPy Arrays**"
      ],
      "metadata": {
        "id": "E2KWE9Y7Jyd8"
      }
    },
    {
      "cell_type": "code",
      "source": [
        "#Reshaping 1D arry to 2D array\n",
        "import numpy as np\n",
        "input_array = np.array([1, 2, 3, 4, 5, 6, 7, 8, 9])\n",
        "reshaped_array = input_array.reshape(3,3)\n",
        "\n",
        "print(\"Original Array:\\n\",input_array)\n",
        "print(\"Reshaped Array:\\n\",reshaped_array)\n",
        "\n",
        "\n"
      ],
      "metadata": {
        "colab": {
          "base_uri": "https://localhost:8080/"
        },
        "id": "cC3_iNiwJ7KO",
        "outputId": "8bd26a19-3e59-4280-eac8-c7b435b8ddea"
      },
      "execution_count": null,
      "outputs": [
        {
          "output_type": "stream",
          "name": "stdout",
          "text": [
            "Original Array:\n",
            " [1 2 3 4 5 6 7 8 9]\n",
            "Reshaped Array:\n",
            " [[1 2 3]\n",
            " [4 5 6]\n",
            " [7 8 9]]\n"
          ]
        }
      ]
    },
    {
      "cell_type": "code",
      "source": [
        "reshaped_array = input_array.reshape(3,2)"
      ],
      "metadata": {
        "colab": {
          "base_uri": "https://localhost:8080/",
          "height": 182
        },
        "id": "C2r-o7KvJ66W",
        "outputId": "cbc67a95-0d8d-4df9-8fbf-e8854be5f302"
      },
      "execution_count": null,
      "outputs": [
        {
          "output_type": "error",
          "ename": "ValueError",
          "evalue": "ignored",
          "traceback": [
            "\u001b[0;31m---------------------------------------------------------------------------\u001b[0m",
            "\u001b[0;31mValueError\u001b[0m                                Traceback (most recent call last)",
            "\u001b[0;32m<ipython-input-9-2d8c5fb1db4d>\u001b[0m in \u001b[0;36m<cell line: 1>\u001b[0;34m()\u001b[0m\n\u001b[0;32m----> 1\u001b[0;31m \u001b[0mreshaped_array\u001b[0m \u001b[0;34m=\u001b[0m \u001b[0minput_array\u001b[0m\u001b[0;34m.\u001b[0m\u001b[0mreshape\u001b[0m\u001b[0;34m(\u001b[0m\u001b[0;36m3\u001b[0m\u001b[0;34m,\u001b[0m\u001b[0;36m2\u001b[0m\u001b[0;34m)\u001b[0m\u001b[0;34m\u001b[0m\u001b[0;34m\u001b[0m\u001b[0m\n\u001b[0m",
            "\u001b[0;31mValueError\u001b[0m: cannot reshape array of size 9 into shape (3,2)"
          ]
        }
      ]
    },
    {
      "cell_type": "code",
      "source": [],
      "metadata": {
        "id": "fDfzPXM0L_he"
      },
      "execution_count": null,
      "outputs": []
    },
    {
      "cell_type": "code",
      "source": [
        "import numpy as np\n",
        "\n",
        "# Original array with 12 elements\n",
        "original_array = np.arange(9)\n",
        "print(\"Original Array:\\n\", original_array)\n",
        "\n",
        "# Resizing the array to have 16 elements - increases size, repeats elements\n",
        "resized_larger = np.resize(original_array, (4,4))\n",
        "print(\"Resized Array (larger):\\n\", resized_larger)\n",
        "\n",
        "# Resizing the array to have 6 elements - decreases size, truncates elements\n",
        "resized_smaller = np.resize(original_array, (2,2))\n",
        "print(\"Resized Array (smaller):\\n\", resized_smaller)\n"
      ],
      "metadata": {
        "colab": {
          "base_uri": "https://localhost:8080/"
        },
        "id": "Gidm1kudTGc_",
        "outputId": "959d14f0-2e19-4d58-9932-96add7aa95cf"
      },
      "execution_count": null,
      "outputs": [
        {
          "output_type": "stream",
          "name": "stdout",
          "text": [
            "Original Array:\n",
            " [0 1 2 3 4 5 6 7 8]\n",
            "Resized Array (larger):\n",
            " [[0 1 2 3]\n",
            " [4 5 6 7]\n",
            " [8 0 1 2]\n",
            " [3 4 5 6]]\n",
            "Resized Array (smaller):\n",
            " [[0 1]\n",
            " [2 3]]\n"
          ]
        }
      ]
    },
    {
      "cell_type": "markdown",
      "source": [
        "## **Inserting, appending, and deleting the element(s) from the array.**"
      ],
      "metadata": {
        "id": "BCKYSEpu5p5O"
      }
    },
    {
      "cell_type": "code",
      "source": [
        "#insert(), append(), delete()\n",
        "import numpy as np\n",
        "\n",
        "# Original array\n",
        "original_array = np.array([10, 20, 40, 50])\n",
        "print(\"Original Array:\", original_array)\n",
        "\n",
        "# Inserting a value 12 at index 2\n",
        "new_array = np.insert(original_array, 2, 12)\n",
        "print(\"After Insertion:\", new_array)\n"
      ],
      "metadata": {
        "colab": {
          "base_uri": "https://localhost:8080/"
        },
        "id": "8pZPHNHhd_8V",
        "outputId": "e0bfb6a8-0088-4305-cbee-99007aa7451f"
      },
      "execution_count": null,
      "outputs": [
        {
          "output_type": "stream",
          "name": "stdout",
          "text": [
            "Original Array: [10 20 40 50]\n",
            "After Insertion: [10 20 12 40 50]\n"
          ]
        }
      ]
    },
    {
      "cell_type": "code",
      "source": [
        "import numpy as np\n",
        "\n",
        "# Original array\n",
        "original_array = np.array([10, 20, 40, 50])\n",
        "print(\"Original Array:\", original_array)\n",
        "\n",
        "# Appending a value 6 to the original array\n",
        "appended_array = np.append(original_array, 11)\n",
        "print(\"After Appending:\", appended_array)\n"
      ],
      "metadata": {
        "colab": {
          "base_uri": "https://localhost:8080/"
        },
        "id": "Xskq5rkBRAQC",
        "outputId": "3b780c9b-1cd1-40f2-cda6-2c5660eec47e"
      },
      "execution_count": null,
      "outputs": [
        {
          "output_type": "stream",
          "name": "stdout",
          "text": [
            "Original Array: [10 20 40 50]\n",
            "After Appending: [10 20 40 50 11]\n"
          ]
        }
      ]
    },
    {
      "cell_type": "code",
      "source": [
        "import numpy as np\n",
        "\n",
        "# Original array\n",
        "original_array = np.array([10, 20, 40, 50])\n",
        "print(\"Original Array:\", original_array)\n",
        "\n",
        "# Appending a value 6 to the original array\n",
        "appended_array = np.append(original_array, 11)\n",
        "print(\"After Appending:\", appended_array)\n"
      ],
      "metadata": {
        "colab": {
          "base_uri": "https://localhost:8080/"
        },
        "id": "GhMFHOGjRNp3",
        "outputId": "76d4cfa5-8f9c-4595-a82b-c83ed09e8071"
      },
      "execution_count": null,
      "outputs": [
        {
          "output_type": "stream",
          "name": "stdout",
          "text": [
            "Original Array: [10 20 40 50]\n",
            "After Appending: [10 20 40 50 11]\n"
          ]
        }
      ]
    },
    {
      "cell_type": "code",
      "source": [
        "# append at axis=1\n",
        "import numpy as np\n",
        "\n",
        "# Creating a 2D array\n",
        "original_array = np.array([[10, 20], [30, 40]])\n",
        "print(\"Original Array:\\n\", original_array)\n",
        "\n",
        "# Creating a new column to append\n",
        "new_column = np.array([[50], [60]])\n",
        "print(\"New Column:\\n\", new_column)\n",
        "\n",
        "# Appending the new column\n",
        "appended_array = np.append(original_array, new_column, axis=1)\n",
        "print(\"After Appending:\\n\", appended_array)"
      ],
      "metadata": {
        "colab": {
          "base_uri": "https://localhost:8080/"
        },
        "id": "jf5ceFX5j237",
        "outputId": "5dbd8741-4397-4b51-f0c0-23c3a26d0179"
      },
      "execution_count": null,
      "outputs": [
        {
          "output_type": "stream",
          "name": "stdout",
          "text": [
            "Original Array:\n",
            " [[10 20]\n",
            " [30 40]]\n",
            "New Column:\n",
            " [[50]\n",
            " [60]]\n",
            "After Appending:\n",
            " [[10 20 50]\n",
            " [30 40 60]]\n"
          ]
        }
      ]
    },
    {
      "cell_type": "code",
      "source": [
        "import numpy as np\n",
        "\n",
        "# Original array\n",
        "original_array = np.array([10, 20, 40, 50])\n",
        "print(\"Original Array:\", original_array)\n",
        "\n",
        "# Deleting a element at index 2\n",
        "deleted_array = np.delete(original_array, 2)\n",
        "print(\"After Deletion:\", deleted_array)\n"
      ],
      "metadata": {
        "colab": {
          "base_uri": "https://localhost:8080/"
        },
        "id": "pXuLKkKaRbkz",
        "outputId": "96cc40e4-8184-4c73-e08b-fafeba6cda8e"
      },
      "execution_count": null,
      "outputs": [
        {
          "output_type": "stream",
          "name": "stdout",
          "text": [
            "Original Array: [10 20 40 50]\n",
            "After Deletion: [10 20 50]\n"
          ]
        }
      ]
    },
    {
      "cell_type": "markdown",
      "source": [
        "### **Flattening the Arrays**"
      ],
      "metadata": {
        "id": "K4blJNIdGRnu"
      }
    },
    {
      "cell_type": "code",
      "source": [
        "import numpy as np\n",
        "\n",
        "# Creating a 2D array\n",
        "array_2d = np.array([[10, 20, 30], [40, 50, 60]])\n",
        "print(\"Original array:\\n\", array_2d)\n",
        "\n",
        "# Flattening the array\n",
        "flattened_array = array_2d.flatten()\n",
        "print(\"Flattened Array:\", flattened_array)\n"
      ],
      "metadata": {
        "colab": {
          "base_uri": "https://localhost:8080/"
        },
        "id": "CaOTiZvafIFH",
        "outputId": "8780c09a-b812-4b3d-d917-1376a47f6325"
      },
      "execution_count": null,
      "outputs": [
        {
          "output_type": "stream",
          "name": "stdout",
          "text": [
            "Original array:\n",
            " [[10 20 30]\n",
            " [40 50 60]]\n",
            "Flattened Array: [10 20 30 40 50 60]\n"
          ]
        }
      ]
    },
    {
      "cell_type": "code",
      "source": [
        "import numpy as np\n",
        "\n",
        "# Creating a 2D array\n",
        "array_2d = np.array([[10, 20, 30], [40, 50, 60]])\n",
        "print(\"Original array:\\n\", array_2d)\n",
        "\n",
        "raveled_array = array_2d.ravel()\n",
        "print(\"Raveled Array:\", raveled_array)\n"
      ],
      "metadata": {
        "colab": {
          "base_uri": "https://localhost:8080/"
        },
        "id": "eDWbRPLNg5Dr",
        "outputId": "6f842a5e-9be5-44dd-c76d-aa2b2a89e8eb"
      },
      "execution_count": null,
      "outputs": [
        {
          "output_type": "stream",
          "name": "stdout",
          "text": [
            "Original array:\n",
            " [[10 20 30]\n",
            " [40 50 60]]\n",
            "Raveled Array: [10 20 30 40 50 60]\n"
          ]
        }
      ]
    },
    {
      "cell_type": "markdown",
      "source": [
        "## **Concatenating and Splitting Arrays**"
      ],
      "metadata": {
        "id": "cc5GjoCJ6Npj"
      }
    },
    {
      "cell_type": "markdown",
      "source": [
        "### **Concatenating**"
      ],
      "metadata": {
        "id": "_j0V6iqK6XhC"
      }
    },
    {
      "cell_type": "code",
      "source": [
        "import numpy as np\n",
        "\n",
        "# Creating two 2D arrays\n",
        "arr_1 = np.array([[10, 20], [30, 40]])\n",
        "arr_2 = np.array([[50, 60], [70, 80]])\n",
        "\n",
        "print(\"Array 1:\\n\", arr_1)\n",
        "print(\"Array 2:\\n\", arr_2)\n",
        "\n",
        "# Concatenating along the first axis (axis=0, row-wise)\n",
        "concatenated_array_axis_0 = np.concatenate((arr_1, arr_2), axis=0)\n",
        "print(\"Concatenated along axis 0:\\n\", concatenated_array_axis_0)\n",
        "\n",
        "# Concatenating along the second axis (axis=1, column-wise)\n",
        "concatenated_array_axis_1 = np.concatenate((arr_1, arr_2), axis=1)\n",
        "print(\"Concatenated along axis 1:\\n\", concatenated_array_axis_1)"
      ],
      "metadata": {
        "colab": {
          "base_uri": "https://localhost:8080/"
        },
        "id": "_htfC4f7TKvN",
        "outputId": "51d145ec-247f-4985-f982-30fde0236410"
      },
      "execution_count": null,
      "outputs": [
        {
          "output_type": "stream",
          "name": "stdout",
          "text": [
            "Array 1:\n",
            " [[10 20]\n",
            " [30 40]]\n",
            "Array 2:\n",
            " [[50 60]\n",
            " [70 80]]\n",
            "Concatenated along axis 0:\n",
            " [[10 20]\n",
            " [30 40]\n",
            " [50 60]\n",
            " [70 80]]\n",
            "Concatenated along axis 1:\n",
            " [[10 20 50 60]\n",
            " [30 40 70 80]]\n"
          ]
        }
      ]
    },
    {
      "cell_type": "code",
      "source": [
        "import numpy as np\n",
        "\n",
        "# Creating two 2D arrays\n",
        "arr_1 = np.array([[10, 20], [30, 40]])\n",
        "arr_2 = np.array([[50, 60], [70, 80]])\n",
        "\n",
        "print(\"Array 1:\\n\", arr_1)\n",
        "print(\"Array 2:\\n\", arr_2)\n",
        "\n",
        "# Horizontal stacking\n",
        "hstacked_array = np.hstack((arr_1, arr_2))\n",
        "print(\"Horizontal Stacked Array:\\n\", hstacked_array)\n",
        "\n",
        "# Vertical stacking\n",
        "vstacked_array = np.vstack((arr_1, arr_2))\n",
        "print(\"Vertical Stacked Array:\\n\", vstacked_array)"
      ],
      "metadata": {
        "id": "uiQsXzmLy5fF",
        "colab": {
          "base_uri": "https://localhost:8080/"
        },
        "outputId": "e5f529c9-57d6-42f0-fbed-6f9915c85245"
      },
      "execution_count": null,
      "outputs": [
        {
          "output_type": "stream",
          "name": "stdout",
          "text": [
            "Array 1:\n",
            " [[10 20]\n",
            " [30 40]]\n",
            "Array 2:\n",
            " [[50 60]\n",
            " [70 80]]\n",
            "Horizontal Stacked Array:\n",
            " [[10 20 50 60]\n",
            " [30 40 70 80]]\n",
            "Vertical Stacked Array:\n",
            " [[10 20]\n",
            " [30 40]\n",
            " [50 60]\n",
            " [70 80]]\n"
          ]
        }
      ]
    },
    {
      "cell_type": "markdown",
      "source": [
        "#### **Spliting Arrays**"
      ],
      "metadata": {
        "id": "VMV7MwG81Uld"
      }
    },
    {
      "cell_type": "code",
      "source": [
        "# spliting an array\n",
        "import numpy as np\n",
        "arr_1 = np.array([[10, 20], [30, 40], [50, 60], [70, 80]])\n",
        "print(\"Original Array:\\n\", arr_1)\n",
        "\n",
        "# Splitting the array using np.split()\n",
        "split_array = np.split(arr_1, 4,axis=0)\n",
        "print(\"Splited Array:\\n\", split_array)"
      ],
      "metadata": {
        "colab": {
          "base_uri": "https://localhost:8080/"
        },
        "id": "jnNZUjGl1ZRZ",
        "outputId": "04d50eca-bd77-4ede-8bb6-02405b42660b"
      },
      "execution_count": null,
      "outputs": [
        {
          "output_type": "stream",
          "name": "stdout",
          "text": [
            "Original Array:\n",
            " [[10 20]\n",
            " [30 40]\n",
            " [50 60]\n",
            " [70 80]]\n",
            "Splited Array:\n",
            " [array([[10, 20]]), array([[30, 40]]), array([[50, 60]]), array([[70, 80]])]\n"
          ]
        }
      ]
    },
    {
      "cell_type": "code",
      "source": [
        "# spliting an array\n",
        "import numpy as np\n",
        "arr_1 = np.array([[10, 20,10], [30, 40,23], [50, 60,56], [70, 80,66]])\n",
        "print(\"Original Array:\\n\", arr_1)\n",
        "\n",
        "# Splitting the array using np.split()\n",
        "split_array = np.split(arr_1, 3,axis=1)\n",
        "print(\"Splited Array:\\n\", split_array)"
      ],
      "metadata": {
        "colab": {
          "base_uri": "https://localhost:8080/"
        },
        "id": "au5bIe-LBQMF",
        "outputId": "d889c1a5-cdab-4c6b-ff63-dad6e7cfff22"
      },
      "execution_count": null,
      "outputs": [
        {
          "output_type": "stream",
          "name": "stdout",
          "text": [
            "Original Array:\n",
            " [[10 20 10]\n",
            " [30 40 23]\n",
            " [50 60 56]\n",
            " [70 80 66]]\n",
            "Splited Array:\n",
            " [array([[10],\n",
            "       [30],\n",
            "       [50],\n",
            "       [70]]), array([[20],\n",
            "       [40],\n",
            "       [60],\n",
            "       [80]]), array([[10],\n",
            "       [23],\n",
            "       [56],\n",
            "       [66]])]\n"
          ]
        }
      ]
    },
    {
      "cell_type": "code",
      "source": [
        "import numpy as np\n",
        "arr_1 = np.array([[10, 20,10], [30, 40,23], [50, 60,56], [70, 80,66]])\n",
        "print(\"Original Array:\\n\", arr_1)\n",
        "\n",
        "# Splitting into 3 parts (unequal division)\n",
        "unequal_split_arrays = np.array_split(arr_1, 3)\n",
        "print(\"Unequal Split Arrays:\", unequal_split_arrays)\n"
      ],
      "metadata": {
        "colab": {
          "base_uri": "https://localhost:8080/"
        },
        "id": "2xaKjpMhKRXu",
        "outputId": "04124c49-6ffe-42f4-d6c7-c2ebe83d6bd3"
      },
      "execution_count": null,
      "outputs": [
        {
          "output_type": "stream",
          "name": "stdout",
          "text": [
            "Original Array:\n",
            " [[10 20]\n",
            " [30 40]\n",
            " [50 60]\n",
            " [70 80]]\n",
            "Unequal Split Arrays: [array([[10, 20],\n",
            "       [30, 40]]), array([[50, 60]]), array([[70, 80]])]\n"
          ]
        }
      ]
    },
    {
      "cell_type": "code",
      "source": [
        "# spliting an array\n",
        "import numpy as np\n",
        "arr_1 = np.array([[10, 20, 78], [30, 40, 89], [50, 60, 67], [70, 80, 90]])\n",
        "print(\"Original Array:\\n\", arr_1)\n",
        "\n",
        "# Splitting the array using np.hsplit()\n",
        "h_split_arrays = np.hsplit(arr_1, 3)\n",
        "print(\"Horizontally Split Arrays:\", h_split_arrays)\n"
      ],
      "metadata": {
        "colab": {
          "base_uri": "https://localhost:8080/"
        },
        "id": "13Z7xwAzSQEy",
        "outputId": "ad4a13f4-a255-4fc3-d7d1-908a4717802b"
      },
      "execution_count": null,
      "outputs": [
        {
          "output_type": "stream",
          "name": "stdout",
          "text": [
            "Original Array:\n",
            " [[10 20 78]\n",
            " [30 40 89]\n",
            " [50 60 67]\n",
            " [70 80 90]]\n",
            "Horizontally Split Arrays: [array([[10],\n",
            "       [30],\n",
            "       [50],\n",
            "       [70]]), array([[20],\n",
            "       [40],\n",
            "       [60],\n",
            "       [80]]), array([[78],\n",
            "       [89],\n",
            "       [67],\n",
            "       [90]])]\n"
          ]
        }
      ]
    },
    {
      "cell_type": "code",
      "source": [
        "# spliting an array\n",
        "import numpy as np\n",
        "arr_1 = np.array([[10, 20], [30, 40], [50, 60], [70, 80]])\n",
        "print(\"Original Array:\\n\", arr_1)\n",
        "\n",
        "# Splitting the array using np.hsplit()\n",
        "v_split_arrays = np.vsplit(arr_1, 4)\n",
        "print(\"Horizontally Split Arrays:\", v_split_arrays)\n"
      ],
      "metadata": {
        "colab": {
          "base_uri": "https://localhost:8080/"
        },
        "id": "na-KOYdXWY3c",
        "outputId": "05d7bd71-c397-4a56-9f9f-28a66dfe2d4a"
      },
      "execution_count": null,
      "outputs": [
        {
          "output_type": "stream",
          "name": "stdout",
          "text": [
            "Original Array:\n",
            " [[10 20]\n",
            " [30 40]\n",
            " [50 60]\n",
            " [70 80]]\n",
            "Horizontally Split Arrays: [array([[10, 20]]), array([[30, 40]]), array([[50, 60]]), array([[70, 80]])]\n"
          ]
        }
      ]
    },
    {
      "cell_type": "markdown",
      "source": [
        "### **Transpose the array in Numpy**"
      ],
      "metadata": {
        "id": "VYQ7ld26KlrK"
      }
    },
    {
      "cell_type": "code",
      "source": [
        "import numpy as np\n",
        "# creating 2d array\n",
        "arr_2d = np.array([[10, 20, 30], [40, 50, 60]])\n",
        "print(\"Original array:\\n\", arr_2d)\n",
        "\n",
        "# Transposing the array\n",
        "transposed_array = np.transpose(arr_2d)\n",
        "print(\"Transposed array:\\n\", transposed_array)\n"
      ],
      "metadata": {
        "colab": {
          "base_uri": "https://localhost:8080/"
        },
        "id": "20sxQsLEKqYN",
        "outputId": "ab587234-8118-4b4e-a82c-889f2bfbc866"
      },
      "execution_count": null,
      "outputs": [
        {
          "output_type": "stream",
          "name": "stdout",
          "text": [
            "Original array:\n",
            " [[10 20 30]\n",
            " [40 50 60]]\n",
            "Transposed array:\n",
            " [[10 40]\n",
            " [20 50]\n",
            " [30 60]]\n"
          ]
        }
      ]
    },
    {
      "cell_type": "code",
      "source": [
        "# tranposing 3d array\n",
        "import numpy as np\n",
        "arr_3d = np.array([[[10, 20], [30, 40]], [[50, 60], [70, 80]]])\n",
        "print(\"Original array:\\n\", arr_3d)\n",
        "\n",
        "# Transposing along the first and second axes means it will transpose the first two axes\n",
        "transposed_array = np.transpose(arr_3d, (1, 0, 2))\n",
        "print(\"Transposed array:\\n\", transposed_array)\n"
      ],
      "metadata": {
        "colab": {
          "base_uri": "https://localhost:8080/"
        },
        "id": "PSRkSDiOXGtZ",
        "outputId": "f47336dc-51f9-4b47-c37e-9a630460d177"
      },
      "execution_count": null,
      "outputs": [
        {
          "output_type": "stream",
          "name": "stdout",
          "text": [
            "Original array:\n",
            " [[[10 20]\n",
            "  [30 40]]\n",
            "\n",
            " [[50 60]\n",
            "  [70 80]]]\n",
            "Transposed array:\n",
            " [[[10 20]\n",
            "  [50 60]]\n",
            "\n",
            " [[30 40]\n",
            "  [70 80]]]\n"
          ]
        }
      ]
    },
    {
      "cell_type": "code",
      "source": [
        "arr_3d.shape"
      ],
      "metadata": {
        "colab": {
          "base_uri": "https://localhost:8080/"
        },
        "id": "cCNskHVqNNUY",
        "outputId": "09fb4e82-52d2-459e-e1b8-842d9baf8258"
      },
      "execution_count": null,
      "outputs": [
        {
          "output_type": "execute_result",
          "data": {
            "text/plain": [
              "(2, 2, 2)"
            ]
          },
          "metadata": {},
          "execution_count": 3
        }
      ]
    },
    {
      "cell_type": "code",
      "source": [
        "import numpy as np\n",
        "\n",
        "# Creating a 2D array\n",
        "arr_2d = np.array([[10, 20], [30, 40]])\n",
        "print(\"Original array:\\n\", arr_2d)\n",
        "\n",
        "# Using array.T\n",
        "transposed_2d = arr_2d.T\n",
        "print(\"Transposed array:\\n\", transposed_2d)\n"
      ],
      "metadata": {
        "id": "3WqspUKw7crg",
        "colab": {
          "base_uri": "https://localhost:8080/"
        },
        "outputId": "ddf06475-af28-4e42-913d-43671a747136"
      },
      "execution_count": null,
      "outputs": [
        {
          "output_type": "stream",
          "name": "stdout",
          "text": [
            "Original array:\n",
            " [[10 20]\n",
            " [30 40]]\n",
            "Transposed array:\n",
            " [[10 30]\n",
            " [20 40]]\n"
          ]
        }
      ]
    },
    {
      "cell_type": "markdown",
      "source": [
        "### **Arithmetic Operators and functions in NumPy**"
      ],
      "metadata": {
        "id": "XNZY1YceaTpJ"
      }
    },
    {
      "cell_type": "code",
      "source": [
        "import numpy as np\n",
        "arr1 = np.array([[10, 20], [30, 40]])\n",
        "arr2 = np.array([[50, 60], [70, 80]])\n",
        "print(\"Array 1:\\n\", arr1)\n",
        "print(\"Array 2:\\n\", arr2)\n",
        "\n",
        "\n",
        "#addition\n",
        "result = arr1 + arr2\n",
        "print(\"Addition with '+' operator:\\n\", result)\n",
        "result = np.add(arr1, arr2)\n",
        "print(\"Addition with add() function:\\n\", result)\n",
        "\n",
        "#subtraction\n",
        "result = arr1 - arr2\n",
        "print(\"Subtraction with '-' operator:\\n\", result)\n",
        "result = np.subtract(arr1, arr2)\n",
        "print(\"Subtraction with subtract() function:\\n\", result)\n",
        "\n",
        "#multiplication\n",
        "result = arr1 * arr2\n",
        "print(\"Multiplication with '*' operator:\\n\", result)\n",
        "result = np.multiply(arr1, arr2)\n",
        "print(\"Multiplication with multiply() function:\\n\", result)\n",
        "\n",
        "#division\n",
        "result = arr1 / arr2\n",
        "print(\"Division with '/' operator:\\n\", result)\n",
        "result = np.divide(arr1, arr2)\n",
        "print(\"Division with divide() function:\\n\", result)\n",
        "\n",
        "#floor division\n",
        "result = arr1 // arr2\n",
        "print(\"Floor Division with '//' operator:\\n\", result)\n",
        "result = np.floor_divide(arr1, arr2)\n",
        "print(\"Floor Division with floor_divide() function:\\n\", result)\n",
        "\n",
        "#mod\n",
        "result = arr1 % arr2\n",
        "print(\"Mod with '%' operator:\\n\", result)\n",
        "result = np.mod(arr1, arr2)\n",
        "print(\"Mod with mod() function:\\n\", result)\n",
        "\n",
        "#power\n",
        "result = arr1 ** arr2\n",
        "print(\"Power with '**' operator:\\n\", result)\n",
        "result = np.power(arr1, arr2)\n",
        "print(\"Power with power() function:\\n\", result)"
      ],
      "metadata": {
        "id": "4LkVa37lYshB",
        "colab": {
          "base_uri": "https://localhost:8080/"
        },
        "outputId": "882ac48b-bca3-414e-be3a-714ff429850f"
      },
      "execution_count": null,
      "outputs": [
        {
          "output_type": "stream",
          "name": "stdout",
          "text": [
            "Array 1:\n",
            " [[10 20]\n",
            " [30 40]]\n",
            "Array 2:\n",
            " [[50 60]\n",
            " [70 80]]\n",
            "Addition with '+' operator:\n",
            " [[ 60  80]\n",
            " [100 120]]\n",
            "Addition with add() function:\n",
            " [[ 60  80]\n",
            " [100 120]]\n",
            "Subtraction with '-' operator:\n",
            " [[-40 -40]\n",
            " [-40 -40]]\n",
            "Subtraction with subtract() function:\n",
            " [[-40 -40]\n",
            " [-40 -40]]\n",
            "Multiplication with '*' operator:\n",
            " [[ 500 1200]\n",
            " [2100 3200]]\n",
            "Multiplication with multiply() function:\n",
            " [[ 500 1200]\n",
            " [2100 3200]]\n",
            "Division with '/' operator:\n",
            " [[0.2        0.33333333]\n",
            " [0.42857143 0.5       ]]\n",
            "Division with divide() function:\n",
            " [[0.2        0.33333333]\n",
            " [0.42857143 0.5       ]]\n",
            "Floor Division with '//' operator:\n",
            " [[0 0]\n",
            " [0 0]]\n",
            "Floor Division with floor_divide() function:\n",
            " [[0 0]\n",
            " [0 0]]\n",
            "Mod with '%' operator:\n",
            " [[10 20]\n",
            " [30 40]]\n",
            "Mod with mod() function:\n",
            " [[10 20]\n",
            " [30 40]]\n",
            "Power with '**' operator:\n",
            " [[-5376172055173529600                    0]\n",
            " [                   0                    0]]\n",
            "Power with power() function:\n",
            " [[-5376172055173529600                    0]\n",
            " [                   0                    0]]\n"
          ]
        }
      ]
    },
    {
      "cell_type": "code",
      "source": [
        "import numpy as np\n",
        "\n",
        "# Creating two arrays for demonstration\n",
        "arr1 = np.array([10, 20, 30])\n",
        "arr2 = np.array([40, 50, 60])\n",
        "print(\"Array 1:\\n\", arr1)\n",
        "print(\"Array 2:\\n\", arr2)\n",
        "\n",
        "# Creating an empty array to hold the result\n",
        "result = np.empty_like(arr1)\n",
        "\n",
        "\n",
        "# Performing an arithmetic operation using the out parameter\n",
        "np.add(arr1, arr2, out=result)\n",
        "print(\"Result array:\\n\", result)\n"
      ],
      "metadata": {
        "colab": {
          "base_uri": "https://localhost:8080/"
        },
        "id": "1mcbeCcdawdn",
        "outputId": "5fa61a4b-b7a3-4fac-b46f-ebf8ff6b54ce"
      },
      "execution_count": null,
      "outputs": [
        {
          "output_type": "stream",
          "name": "stdout",
          "text": [
            "Array 1:\n",
            " [10 20 30]\n",
            "Array 2:\n",
            " [40 50 60]\n",
            "Result array:\n",
            " [50 70 90]\n"
          ]
        }
      ]
    },
    {
      "cell_type": "markdown",
      "source": [
        "### **Broadcasting Rules in NumPy**"
      ],
      "metadata": {
        "id": "I9T6RRdqoLA1"
      }
    },
    {
      "cell_type": "code",
      "source": [
        "#Rule#1: Compare Dimensions\n",
        "import numpy as np\n",
        "arr1 = np.array([[10, 20, 30],[40, 50, 60]])\n",
        "arr2 = np.array([70, 80, 90])\n",
        "\n",
        "print(\"arr1:\\n\", arr1)\n",
        "print(\"shape of arr1 is\", arr1.shape)\n",
        "\n",
        "print(\"\\narr2:\\n\", arr2)\n",
        "print(\"shape of arr2 is:\", arr2.shape)\n",
        "\n",
        "\n",
        "result = arr1 + arr2\n",
        "print(\"\\nResult:\\n\", result)"
      ],
      "metadata": {
        "colab": {
          "base_uri": "https://localhost:8080/"
        },
        "id": "kPAXzgleoRD0",
        "outputId": "90bee683-f364-4534-f039-598a3f95c7d1"
      },
      "execution_count": null,
      "outputs": [
        {
          "output_type": "stream",
          "name": "stdout",
          "text": [
            "arr1:\n",
            " [[10 20 30]\n",
            " [40 50 60]]\n",
            "shape of arr1 is (2, 3)\n",
            "\n",
            "arr2:\n",
            " [70 80 90]\n",
            "shape of arr2 is: (3,)\n",
            "\n",
            "Result:\n",
            " [[ 80 100 120]\n",
            " [110 130 150]]\n"
          ]
        }
      ]
    },
    {
      "cell_type": "markdown",
      "source": [],
      "metadata": {
        "id": "s4SGpibroQTo"
      }
    },
    {
      "cell_type": "markdown",
      "source": [
        "### **Aggregation & Statistical Functions In NumPy**"
      ],
      "metadata": {
        "id": "qRFi2et0Sffm"
      }
    },
    {
      "cell_type": "code",
      "source": [
        "#Aggregation  and Statistical Functions in Numpy\n",
        "import numpy as np\n",
        "array_2d = np.array([[10, 20, 30], [40, 50, 60]])\n",
        "print(\"Original array:\\n\", array_2d)\n",
        "\n",
        "# Sum of elements\n",
        "\n",
        "\n",
        "\n",
        "\n"
      ],
      "metadata": {
        "id": "Gspz0k2YlhPe",
        "colab": {
          "base_uri": "https://localhost:8080/"
        },
        "outputId": "b42f38af-dec6-4473-9caa-75eaa23e5433"
      },
      "execution_count": null,
      "outputs": [
        {
          "output_type": "stream",
          "name": "stdout",
          "text": [
            "Original array:\n",
            " [[10 20 30]\n",
            " [40 50 60]]\n"
          ]
        }
      ]
    },
    {
      "cell_type": "code",
      "source": [
        "\n",
        "\n",
        "#\n",
        "\n"
      ],
      "metadata": {
        "id": "heQHxldeSyOb",
        "colab": {
          "base_uri": "https://localhost:8080/"
        },
        "outputId": "10882c32-d15b-4bbb-f9ee-24b35c08a8c5"
      },
      "execution_count": null,
      "outputs": [
        {
          "output_type": "stream",
          "name": "stdout",
          "text": [
            "Original array:\n",
            " [[10 20 30]\n",
            " [40 50 60]]\n"
          ]
        }
      ]
    },
    {
      "cell_type": "code",
      "source": [
        "#Aggregation  and Statistical Functions in Numpy\n",
        "\n",
        "import numpy as np\n",
        "array_2d = np.array([[10, 20, 30], [40, 50, 60]])\n",
        "print(\"Original array:\\n\", array_2d)\n",
        "\n",
        "# sum()\n",
        "result = np.sum(array_2d)\n",
        "print(\"Sum of elements:\\n\", result)\n",
        "\n",
        "# prod()\n",
        "result = np.prod(array_2d)\n",
        "print(\"Product of elements:\\n\", result)\n",
        "\n",
        "# cumsum()\n",
        "result = np.cumsum(array_2d)\n",
        "print(\"Cumulative sum:\\n\", result)\n",
        "\n",
        "# cumprod()\n",
        "result = np.cumprod(array_2d)\n",
        "print(\"Cumulative product:\\n\", result)\n",
        "\n",
        "# min()\n",
        "result = np.min(array_2d)\n",
        "print(\"Minimum element:\\n\", result)\n",
        "\n",
        "# max()\n",
        "result = np.max(array_2d)\n",
        "print(\"Maximum element:\\n\", result)\n",
        "\n",
        "# argmin()\n",
        "result = np.argmin(array_2d)\n",
        "print(\"Index of minimum element:\\n\", result)\n",
        "\n",
        "# argmax()\n",
        "result = np.argmax(array_2d)\n",
        "print(\"Index of maximum element:\\n\", result)\n",
        "\n",
        "# mean()\n",
        "result = np.mean(array_2d)\n",
        "print(\"Mean of elements:\\n\", result)\n",
        "\n",
        "# median()\n",
        "result = np.median(array_2d)\n",
        "print(\"Median of elements:\\n\", result)\n",
        "\n",
        "# percentile()\n",
        "result = np.percentile(array_2d, 50)\n",
        "print(\"50th percentile:\\n\", result)\n",
        "\n",
        "# quantile()\n",
        "result = np.quantile(array_2d, 0.5)\n",
        "print(\"0.5th quantile:\\n\", result)\n",
        "\n",
        "# all()\n",
        "result = np.all(array_2d > 0)\n",
        "print(\"Are all elements greater than 0:\\n\", result)\n",
        "\n",
        "# any()\n",
        "result = np.any(array_2d > 0)\n",
        "print(\"Are any elements greater than 0:\\n\", result)\n",
        "\n",
        "# std()\n",
        "result = np.std(array_2d)\n",
        "print(\"Standard deviation:\\n\", result)\n",
        "\n",
        "# var()\n",
        "result = np.var(array_2d)\n",
        "print(\"Variance:\\n\", result)\n",
        "\n",
        "# average()\n",
        "result = np.average(array_2d)\n",
        "print(\"Average:\\n\", result)\n",
        "\n",
        "# ptp()\n",
        "result = np.ptp(array_2d)\n",
        "print(\"Peak-to-peak value:\\n\", result)\n",
        "\n",
        "# corrcoef()\n",
        "result = np.corrcoef(array_2d)\n",
        "print(\"Correlation coefficient:\\n\", result)\n"
      ],
      "metadata": {
        "id": "Fy5oplMQUkqp",
        "colab": {
          "base_uri": "https://localhost:8080/"
        },
        "outputId": "46a4d316-9eb5-4320-dc7f-dfb24776533d"
      },
      "execution_count": null,
      "outputs": [
        {
          "output_type": "stream",
          "name": "stdout",
          "text": [
            "Sum of elements:\n",
            " 210\n",
            "Product of elements:\n",
            " 720000000\n",
            "Cumulative sum:\n",
            " [ 10  30  60 100 150 210]\n",
            "Cumulative product:\n",
            " [       10       200      6000    240000  12000000 720000000]\n",
            "Minimum element:\n",
            " 10\n",
            "Maximum element:\n",
            " 60\n",
            "Index of minimum element:\n",
            " 0\n",
            "Index of maximum element:\n",
            " 5\n",
            "Mean of elements:\n",
            " 35.0\n",
            "Median of elements:\n",
            " 35.0\n",
            "50th percentile:\n",
            " 35.0\n",
            "0.5th quantile:\n",
            " 35.0\n",
            "Are all elements greater than 0:\n",
            " True\n",
            "Are any elements greater than 0:\n",
            " True\n",
            "Standard deviation:\n",
            " 17.07825127659933\n",
            "Variance:\n",
            " 291.6666666666667\n",
            "Average:\n",
            " 35.0\n",
            "Peak-to-peak value:\n",
            " 50\n",
            "Correlation coefficient:\n",
            " [[1. 1.]\n",
            " [1. 1.]]\n"
          ]
        }
      ]
    },
    {
      "cell_type": "code",
      "source": [
        "#Aggregation Functions in NumPy\n",
        "\n",
        "import numpy as np\n",
        "array_2d = np.array([[10, 20, 30], [40, 50, 60]])\n",
        "print(\"Original array:\\n\", array_2d)\n",
        "# sum()\n",
        "result = np.sum(array_2d)\n",
        "print(\"Sum of elements:\\n\", result)\n",
        "# prod()\n",
        "result = np.prod(array_2d)\n",
        "print(\"Product of elements:\\n\", result)\n",
        "# cumsum()\n",
        "result = np.cumsum(array_2d)\n",
        "print(\"Cumulative sum:\\n\", result)\n",
        "# cumprod()\n",
        "result = np.cumprod(array_2d)\n",
        "print(\"Cumulative product:\\n\", result)\n",
        "# min()\n",
        "result = np.min(array_2d)\n",
        "print(\"Minimum element:\\n\", result)\n",
        "# max()\n",
        "result = np.max(array_2d)\n",
        "print(\"Maximum element:\\n\", result)\n",
        "# argmin()\n",
        "result = np.argmin(array_2d)\n",
        "print(\"Index of minimum element:\\n\", result)\n",
        "# argmax()\n",
        "result = np.argmax(array_2d)\n",
        "print(\"Index of maximum element:\\n\", result)\n",
        "# all()\n",
        "result = np.all(array_2d > 0)\n",
        "print(\"Are all elements greater than 0:\\n\", result)\n",
        "# any()\n",
        "result = np.any(array_2d > 0)\n",
        "print(\"Are any elements greater than 0:\\n\", result)\n"
      ],
      "metadata": {
        "colab": {
          "base_uri": "https://localhost:8080/"
        },
        "id": "Mtzg8vvFbfwy",
        "outputId": "f74dc68b-7188-483f-8313-a3f055f88b6a"
      },
      "execution_count": null,
      "outputs": [
        {
          "output_type": "stream",
          "name": "stdout",
          "text": [
            "Original array:\n",
            " [[10 20 30]\n",
            " [40 50 60]]\n",
            "Sum of elements:\n",
            " 210\n",
            "Product of elements:\n",
            " 720000000\n",
            "Cumulative sum:\n",
            " [ 10  30  60 100 150 210]\n",
            "Cumulative product:\n",
            " [       10       200      6000    240000  12000000 720000000]\n",
            "Minimum element:\n",
            " 10\n",
            "Maximum element:\n",
            " 60\n",
            "Index of minimum element:\n",
            " 0\n",
            "Index of maximum element:\n",
            " 5\n",
            "Are all elements greater than 0:\n",
            " True\n",
            "Are any elements greater than 0:\n",
            " True\n"
          ]
        }
      ]
    },
    {
      "cell_type": "code",
      "source": [
        "#Statistical Functions in Numpy\n",
        "import numpy as np\n",
        "array_2d = np.array([[10, 20, 30], [40, 50, 60]])\n",
        "print(\"Original array:\\n\", array_2d)\n",
        "# mean()\n",
        "result = np.mean(array_2d)\n",
        "print(\"Mean of elements:\\n\", result)\n",
        "# median()\n",
        "result = np.median(array_2d)\n",
        "print(\"Median of elements:\\n\", result)\n",
        "# percentile()\n",
        "result = np.percentile(array_2d, 50)\n",
        "print(\"50th percentile:\\n\", result)\n",
        "# quantile()\n",
        "result = np.quantile(array_2d, 0.5)\n",
        "print(\"0.5th quantile:\\n\", result)\n",
        "# std()\n",
        "result = np.std(array_2d)\n",
        "print(\"Standard deviation:\\n\", result)\n",
        "# var()\n",
        "result = np.var(array_2d)\n",
        "print(\"Variance:\\n\", result)\n",
        "# average()\n",
        "result = np.average(array_2d)\n",
        "print(\"Average:\\n\", result)\n",
        "# ptp()\n",
        "result = np.ptp(array_2d)\n",
        "print(\"Peak-to-peak value:\\n\", result)\n",
        "# corrcoef()\n",
        "result = np.corrcoef(array_2d)\n",
        "print(\"Correlation coefficient:\\n\", result)"
      ],
      "metadata": {
        "colab": {
          "base_uri": "https://localhost:8080/"
        },
        "id": "7juhPWjicreW",
        "outputId": "d9407900-d31b-485d-f6b3-c961d7a91390"
      },
      "execution_count": null,
      "outputs": [
        {
          "output_type": "stream",
          "name": "stdout",
          "text": [
            "Original array:\n",
            " [[10 20 30]\n",
            " [40 50 60]]\n",
            "Mean of elements:\n",
            " 35.0\n",
            "Median of elements:\n",
            " 35.0\n",
            "50th percentile:\n",
            " 35.0\n",
            "0.5th quantile:\n",
            " 35.0\n",
            "Standard deviation:\n",
            " 17.07825127659933\n",
            "Variance:\n",
            " 291.6666666666667\n",
            "Average:\n",
            " 35.0\n",
            "Peak-to-peak value:\n",
            " 50\n",
            "Correlation coefficient:\n",
            " [[1. 1.]\n",
            " [1. 1.]]\n"
          ]
        }
      ]
    },
    {
      "cell_type": "code",
      "source": [
        "import numpy as np\n",
        "array_2d = np.array([[10, 20, 30], [40, 50, 60]])\n",
        "print(\"Original array:\\n\", array_2d)\n",
        "\n",
        "sum_along_axis_0 = np.sum(array_2d, axis=0)\n",
        "print('sum_along_axis_0 :',sum_along_axis_0)\n",
        "\n",
        "sum_along_axis_1 = np.sum(array_2d, axis=1)\n",
        "print(\"sum_along_axis_1:\",sum_along_axis_1)\n"
      ],
      "metadata": {
        "colab": {
          "base_uri": "https://localhost:8080/"
        },
        "id": "BDx2Y19GdDfD",
        "outputId": "8155ec42-611a-4552-c25a-d5d89470c1fe"
      },
      "execution_count": null,
      "outputs": [
        {
          "output_type": "stream",
          "name": "stdout",
          "text": [
            "Original array:\n",
            " [[10 20 30]\n",
            " [40 50 60]]\n",
            "sum_along_axis_0 : [50 70 90]\n",
            "sum_along_axis_1: [ 60 150]\n"
          ]
        }
      ]
    },
    {
      "cell_type": "code",
      "source": [
        "# Set operations in numpy\n",
        "import numpy as np\n",
        "array_1d = np.array([10, 20, 30, 40, 50, 60, 70, 50,10,20,80, 90])\n",
        "print(\"Original array:\\n\", array_1d)\n",
        "\n",
        "# unique()\n",
        "result = np.unique(array_1d)\n",
        "print(\"Unique elements:\\n\", result)"
      ],
      "metadata": {
        "id": "W_lGpoBan13l",
        "colab": {
          "base_uri": "https://localhost:8080/"
        },
        "outputId": "81e4470c-5c5f-40b0-d361-9e916536bb97"
      },
      "execution_count": null,
      "outputs": [
        {
          "output_type": "stream",
          "name": "stdout",
          "text": [
            "Original array:\n",
            " [10 20 30 40 50 60 70 50 10 20 80 90]\n",
            "Unique elements:\n",
            " [10 20 30 40 50 60 70 80 90]\n"
          ]
        }
      ]
    },
    {
      "cell_type": "markdown",
      "source": [
        "### **Intersection, Union, and Differences**"
      ],
      "metadata": {
        "id": "bmziypBt7xyr"
      }
    },
    {
      "cell_type": "code",
      "source": [
        "import numpy as np\n",
        "\n",
        "arr1 = np.array([10, 20, 30, 40])\n",
        "arr2 = np.array([30, 40, 50, 60])\n",
        "print(\"Array 1:\", arr1)\n",
        "print(\"Array 2:\", arr2)\n",
        "\n",
        "# setdiff1d()\n",
        "intersection = np.intersect1d(arr1, arr2)\n",
        "print(\"Intersection:\", intersection)\n"
      ],
      "metadata": {
        "colab": {
          "base_uri": "https://localhost:8080/"
        },
        "id": "zfrl0diuQx-r",
        "outputId": "65674fb9-9a0b-43df-ffd0-4c5224530f39"
      },
      "execution_count": null,
      "outputs": [
        {
          "output_type": "stream",
          "name": "stdout",
          "text": [
            "Array 1: [10 20 30 40]\n",
            "Array 2: [30 40 50 60]\n",
            "Intersection: [30 40]\n"
          ]
        }
      ]
    },
    {
      "cell_type": "code",
      "source": [
        "arr1 = np.array([10, 20, 30, 40])\n",
        "arr2 = np.array([30, 40, 50, 60])\n",
        "print(\"Array 1:\", arr1)\n",
        "print(\"Array 2:\", arr2)\n",
        "\n",
        "# union1d()\n",
        "union = np.union1d(arr1, arr2)\n",
        "print(\"Union:\", union)\n"
      ],
      "metadata": {
        "colab": {
          "base_uri": "https://localhost:8080/"
        },
        "id": "EFMHIU8JWTq3",
        "outputId": "09f61e2d-0679-4c86-9ece-b9dd6e71e951"
      },
      "execution_count": null,
      "outputs": [
        {
          "output_type": "stream",
          "name": "stdout",
          "text": [
            "Array 1: [10 20 30 40]\n",
            "Array 2: [30 40 50 60]\n",
            "Union: [10 20 30 40 50 60]\n"
          ]
        }
      ]
    },
    {
      "cell_type": "code",
      "source": [
        "arr1 = np.array([10, 20, 30, 40])\n",
        "arr2 = np.array([30, 40, 50, 60])\n",
        "print(\"Array 1:\", arr1)\n",
        "print(\"Array 2:\", arr2)\n",
        "\n",
        "# setdiff1d()\n",
        "set_difference = np.setdiff1d(arr1, arr2)\n",
        "print(\"Set Difference (arr1-arr2):\", set_difference)"
      ],
      "metadata": {
        "colab": {
          "base_uri": "https://localhost:8080/"
        },
        "id": "cmqYPa31YlSI",
        "outputId": "cdd8da04-7d75-4a9b-beee-7f6e1cba46f7"
      },
      "execution_count": null,
      "outputs": [
        {
          "output_type": "stream",
          "name": "stdout",
          "text": [
            "Array 1: [10 20 30 40]\n",
            "Array 2: [30 40 50 60]\n",
            "Set Difference (arr1-arr2): [10 20]\n"
          ]
        }
      ]
    },
    {
      "cell_type": "code",
      "source": [
        "arr1 = np.array([10, 20, 30, 40])\n",
        "arr2 = np.array([30, 40, 50, 60])\n",
        "print(\"Array 1:\", arr1)\n",
        "print(\"Array 2:\", arr2)\n",
        "\n",
        "sym_diff = np.setxor1d(arr1, arr2)\n",
        "print(\"Symmetric Difference:\", sym_diff)\n"
      ],
      "metadata": {
        "colab": {
          "base_uri": "https://localhost:8080/"
        },
        "id": "Cjntj8z4dk9O",
        "outputId": "84997b14-d4a9-4d5a-e1e3-5a9f52cbf50d"
      },
      "execution_count": null,
      "outputs": [
        {
          "output_type": "stream",
          "name": "stdout",
          "text": [
            "Array 1: [10 20 30 40]\n",
            "Array 2: [30 40 50 60]\n",
            "Symmetric Difference: [10 20 50 60]\n"
          ]
        }
      ]
    },
    {
      "cell_type": "markdown",
      "source": [
        "### **Membership Tests**"
      ],
      "metadata": {
        "id": "-uwQSjK48LZz"
      }
    },
    {
      "cell_type": "code",
      "source": [
        "import numpy as np\n",
        "\n",
        "arr = np.array([10, 20, 30,  40, 50])\n",
        "print(\"Original array:\", arr)\n",
        "\n",
        "element = 30\n",
        "is_member = np.isin(element, arr)\n",
        "print(f\"Is {element} in the array? {is_member}\")\n",
        "\n",
        "elements = [20, 40, 60]\n",
        "are_members = np.isin(elements, arr)\n",
        "print(f\"Are {elements} in the array? {are_members}\")\n"
      ],
      "metadata": {
        "colab": {
          "base_uri": "https://localhost:8080/"
        },
        "id": "4edEMSQAweOD",
        "outputId": "6daaf433-ca20-41f0-b13a-0808fcdc6269"
      },
      "execution_count": null,
      "outputs": [
        {
          "output_type": "stream",
          "name": "stdout",
          "text": [
            "Original array: [10 20 30 40 50]\n",
            "Is 30 in the array? True\n",
            "Are [20, 40, 60] in the array? [ True  True False]\n"
          ]
        }
      ]
    },
    {
      "cell_type": "code",
      "source": [
        "import numpy as np\n",
        "\n",
        "# Define two arrays\n",
        "arr1 = np.array([10, 20, 30, 40, 50])\n",
        "arr2 = np.array([30, 40, 60, 70])\n",
        "\n",
        "# Use np.in1d to check if elements of arr1 are in arr2\n",
        "result = np.in1d(arr1, arr2)\n",
        "\n",
        "print(\"arr1:\", arr1)\n",
        "print(\"arr2:\", arr2)\n",
        "print(\"Is each element of arr1 in arr2?\", result)\n"
      ],
      "metadata": {
        "colab": {
          "base_uri": "https://localhost:8080/"
        },
        "id": "jGPpEeyD0WCR",
        "outputId": "d86cccc9-0c1a-4dd7-8e2e-1ccf58091ab0"
      },
      "execution_count": null,
      "outputs": [
        {
          "output_type": "stream",
          "name": "stdout",
          "text": [
            "arr1: [10 20 30 40 50]\n",
            "arr2: [30 40 60 70]\n",
            "Is each element of arr1 in arr2? [False False  True  True False]\n"
          ]
        }
      ]
    },
    {
      "cell_type": "markdown",
      "source": [
        "###\t**Finiteness and Special Values:**"
      ],
      "metadata": {
        "id": "WLIEBR40OWUv"
      }
    },
    {
      "cell_type": "code",
      "source": [
        "import numpy as np\n",
        "\n",
        "arr = np.array([11, np.nan, np.inf, -np.inf, 12])\n",
        "print(\"Original array:\", arr)\n",
        "finite_elements = np.isfinite(arr)\n",
        "print(\"Finite Elements:\", finite_elements)\n"
      ],
      "metadata": {
        "colab": {
          "base_uri": "https://localhost:8080/"
        },
        "id": "Ciu5B70J4roc",
        "outputId": "78bcfdb0-dd6b-4041-9747-07e64ad5ef96"
      },
      "execution_count": null,
      "outputs": [
        {
          "output_type": "stream",
          "name": "stdout",
          "text": [
            "Original array: [ 11.  nan  inf -inf  12.]\n",
            "Finite Elements: [ True False False False  True]\n"
          ]
        }
      ]
    },
    {
      "cell_type": "code",
      "source": [
        "import numpy as np\n",
        "\n",
        "arr = np.array([11, np.nan, np.inf, -np.inf, 12])\n",
        "print(\"Original array:\", arr)\n",
        "infinite_elements = np.isinf(arr)\n",
        "print(\"Infinite Elements:\", infinite_elements)\n"
      ],
      "metadata": {
        "colab": {
          "base_uri": "https://localhost:8080/"
        },
        "id": "a_bQPjl2QD9q",
        "outputId": "3908e6ed-cbb8-47f4-e37e-5bdcd0e55703"
      },
      "execution_count": null,
      "outputs": [
        {
          "output_type": "stream",
          "name": "stdout",
          "text": [
            "Original array: [ 11.  nan  inf -inf  12.]\n",
            "Infinite Elements: [False False  True  True False]\n"
          ]
        }
      ]
    },
    {
      "cell_type": "code",
      "source": [
        "import numpy as np\n",
        "\n",
        "arr = np.array([11, np.nan, np.inf, -np.inf, 12])\n",
        "print(\"Original array:\", arr)\n",
        "nan_elements = np.isnan(arr)\n",
        "print(\"NaN Elements:\", nan_elements)\n"
      ],
      "metadata": {
        "colab": {
          "base_uri": "https://localhost:8080/"
        },
        "id": "dxyQfFyPQcJD",
        "outputId": "da0e22a3-eab3-4988-9ab3-2b302b5d873b"
      },
      "execution_count": null,
      "outputs": [
        {
          "output_type": "stream",
          "name": "stdout",
          "text": [
            "Original array: [ 11.  nan  inf -inf  12.]\n",
            "NaN Elements: [False  True False False False]\n"
          ]
        }
      ]
    },
    {
      "cell_type": "markdown",
      "source": [
        "### **Logical functions in NumPy:**"
      ],
      "metadata": {
        "id": "k4AJXOsexXT4"
      }
    },
    {
      "cell_type": "code",
      "source": [
        "import numpy as np\n",
        "array_1d = np.array([10, 20, 30, 40, 50])\n",
        "print(\"Original array:\\n\", array_1d)\n",
        "\n",
        "# logical_and()\n",
        "result = np.logical_and(array_1d > 20, array_1d < 50)\n",
        "print(\"Logical and:\\n\", result)"
      ],
      "metadata": {
        "colab": {
          "base_uri": "https://localhost:8080/"
        },
        "id": "l4-qlWfNQrwV",
        "outputId": "6793be8d-0389-480f-ec7e-0a7260f0957a"
      },
      "execution_count": null,
      "outputs": [
        {
          "output_type": "stream",
          "name": "stdout",
          "text": [
            "Original array:\n",
            " [10 20 30 40 50]\n",
            "Logical and:\n",
            " [False False  True  True False]\n"
          ]
        }
      ]
    },
    {
      "cell_type": "code",
      "source": [
        "import numpy as np\n",
        "array_1d = np.array([10, 20, 30, 40, 50])\n",
        "print(\"Original array:\\n\", array_1d)\n",
        "\n",
        "# logical_or()\n",
        "result = np.logical_or(array_1d > 20, array_1d < 50)\n",
        "print(\"Logical or:\\n\", result)"
      ],
      "metadata": {
        "colab": {
          "base_uri": "https://localhost:8080/"
        },
        "id": "KbcsyP2nx8nZ",
        "outputId": "75a620a9-17ed-4b86-e7b9-e82b21467357"
      },
      "execution_count": null,
      "outputs": [
        {
          "output_type": "stream",
          "name": "stdout",
          "text": [
            "Original array:\n",
            " [10 20 30 40 50]\n",
            "Logical or:\n",
            " [ True  True  True  True  True]\n"
          ]
        }
      ]
    },
    {
      "cell_type": "code",
      "source": [
        "import numpy as np\n",
        "array_1d = np.array([10, 20, 30, 40, 50])\n",
        "print(\"Original array:\\n\", array_1d)\n",
        "\n",
        "# logical_not()\n",
        "result = np.logical_not(array_1d > 20)\n",
        "print(\"Logical not:\\n\", result)"
      ],
      "metadata": {
        "colab": {
          "base_uri": "https://localhost:8080/"
        },
        "id": "CnSvNsmdyKC8",
        "outputId": "79d922b9-0d70-4487-c5ce-e0f5e38bea25"
      },
      "execution_count": null,
      "outputs": [
        {
          "output_type": "stream",
          "name": "stdout",
          "text": [
            "Original array:\n",
            " [10 20 30 40 50]\n",
            "Logical not:\n",
            " [ True  True False False False]\n"
          ]
        }
      ]
    },
    {
      "cell_type": "code",
      "source": [
        "import numpy as np\n",
        "array_1d = np.array([10, 20, 30, 40, 50])\n",
        "print(\"Original array:\\n\", array_1d)\n",
        "\n",
        "# logical_xor()\n",
        "result = np.logical_xor(array_1d > 20, array_1d < 50)\n",
        "print(\"Logical xor:\\n\", result)"
      ],
      "metadata": {
        "colab": {
          "base_uri": "https://localhost:8080/"
        },
        "id": "rfQ22BhoyJ_i",
        "outputId": "f6337272-49a7-43d8-84f7-5ce7128463b9"
      },
      "execution_count": null,
      "outputs": [
        {
          "output_type": "stream",
          "name": "stdout",
          "text": [
            "Original array:\n",
            " [10 20 30 40 50]\n",
            "Logical xor:\n",
            " [ True  True False False  True]\n"
          ]
        }
      ]
    },
    {
      "cell_type": "markdown",
      "source": [
        "### **Sorting in NumPy:**"
      ],
      "metadata": {
        "id": "XXrbU19U5tjQ"
      }
    },
    {
      "cell_type": "code",
      "source": [
        "# sorting an array in ascending order\n",
        "import numpy as np\n",
        "unsorted_array = np.array([10, 50, 20, 40, 30])\n",
        "print(\"Original array:\\n\", array_1d)\n",
        "\n",
        "# sort()\n",
        "sorted_array = np.sort(unsorted_array)\n",
        "print(\"Sorted array:\\n\", sorted_array)"
      ],
      "metadata": {
        "colab": {
          "base_uri": "https://localhost:8080/"
        },
        "id": "C2jq1mhg5yQT",
        "outputId": "4a21792e-6b98-4f58-fc10-82c6f0f7d0c0"
      },
      "execution_count": null,
      "outputs": [
        {
          "output_type": "stream",
          "name": "stdout",
          "text": [
            "Original array:\n",
            " [10 50 20 40 30]\n",
            "Sorted array:\n",
            " [10 20 30 40 50]\n"
          ]
        }
      ]
    },
    {
      "cell_type": "code",
      "source": [
        "# inplace sorting an array in ascending order\n",
        "import numpy as np\n",
        "arr = np.array([10, 50, 20, 40, 30])\n",
        "print(\"Original array:\\n\", array_1d)\n",
        "\n",
        "# using sort() to sort an array inplace\n",
        "arr.sort()\n",
        "print(\"Sorted array:\\n\", arr)\n"
      ],
      "metadata": {
        "colab": {
          "base_uri": "https://localhost:8080/"
        },
        "id": "OHUw9gqWyRuj",
        "outputId": "89884766-7774-4fde-fa62-6261d9e99d45"
      },
      "execution_count": null,
      "outputs": [
        {
          "output_type": "stream",
          "name": "stdout",
          "text": [
            "Original array:\n",
            " [10 50 20 40 30]\n",
            "Sorted array:\n",
            " [10 20 30 40 50]\n"
          ]
        }
      ]
    },
    {
      "cell_type": "code",
      "source": [
        "import numpy as np\n",
        "arr = np.array([10, 50, 20, 40, 30])\n",
        "print(\"Original array:\\n\", array_1d)\n",
        "\n",
        "# using argsort()\n",
        "result = np.argsort(arr)\n",
        "print(\"Sorted array indices:\\n\", result)\n"
      ],
      "metadata": {
        "colab": {
          "base_uri": "https://localhost:8080/"
        },
        "id": "-BkfOgL78DMm",
        "outputId": "6a53f278-84cf-430b-8fd3-0cbbaf85bd19"
      },
      "execution_count": null,
      "outputs": [
        {
          "output_type": "stream",
          "name": "stdout",
          "text": [
            "Original array:\n",
            " [10 50 20 40 30]\n",
            "Sorted array indices:\n",
            " [0 2 4 3 1]\n"
          ]
        }
      ]
    },
    {
      "cell_type": "code",
      "source": [
        "import numpy as np\n",
        "array_2d = np.array([[30, 80, 10], [60, 50, 40]])\n",
        "print(\"Original array:\\n\", array_2d)\n",
        "\n",
        "# using sort() with axis=0\n",
        "sorted_array = np.sort(array_2d, axis=0)\n",
        "print(\"Sorted array along the axis=0:\\n\", sorted_array)\n",
        "\n",
        "# using sort() with axis=1\n",
        "sorted_array = np.sort(array_2d, axis=1)\n",
        "print(\"Sorted array along the axis=1:\\n\", sorted_array)"
      ],
      "metadata": {
        "colab": {
          "base_uri": "https://localhost:8080/"
        },
        "id": "1rI83hCq9IGz",
        "outputId": "676515c3-5ead-48a5-ec69-9d00b600bded"
      },
      "execution_count": null,
      "outputs": [
        {
          "output_type": "stream",
          "name": "stdout",
          "text": [
            "Original array:\n",
            " [[30 80 10]\n",
            " [60 50 40]]\n",
            "Sorted array along the axis=0:\n",
            " [[30 50 10]\n",
            " [60 80 40]]\n",
            "Sorted array along the axis=1:\n",
            " [[10 30 80]\n",
            " [40 50 60]]\n"
          ]
        }
      ]
    },
    {
      "cell_type": "markdown",
      "source": [
        "### **Searching in NumPy**"
      ],
      "metadata": {
        "id": "KryZma3UZQQP"
      }
    },
    {
      "cell_type": "code",
      "source": [
        "import numpy as np\n",
        "arr = np.array([0,11, 8, 12, 2, 29, 1, 16, 0])\n",
        "print(\"Original array:\\n\", arr)\n",
        "nonzero_elements = np.nonzero(arr)\n",
        "print(\"Indices of nonzero elements:\\n\", nonzero_elements)"
      ],
      "metadata": {
        "colab": {
          "base_uri": "https://localhost:8080/"
        },
        "id": "dk79TlwdVub1",
        "outputId": "2d254244-e3a0-4eee-e501-ebc9a07371c8"
      },
      "execution_count": null,
      "outputs": [
        {
          "output_type": "stream",
          "name": "stdout",
          "text": [
            "Original array:\n",
            " [ 0 11  8 12  2 29  1 16  0]\n",
            "Indices of nonzero elements:\n",
            " (array([1, 2, 3, 4, 5, 6, 7]),)\n"
          ]
        }
      ]
    },
    {
      "cell_type": "code",
      "source": [
        "# np.where() function and its various use cases\n",
        "import numpy as np\n",
        "\n",
        "# Creating a sample array\n",
        "arr = np.array([11, 8, 12, 2, 29, 1, 16])\n",
        "print(\"Original array:\\n\", arr)\n",
        "\n",
        "# Variation 1: Finding indices where elements are greater than 5\n",
        "indices = np.where(arr > 5)\n",
        "print(\"\\nIndices where elements are greater than 5:\", indices)\n",
        "\n",
        "# Variation 2: Creating a new array with conditional replacement\n",
        "# 1 if arr > 5, -1 otherwise\n",
        "arr_filtered = np.where(arr > 5, 1, -1)\n",
        "print(\"\\nNew array with conditional replacement:\", arr_filtered)\n",
        "\n",
        "# Variation 3: Creating a new array with multiple conditional replacements\n",
        "# 1 if arr > 7, -1 if arr < 3, otherwise 0\n",
        "nested_arr = np.where(arr > 7, 1, np.where(arr < 3, -1, 0))\n",
        "print(\"\\nArray with multiple conditional replacements:\", nested_arr)\n"
      ],
      "metadata": {
        "colab": {
          "base_uri": "https://localhost:8080/"
        },
        "id": "frkx62FwVLha",
        "outputId": "e4c59f2e-89b7-40d2-b1fb-b7660f368d57"
      },
      "execution_count": null,
      "outputs": [
        {
          "output_type": "stream",
          "name": "stdout",
          "text": [
            "Original array:\n",
            " [11  8 12  2 29  1 16]\n",
            "\n",
            "Indices where elements are greater than 5: (array([0, 1, 2, 4, 6]),)\n",
            "\n",
            "New array with conditional replacement: [ 1  1  1 -1  1 -1  1]\n",
            "\n",
            "Array with multiple conditional replacements: [ 1  1  1 -1  1 -1  1]\n"
          ]
        }
      ]
    },
    {
      "cell_type": "code",
      "source": [
        "#np.searchsorted() function\\\n",
        "import numpy as np\n",
        "\n",
        "# Creating a sorted array\n",
        "sorted_array = np.array([10, 30, 50, 70, 90])\n",
        "print(\"Sorted array:\\n\", sorted_array)\n",
        "\n",
        "# Values to be inserted\n",
        "values_to_insert = [20, 60, 100]\n",
        "print(\"Values to be inserted:\\n\", values_to_insert)\n",
        "\n",
        "# Using np.searchsorted\n",
        "insert_positions = np.searchsorted(sorted_array, values_to_insert)\n",
        "print(\"Indices to insert values:\", insert_positions)\n"
      ],
      "metadata": {
        "colab": {
          "base_uri": "https://localhost:8080/"
        },
        "id": "W8Yf0SHic8P7",
        "outputId": "ffa45b22-e99a-4318-f350-44cf5bdf1724"
      },
      "execution_count": null,
      "outputs": [
        {
          "output_type": "stream",
          "name": "stdout",
          "text": [
            "Sorted array:\n",
            " [10 30 50 70 90]\n",
            "Values to be inserted:\n",
            " [20, 60, 100]\n",
            "Indices to insert values: [1 3 5]\n"
          ]
        }
      ]
    },
    {
      "cell_type": "code",
      "source": [],
      "metadata": {
        "id": "ZCIV5hwOHJdp"
      },
      "execution_count": null,
      "outputs": []
    }
  ]
}