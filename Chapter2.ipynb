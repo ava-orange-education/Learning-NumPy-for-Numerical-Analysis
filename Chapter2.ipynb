{
  "nbformat": 4,
  "nbformat_minor": 0,
  "metadata": {
    "colab": {
      "provenance": []
    },
    "kernelspec": {
      "name": "python3",
      "display_name": "Python 3"
    },
    "language_info": {
      "name": "python"
    }
  },
  "cells": [
    {
      "cell_type": "code",
      "execution_count": null,
      "metadata": {
        "colab": {
          "base_uri": "https://localhost:8080/"
        },
        "id": "0gDqWG0-UQaE",
        "outputId": "96a23c2e-b7b8-4f4c-97e2-82b183a30ff5"
      },
      "outputs": [
        {
          "output_type": "stream",
          "name": "stdout",
          "text": [
            "Installed Python version is  : 3.10.12 (main, Jun 11 2023, 05:26:28) [GCC 11.4.0] \n",
            "Installed NumPy version is   : 1.23.5 \n"
          ]
        }
      ],
      "source": [
        "#Checking for the version of Python and NumPy  installed\n",
        "import numpy as np\n",
        "import sys\n",
        "print(\"Installed Python version is  : {0} \".format(sys.version))\n",
        "print(\"Installed NumPy version is   : {0} \".format(np.__version__))"
      ]
    },
    {
      "cell_type": "markdown",
      "source": [
        "##1. **np.array(arr, dtype=None, copy=True, order='K', subok=False, ndmin=0):**\n",
        "## Creating NumPy Array from Python List or Tuple or Iterable\n",
        "   - Creates a NumPy array from a list or iterable `arr`.\n",
        "   - Use when you have data in a Python list or similar structure that you want to convert to a NumPy array."
      ],
      "metadata": {
        "id": "57YfrMbxWf5P"
      }
    },
    {
      "cell_type": "code",
      "source": [
        "# Creating NumPy array from Python List\n",
        "import numpy as np\n",
        "num_list = [1,2,3,4,5]\n",
        "num_array = np.array(num_list)\n",
        "print(num_array)\n",
        "print(type(num_array))"
      ],
      "metadata": {
        "colab": {
          "base_uri": "https://localhost:8080/"
        },
        "id": "oe0wV7PuUZxS",
        "outputId": "4fad75a1-0c6a-4502-caea-77d86c3fd1f9"
      },
      "execution_count": null,
      "outputs": [
        {
          "output_type": "stream",
          "name": "stdout",
          "text": [
            "[1 2 3 4 5]\n",
            "<class 'numpy.ndarray'>\n"
          ]
        }
      ]
    },
    {
      "cell_type": "code",
      "source": [
        "# Creating NumPy array from Python tuple\n",
        "import numpy as np\n",
        "num_tuple = (1,2,3,4,5)\n",
        "num_array = np.array(num_tuple)\n",
        "print(num_array)\n",
        "print(type(num_array))"
      ],
      "metadata": {
        "colab": {
          "base_uri": "https://localhost:8080/"
        },
        "id": "2fJuEEUve27J",
        "outputId": "08b2370c-ae16-47a8-bae9-46d92b9819d0"
      },
      "execution_count": null,
      "outputs": [
        {
          "output_type": "stream",
          "name": "stdout",
          "text": [
            "[1 2 3 4 5]\n",
            "<class 'numpy.ndarray'>\n"
          ]
        }
      ]
    },
    {
      "cell_type": "code",
      "source": [
        "# 2-dimensional array from Python List\n",
        "import numpy as np\n",
        "num_list = [[1,2,3],[4,5,6]]\n",
        "num_array = np.array(num_list)\n",
        "print(num_array)\n",
        "print(type(num_array))\n"
      ],
      "metadata": {
        "colab": {
          "base_uri": "https://localhost:8080/"
        },
        "id": "YWt7oZ3Afh5d",
        "outputId": "dfc1516e-00bf-4d2a-c94a-0e20302f4e90"
      },
      "execution_count": null,
      "outputs": [
        {
          "output_type": "stream",
          "name": "stdout",
          "text": [
            "[[1 2 3]\n",
            " [4 5 6]]\n",
            "<class 'numpy.ndarray'>\n"
          ]
        }
      ]
    },
    {
      "cell_type": "markdown",
      "source": [
        "##2. **np.empty(shape, dtype=float, order='C'):**\n",
        "   - Creates an uninitialized array with the given shape.\n",
        "   - Use when you need an array quickly for data storage but don't require specific initial values."
      ],
      "metadata": {
        "id": "boyD4j0Df-od"
      }
    },
    {
      "cell_type": "code",
      "source": [
        "# creating NumPy array from usning np.empty\n",
        "import numpy as np\n",
        "num_array = np.empty((2,3)) #2 rows and 3 columns\n",
        "print(num_array) #empty array\n",
        "print(type(num_array))\n"
      ],
      "metadata": {
        "colab": {
          "base_uri": "https://localhost:8080/"
        },
        "id": "fISA_VVEf3oy",
        "outputId": "efbd08fb-f444-4c5f-9710-780688c2896a"
      },
      "execution_count": null,
      "outputs": [
        {
          "output_type": "stream",
          "name": "stdout",
          "text": [
            "[[4.76237835e-310 0.00000000e+000 0.00000000e+000]\n",
            " [0.00000000e+000 5.82634115e+303 5.45942539e-321]]\n",
            "<class 'numpy.ndarray'>\n"
          ]
        }
      ]
    },
    {
      "cell_type": "markdown",
      "source": [
        "## **3. np.empty_like(prototype, dtype=None, order='K', subok=True, shape=None):**\n",
        "   - Creates a new array with the same shape and data type as the `prototype`.\n",
        "   - Use when you want an empty array with the same properties as an existing array.\n",
        "\n",
        "The np.empty_like() function in NumPy is used to create a new NumPy array with the same shape and data type as an existing array or array-like object. However, unlike np.empty(), it doesn't initialize the elements of the new array, leaving them with arbitrary values (possibly whatever was already in that memory location)."
      ],
      "metadata": {
        "id": "zuVPJnKuktX3"
      }
    },
    {
      "cell_type": "code",
      "source": [
        "#Example:1 Creating NumPy array from using np.empty_like()\n",
        "import numpy as np\n",
        "num_array = np.array([[2,0],[1,2]])\n",
        "arr_empty_like = np.empty_like(num_array)\n",
        "\n",
        "print(\"initial array:\\n\",num_array)\n",
        "print(\"data type of initial array :\\n\",num_array.dtype)\n",
        "print(\"shape of initial array :\\n\",num_array.shape)\n",
        "\n",
        "print(\"arr_empty_like: \\n\",arr_empty_like)\n",
        "print(\"data type of arr_empty_like: \\n\",arr_empty_like.dtype)\n",
        "print(\"shape of arr_empty_like: \\n\",arr_empty_like.shape)"
      ],
      "metadata": {
        "colab": {
          "base_uri": "https://localhost:8080/"
        },
        "id": "r5AcBJmrgT6e",
        "outputId": "c5f98e2c-c050-4686-efc7-738101bd3b8b"
      },
      "execution_count": null,
      "outputs": [
        {
          "output_type": "stream",
          "name": "stdout",
          "text": [
            "initial array:\n",
            " [[2 0]\n",
            " [1 2]]\n",
            "data type of initial array :\n",
            " int64\n",
            "shape of initial array :\n",
            " (2, 2)\n",
            "arr_empty_like: \n",
            " [[100665250702616               0]\n",
            " [              0               0]]\n",
            "data type of arr_empty_like: \n",
            " int64\n",
            "shape of arr_empty_like: \n",
            " (2, 2)\n"
          ]
        }
      ]
    },
    {
      "cell_type": "code",
      "source": [
        "#Example:2 Creating NumPy array from using np.empty_like() with arry_like object\n",
        "import numpy as np\n",
        "arr_like = ([ [1,1],[1,2]])  # array_like\n",
        "num_array1 = np.empty_like(arr_like)\n",
        "print(num_array1)\n",
        "print(type(num_array1))"
      ],
      "metadata": {
        "colab": {
          "base_uri": "https://localhost:8080/"
        },
        "id": "n1WergkrlMuj",
        "outputId": "2f9f94fa-d5be-4ee6-febd-3b632caa5d66"
      },
      "execution_count": null,
      "outputs": [
        {
          "output_type": "stream",
          "name": "stdout",
          "text": [
            "[[2 0]\n",
            " [1 2]]\n",
            "<class 'numpy.ndarray'>\n"
          ]
        }
      ]
    },
    {
      "cell_type": "markdown",
      "source": [
        "## **Creating arrays which are filled with constant values.**\n",
        "\n",
        "### **4. np.zeros(shape, dtype=None, order='C'):**\n",
        "   - Creates an array filled with zeros.\n",
        "   - Use when you need an array with all elements set to 0."
      ],
      "metadata": {
        "id": "27Bgf5hpvX76"
      }
    },
    {
      "cell_type": "code",
      "source": [
        "#Creating NumPy array from using np.zeros()\n",
        "import numpy as np\n",
        "arr_with_zeros = np.zeros((2,3))\n",
        "print(arr_with_zeros)\n",
        "print(type(arr_with_zeros))"
      ],
      "metadata": {
        "colab": {
          "base_uri": "https://localhost:8080/"
        },
        "id": "jzIK_IXtoeV7",
        "outputId": "5429784c-cfd6-481f-a539-cbe06d75b443"
      },
      "execution_count": null,
      "outputs": [
        {
          "output_type": "stream",
          "name": "stdout",
          "text": [
            "[[0. 0. 0.]\n",
            " [0. 0. 0.]]\n",
            "<class 'numpy.ndarray'>\n"
          ]
        }
      ]
    },
    {
      "cell_type": "markdown",
      "source": [
        "### **5. np.zeros_like(prototype, dtype=None, order='K', subok=True, shape=None):**\n",
        "   - Creates a new array with the same shape and data type as the `prototype`, filled with zeros.\n",
        "   - Use when you want an array with the same properties as an existing array but filled with zeros."
      ],
      "metadata": {
        "id": "s2DbHlIcwo8w"
      }
    },
    {
      "cell_type": "code",
      "source": [
        "#Creating NumPy array from using np.zeros_like()\n",
        "import numpy as np\n",
        "num_array = np.array([[1,2],[3,4]])\n",
        "arr_zero_like = np.zeros_like(num_array)\n",
        "\n",
        "print(\"initial array:\\n\",num_array)\n",
        "print(\"data type of initial array :\\n\",num_array.dtype)\n",
        "print(\"shape of initial array :\\n\",num_array.shape)\n",
        "\n",
        "print(\"arr_zero_like: \\n\",arr_zero_like)\n",
        "print(\"data type of arr_zero_like: \\n\",arr_zero_like.dtype)\n",
        "print(\"shape of arr_zero_like: \\n\",arr_zero_like.shape)"
      ],
      "metadata": {
        "colab": {
          "base_uri": "https://localhost:8080/"
        },
        "id": "tkatv42_w7TV",
        "outputId": "6e557507-74ad-4412-914b-e812f9981936"
      },
      "execution_count": null,
      "outputs": [
        {
          "output_type": "stream",
          "name": "stdout",
          "text": [
            "initial array:\n",
            " [[1 2]\n",
            " [3 4]]\n",
            "data type of initial array :\n",
            " int64\n",
            "shape of initial array :\n",
            " (2, 2)\n",
            "arr_zero_like: \n",
            " [[0 0]\n",
            " [0 0]]\n",
            "data type of arr_zero_like: \n",
            " int64\n",
            "shape of arr_zero_like: \n",
            " (2, 2)\n"
          ]
        }
      ]
    },
    {
      "cell_type": "markdown",
      "source": [
        "### **6. np.ones(shape, dtype=None, order='C'):**\n",
        "   - Creates an array filled with ones.\n",
        "   - Use when you need an array with all elements set to 1."
      ],
      "metadata": {
        "id": "a5nS8GBFw__c"
      }
    },
    {
      "cell_type": "code",
      "source": [
        "#Creating NumPy array from using np.ones()\n",
        "import numpy as np\n",
        "arr_with_ones = np.ones((2,3))\n",
        "print(arr_with_ones)\n",
        "print(type(arr_with_ones))"
      ],
      "metadata": {
        "colab": {
          "base_uri": "https://localhost:8080/"
        },
        "id": "Lscd2z1Yw93H",
        "outputId": "80019f06-fdcb-4bce-badc-8bcb22842067"
      },
      "execution_count": null,
      "outputs": [
        {
          "output_type": "stream",
          "name": "stdout",
          "text": [
            "[[1. 1. 1.]\n",
            " [1. 1. 1.]]\n",
            "<class 'numpy.ndarray'>\n"
          ]
        }
      ]
    },
    {
      "cell_type": "code",
      "source": [
        "# creating 1-dimensional NumPy array from using np.zeros()\n",
        "import numpy as np\n",
        "arr_zeros_1d = np.zeros(3)\n",
        "print(arr_zeros_1d)\n",
        "print(type(arr_zeros_1d))\n"
      ],
      "metadata": {
        "colab": {
          "base_uri": "https://localhost:8080/"
        },
        "id": "JRrgPyTDnnYT",
        "outputId": "77bcdc35-658b-42ae-b85d-b1c8a097b84e"
      },
      "execution_count": null,
      "outputs": [
        {
          "output_type": "stream",
          "name": "stdout",
          "text": [
            "[0. 0. 0.]\n",
            "<class 'numpy.ndarray'>\n"
          ]
        }
      ]
    },
    {
      "cell_type": "code",
      "source": [
        "# creating 1-dimensional NumPy array from using np.ones()\n",
        "import numpy as np\n",
        "arr_ones_1d = np.ones(3)\n",
        "print(arr_ones_1d)\n",
        "print(type(arr_ones_1d))\n"
      ],
      "metadata": {
        "colab": {
          "base_uri": "https://localhost:8080/"
        },
        "id": "V8VoRc_Un7jT",
        "outputId": "d0dd958b-a661-4b31-ead9-d893ffa713c7"
      },
      "execution_count": null,
      "outputs": [
        {
          "output_type": "stream",
          "name": "stdout",
          "text": [
            "[1. 1. 1.]\n",
            "<class 'numpy.ndarray'>\n"
          ]
        }
      ]
    },
    {
      "cell_type": "markdown",
      "source": [],
      "metadata": {
        "id": "LgTfUgoew9fV"
      }
    },
    {
      "cell_type": "markdown",
      "source": [
        "### **7. np.ones_like(prototype, dtype=None, order='K', subok=True, shape=None):**\n",
        "   - Creates a new array with the same shape and data type as the `prototype`, filled with ones.\n",
        "   - Use when you want an array with the same properties as an existing array but filled with ones."
      ],
      "metadata": {
        "id": "dURHh6KlwH5K"
      }
    },
    {
      "cell_type": "code",
      "source": [
        "#Creating NumPy array from using np.ones_like()\n",
        "import numpy as np\n",
        "num_array = np.array([[1,2],[3,4]])\n",
        "arr_ones_like = np.ones_like(num_array)\n",
        "\n",
        "#printing initial array and its shape and data type\n",
        "print(\"initial array:\\n\",num_array)\n",
        "print(\"data type of initial array :\\n\",num_array.dtype)\n",
        "print(\"shape of initial array :\\n\",num_array.shape)\n",
        "\n",
        "#printing ones_like array and its shape and data type\n",
        "print(\"arr_ones_like: \\n\",arr_ones_like)\n",
        "print(\"data type of arr_ones_like: \\n\",arr_ones_like.dtype)\n",
        "print(\"shape of arr_ones_like: \\n\",arr_ones_like.shape)\n"
      ],
      "metadata": {
        "colab": {
          "base_uri": "https://localhost:8080/"
        },
        "id": "HHQUC5zmwuwo",
        "outputId": "36a4fedc-6f90-4999-d222-edb6eb2cec12"
      },
      "execution_count": null,
      "outputs": [
        {
          "output_type": "stream",
          "name": "stdout",
          "text": [
            "initial array:\n",
            " [[1 2]\n",
            " [3 4]]\n",
            "data type of initial array :\n",
            " int64\n",
            "shape of initial array :\n",
            " (2, 2)\n",
            "arr_ones_like: \n",
            " [[1 1]\n",
            " [1 1]]\n",
            "data type of arr_ones_like: \n",
            " int64\n",
            "shape of arr_ones_like: \n",
            " (2, 2)\n"
          ]
        }
      ]
    },
    {
      "cell_type": "markdown",
      "source": [
        "### **8. np.full(shape, fill_value, dtype=None, order='C'):**\n",
        "  - Creates an array filled with a specified value.\n",
        "  - Use when you need an array with all elements set to a specific value."
      ],
      "metadata": {
        "id": "d-JGnvUn1LFL"
      }
    },
    {
      "cell_type": "code",
      "source": [
        "#Creating NumPy array from using np.full()\n",
        "import numpy as np\n",
        "arr_full = np.full((2,3),5)\n",
        "print(arr_full)\n",
        "print(type(arr_full))"
      ],
      "metadata": {
        "colab": {
          "base_uri": "https://localhost:8080/"
        },
        "id": "OCcCySFsyORM",
        "outputId": "d22fa2f2-2d26-4575-a436-7753dad28834"
      },
      "execution_count": null,
      "outputs": [
        {
          "output_type": "stream",
          "name": "stdout",
          "text": [
            "[[5 5 5]\n",
            " [5 5 5]]\n",
            "<class 'numpy.ndarray'>\n"
          ]
        }
      ]
    },
    {
      "cell_type": "markdown",
      "source": [
        "#### **11. np.full_like(prototype, fill_value, dtype=None, order='K', subok=True, shape=None):**\n",
        "  - Creates a new array with the same shape and data type as the `prototype`, filled with a specified value.\n",
        "  - Use when you want an array with the same properties as an existing array but filled with a specific value."
      ],
      "metadata": {
        "id": "2NOpkFja2N-1"
      }
    },
    {
      "cell_type": "code",
      "source": [
        "#Creating NumPy array from using np.full_like()\n",
        "import numpy as np\n",
        "arr_ones= np.ones((2,3))\n",
        "arr_full_like = np.full_like(arr_ones,5)\n",
        "\n",
        "#printing initial array and its shape and data type\n",
        "print(\"initial array:\\n\",arr_ones)\n",
        "print(\"data type of initial array :\\n\",arr_ones.dtype)\n",
        "print(\"shape of initial array :\\n\",arr_ones.shape)\n",
        "\n",
        "#printing ones_like array and its shape and data type\n",
        "print(\"arr_ones_like: \\n\",arr_full_like)\n",
        "print(\"data type of arr_ones_like: \\n\",arr_full_like.dtype)\n",
        "print(\"shape of arr_ones_like: \\n\",arr_full_like.shape)"
      ],
      "metadata": {
        "colab": {
          "base_uri": "https://localhost:8080/"
        },
        "id": "CnICcAjx12Ck",
        "outputId": "15419f3e-d8c7-42b6-93df-1200ff134f3e"
      },
      "execution_count": null,
      "outputs": [
        {
          "output_type": "stream",
          "name": "stdout",
          "text": [
            "initial array:\n",
            " [[1. 1. 1.]\n",
            " [1. 1. 1.]]\n",
            "data type of initial array :\n",
            " float64\n",
            "shape of initial array :\n",
            " (2, 3)\n",
            "arr_ones_like: \n",
            " [[5. 5. 5.]\n",
            " [5. 5. 5.]]\n",
            "data type of arr_ones_like: \n",
            " float64\n",
            "shape of arr_ones_like: \n",
            " (2, 3)\n"
          ]
        }
      ]
    },
    {
      "cell_type": "markdown",
      "source": [
        "## **Creating Arrays populated with a Range.**"
      ],
      "metadata": {
        "id": "NbWmHd-EkeG2"
      }
    },
    {
      "cell_type": "markdown",
      "source": [
        "## np.arange():"
      ],
      "metadata": {
        "id": "n9XzEa8Cki_E"
      }
    },
    {
      "cell_type": "code",
      "source": [
        "#Example#1:Creating NumPy array from using np.arange()\n",
        "import numpy as np\n",
        "arr_arange = np.arange(10)\n",
        "print(arr_arange)\n",
        "print(type(arr_arange))"
      ],
      "metadata": {
        "colab": {
          "base_uri": "https://localhost:8080/"
        },
        "id": "cVsbpPjXkj14",
        "outputId": "8487d87f-6f21-4d4c-b6c4-c801b747ba31"
      },
      "execution_count": null,
      "outputs": [
        {
          "output_type": "stream",
          "name": "stdout",
          "text": [
            "[0 1 2 3 4 5 6 7 8 9]\n",
            "<class 'numpy.ndarray'>\n"
          ]
        }
      ]
    },
    {
      "cell_type": "code",
      "source": [
        "#Example#2:Creating NumPy array from using np.arange() with start, stop and step\n",
        "import numpy as np\n",
        "arr_arange = np.arange(1,10,2) # here 1 is start, 10 is stop and 2 is step\n",
        "print(arr_arange)\n",
        "print(type(arr_arange))"
      ],
      "metadata": {
        "colab": {
          "base_uri": "https://localhost:8080/"
        },
        "id": "vzjQOZR5lISD",
        "outputId": "e9fd9bb5-ed8e-4fda-ed37-ed423b26dc97"
      },
      "execution_count": null,
      "outputs": [
        {
          "output_type": "stream",
          "name": "stdout",
          "text": [
            "[1 3 5 7 9]\n",
            "<class 'numpy.ndarray'>\n"
          ]
        }
      ]
    },
    {
      "cell_type": "markdown",
      "source": [
        "## np.linspace():"
      ],
      "metadata": {
        "id": "XdC2MeVzkkyX"
      }
    },
    {
      "cell_type": "code",
      "source": [
        "#Example#3:Creating NumPy array from using np.linspace()\n",
        "import numpy as np\n",
        "#here 1 is start, 10 is stop and 4 is number of elements\n",
        "arr_linspace = np.linspace(1,10,4)\n",
        "print(arr_linspace)\n",
        "print(type(arr_linspace))"
      ],
      "metadata": {
        "colab": {
          "base_uri": "https://localhost:8080/"
        },
        "id": "bGw0_FdO2yGm",
        "outputId": "795a4061-e1c8-46d7-98f6-2853340fb6fd"
      },
      "execution_count": null,
      "outputs": [
        {
          "output_type": "stream",
          "name": "stdout",
          "text": [
            "[ 1.  4.  7. 10.]\n",
            "<class 'numpy.ndarray'>\n"
          ]
        }
      ]
    },
    {
      "cell_type": "markdown",
      "source": [
        "## **Creating Arrays Filled with Logarithmic Sequences**\n",
        "### **np.logspace():**"
      ],
      "metadata": {
        "id": "fG1s5wlCxxdh"
      }
    },
    {
      "cell_type": "code",
      "source": [],
      "metadata": {
        "id": "3U_1E7jZ79WZ"
      },
      "execution_count": null,
      "outputs": []
    },
    {
      "cell_type": "code",
      "source": [
        "#Creating NumPy array from using np.logspace()\n",
        "import numpy as np\n",
        "\n",
        "arr_logspace = np.logspace(1,2,11)\n",
        "print(arr_logspace)\n",
        "print(type(arr_logspace))"
      ],
      "metadata": {
        "colab": {
          "base_uri": "https://localhost:8080/"
        },
        "id": "7fLkZLjppv29",
        "outputId": "c3b5fabe-5c75-465a-a78d-b03440b79372"
      },
      "execution_count": null,
      "outputs": [
        {
          "output_type": "stream",
          "name": "stdout",
          "text": [
            "[ 10.          12.58925412  15.84893192  19.95262315  25.11886432\n",
            "  31.6227766   39.81071706  50.11872336  63.09573445  79.43282347\n",
            " 100.        ]\n",
            "<class 'numpy.ndarray'>\n"
          ]
        }
      ]
    },
    {
      "cell_type": "markdown",
      "source": [
        "## **Creating Arrays with random values**"
      ],
      "metadata": {
        "id": "6g94FbWrBMbP"
      }
    },
    {
      "cell_type": "markdown",
      "source": [
        "### **using np.random.random() and np.rand.rand()**"
      ],
      "metadata": {
        "id": "jsUKbiTv-aiD"
      }
    },
    {
      "cell_type": "code",
      "source": [
        "#Generating a single random number\n",
        "import numpy as np\n",
        "\n",
        "random_number1 = np.random.random()\n",
        "print(\"Random number using np.random.random() : \",random_number1)\n",
        "print(type(random_number1))\n",
        "\n",
        "random_number2 = np.random.rand()\n",
        "print(\"Random number using np.random.rand() : \",random_number2)\n",
        "print(type(random_number2))\n",
        "\n"
      ],
      "metadata": {
        "colab": {
          "base_uri": "https://localhost:8080/"
        },
        "id": "Ct50IBbA8C7J",
        "outputId": "dde0baa3-3b87-4978-856b-280eed344f14"
      },
      "execution_count": null,
      "outputs": [
        {
          "output_type": "stream",
          "name": "stdout",
          "text": [
            "Random number using np.random.random() :  0.7805291762864555\n",
            "<class 'float'>\n",
            "Random number using np.random.rand() :  0.11827442586893322\n",
            "<class 'float'>\n"
          ]
        }
      ]
    },
    {
      "cell_type": "code",
      "source": [
        "# Creating NumPy Array with random values with specified shape\n",
        "import numpy as np\n",
        "#using np.random.random()\n",
        "arr_random1 = np.random.random((2,3))\n",
        "print(\"Array with random values using np.random.random() : \\n\",arr_random1)\n",
        "print(type(arr_random1))\n",
        "\n",
        "##using np.random.rand()\n",
        "arr_random2 = np.random.rand(2,3)\n",
        "print(\"\\nArray with random values using np.random.rand() :\\n \",arr_random2)\n",
        "print(type(arr_random2))"
      ],
      "metadata": {
        "colab": {
          "base_uri": "https://localhost:8080/"
        },
        "id": "FoBJEUv4yFzC",
        "outputId": "cb50a0b9-ab5c-46e5-9c93-0b7ab7437d15"
      },
      "execution_count": null,
      "outputs": [
        {
          "output_type": "stream",
          "name": "stdout",
          "text": [
            "Array with random values using np.random.random() : \n",
            " [[0.6235637  0.38438171 0.29753461]\n",
            " [0.05671298 0.27265629 0.47766512]]\n",
            "<class 'numpy.ndarray'>\n",
            "\n",
            "Array with random values using np.random.rand() :\n",
            "  [[0.81216873 0.47997717 0.3927848 ]\n",
            " [0.83607876 0.33739616 0.64817187]]\n",
            "<class 'numpy.ndarray'>\n"
          ]
        }
      ]
    },
    {
      "cell_type": "markdown",
      "source": [
        "### using **np.random.seed()** to set the random seed so that we get the same random numbers every time"
      ],
      "metadata": {
        "id": "_LvyKl-a-M_o"
      }
    },
    {
      "cell_type": "code",
      "source": [
        "# Using np.random.seed()\n",
        "import numpy as np\n",
        "np.random.seed(0)\n",
        "arr_random = np.random.rand(2,3)\n",
        "print(arr_random)\n",
        "print(type(arr_random))"
      ],
      "metadata": {
        "colab": {
          "base_uri": "https://localhost:8080/"
        },
        "id": "5OL0miY-mIum",
        "outputId": "d62da5ed-a3b9-4eeb-dab6-b2a6e6c8a244"
      },
      "execution_count": null,
      "outputs": [
        {
          "output_type": "stream",
          "name": "stdout",
          "text": [
            "[[0.5488135  0.71518937 0.60276338]\n",
            " [0.54488318 0.4236548  0.64589411]]\n",
            "<class 'numpy.ndarray'>\n"
          ]
        }
      ]
    },
    {
      "cell_type": "markdown",
      "source": [
        "## **np.random.randn()**"
      ],
      "metadata": {
        "id": "zD-Sj182mJny"
      }
    },
    {
      "cell_type": "code",
      "source": [
        "#Using np.random.randn()\n",
        "import numpy as np\n",
        "np.random.seed(0)\n",
        "\n",
        "arr_random = np.random.randn(2,3)\n",
        "print(arr_random)\n",
        "print(type(arr_random))"
      ],
      "metadata": {
        "id": "OXjhdX1PByyB",
        "colab": {
          "base_uri": "https://localhost:8080/"
        },
        "outputId": "dcc2bf2e-2da2-4061-bd7b-b584e144a242"
      },
      "execution_count": null,
      "outputs": [
        {
          "output_type": "stream",
          "name": "stdout",
          "text": [
            "[[ 1.76405235  0.40015721  0.97873798]\n",
            " [ 2.2408932   1.86755799 -0.97727788]]\n",
            "<class 'numpy.ndarray'>\n"
          ]
        }
      ]
    },
    {
      "cell_type": "markdown",
      "source": [
        "## **np.random.randint()**"
      ],
      "metadata": {
        "id": "y8YiaEb-_eHJ"
      }
    },
    {
      "cell_type": "code",
      "source": [
        "# Using np.random.randint()\n",
        "import numpy as np\n",
        "np.random.seed(0)\n",
        "\n",
        "# here 0 is start, 10 is stop and (2,3) is shape\n",
        "arr_random = np.random.randint(0,10,(2,3))\n",
        "\n",
        "print(arr_random)\n",
        "print(type(arr_random))\n"
      ],
      "metadata": {
        "colab": {
          "base_uri": "https://localhost:8080/"
        },
        "id": "nC261IKHBryh",
        "outputId": "995eced0-3726-4794-f3e7-b180e70c7852"
      },
      "execution_count": null,
      "outputs": [
        {
          "output_type": "stream",
          "name": "stdout",
          "text": [
            "[[5 0 3]\n",
            " [3 7 9]]\n",
            "<class 'numpy.ndarray'>\n"
          ]
        }
      ]
    },
    {
      "cell_type": "markdown",
      "source": [
        "## **Attributes of a NumPy Array.**"
      ],
      "metadata": {
        "id": "d4KbmJez7F3G"
      }
    },
    {
      "cell_type": "code",
      "source": [
        "#Basic attributes of NumPy array\n",
        "import numpy as np\n",
        "arr = np.array([[1,2,3],[4,5,6]])\n",
        "print(\"Initial array :\\n\",arr)\n",
        "print(\"Shape of array : \",arr.shape)\n",
        "print(\"num of dimensions : \",arr.ndim)\n",
        "print(\"Size of array : \",arr.size)\n",
        "print(\"Datatype of array : \",arr.dtype)\n",
        "print(\"Itemsize of array : \",arr.itemsize)\n",
        "print(\"Nbytes of array : \",arr.nbytes)"
      ],
      "metadata": {
        "colab": {
          "base_uri": "https://localhost:8080/"
        },
        "id": "ohP8KwGh7H25",
        "outputId": "e61d9102-30e7-4911-ac5f-1f96ebaee48c"
      },
      "execution_count": null,
      "outputs": [
        {
          "output_type": "stream",
          "name": "stdout",
          "text": [
            "Initial array :\n",
            " [[1 2 3]\n",
            " [4 5 6]]\n",
            "num of dimensions :  2\n",
            "Shape of array :  (2, 3)\n",
            "Size of array :  6\n",
            "Datatype of array :  int64\n",
            "Itemsize of array :  8\n",
            "Nbytes of array :  48\n"
          ]
        }
      ]
    },
    {
      "cell_type": "code",
      "source": [],
      "metadata": {
        "id": "4Jkexm6W7sZt"
      },
      "execution_count": null,
      "outputs": []
    }
  ]
}